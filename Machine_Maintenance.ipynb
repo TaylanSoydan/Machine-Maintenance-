{
  "nbformat": 4,
  "nbformat_minor": 0,
  "metadata": {
    "kernelspec": {
      "display_name": "Python 3",
      "language": "python",
      "name": "python3"
    },
    "language_info": {
      "codemirror_mode": {
        "name": "ipython",
        "version": 3
      },
      "file_extension": ".py",
      "mimetype": "text/x-python",
      "name": "python",
      "nbconvert_exporter": "python",
      "pygments_lexer": "ipython3",
      "version": "3.7.3"
    },
    "colab": {
      "name": "Machine Maintenance.ipynb",
      "provenance": [],
      "collapsed_sections": []
    },
    "accelerator": "GPU"
  },
  "cells": [
    {
      "cell_type": "code",
      "metadata": {
        "colab": {
          "base_uri": "https://localhost:8080/"
        },
        "id": "UvStq9RLuZWj",
        "outputId": "7cdb5340-7ab5-4598-80af-ba1a523f10bc"
      },
      "source": [
        "!wget https://raw.githubusercontent.com/shadgriffin/machine_failure/master/equipment_failure_data_1.csv"
      ],
      "execution_count": 2,
      "outputs": [
        {
          "output_type": "stream",
          "text": [
            "--2021-06-04 11:07:11--  https://raw.githubusercontent.com/shadgriffin/machine_failure/master/equipment_failure_data_1.csv\n",
            "Resolving raw.githubusercontent.com (raw.githubusercontent.com)... 185.199.108.133, 185.199.110.133, 185.199.111.133, ...\n",
            "Connecting to raw.githubusercontent.com (raw.githubusercontent.com)|185.199.108.133|:443... connected.\n",
            "HTTP request sent, awaiting response... 200 OK\n",
            "Length: 11219474 (11M) [text/plain]\n",
            "Saving to: ‘equipment_failure_data_1.csv’\n",
            "\n",
            "equipment_failure_d 100%[===================>]  10.70M  31.6MB/s    in 0.3s    \n",
            "\n",
            "2021-06-04 11:07:12 (31.6 MB/s) - ‘equipment_failure_data_1.csv’ saved [11219474/11219474]\n",
            "\n"
          ],
          "name": "stdout"
        }
      ]
    },
    {
      "cell_type": "code",
      "metadata": {
        "colab": {
          "base_uri": "https://localhost:8080/"
        },
        "id": "9gGYk23Nuc-B",
        "outputId": "b1ed7a01-bc83-4bab-94eb-d6817453dc77"
      },
      "source": [
        "!wget https://raw.githubusercontent.com/shadgriffin/machine_failure/master/equipment_failure_data_2.csv"
      ],
      "execution_count": 3,
      "outputs": [
        {
          "output_type": "stream",
          "text": [
            "--2021-06-04 11:07:19--  https://raw.githubusercontent.com/shadgriffin/machine_failure/master/equipment_failure_data_2.csv\n",
            "Resolving raw.githubusercontent.com (raw.githubusercontent.com)... 185.199.108.133, 185.199.109.133, 185.199.110.133, ...\n",
            "Connecting to raw.githubusercontent.com (raw.githubusercontent.com)|185.199.108.133|:443... connected.\n",
            "HTTP request sent, awaiting response... 200 OK\n",
            "Length: 11762512 (11M) [text/plain]\n",
            "Saving to: ‘equipment_failure_data_2.csv’\n",
            "\n",
            "equipment_failure_d 100%[===================>]  11.22M  57.7MB/s    in 0.2s    \n",
            "\n",
            "2021-06-04 11:07:20 (57.7 MB/s) - ‘equipment_failure_data_2.csv’ saved [11762512/11762512]\n",
            "\n"
          ],
          "name": "stdout"
        }
      ]
    },
    {
      "cell_type": "code",
      "metadata": {
        "id": "wR4lkXuGt7jT"
      },
      "source": [
        "#imports\n",
        "import numpy as np\n",
        "import pandas as pd\n",
        "import seaborn as sns\n",
        "import matplotlib.pyplot as plt\n",
        "import datetime as datetime\n",
        "from sklearn.metrics import f1_score,recall_score\n",
        "from sklearn.metrics import classification_report\n",
        "from sklearn.linear_model import LogisticRegression\n",
        "from sklearn.metrics import accuracy_score"
      ],
      "execution_count": 4,
      "outputs": []
    },
    {
      "cell_type": "code",
      "metadata": {
        "id": "adO5fRNpt7jW"
      },
      "source": [
        "#read\n",
        "df = pd.read_csv('equipment_failure_data_1.csv', header=0,parse_dates=['DATE'])\n",
        "df2 = pd.read_csv('equipment_failure_data_2.csv', header=0,parse_dates=['DATE'])"
      ],
      "execution_count": 5,
      "outputs": []
    },
    {
      "cell_type": "code",
      "metadata": {
        "id": "3ar2b8n4t7jX"
      },
      "source": [
        "#concatenate\n",
        "data = pd.concat([df,df2])\n",
        "data.reset_index(inplace=True, drop=True)"
      ],
      "execution_count": 6,
      "outputs": []
    },
    {
      "cell_type": "code",
      "metadata": {
        "colab": {
          "base_uri": "https://localhost:8080/",
          "height": 204
        },
        "id": "wcE3YWF9t7jY",
        "outputId": "9aab2384-cd57-41ff-8e9c-bb57e696f178"
      },
      "source": [
        "#extract day year month\n",
        "data['YEAR']=data.DATE.dt.year\n",
        "data['MONTH']=data.DATE.dt.month\n",
        "data['DAY']=data.DATE.dt.day\n",
        "data = data.drop(['DATE'],1)\n",
        "data.head()"
      ],
      "execution_count": 7,
      "outputs": [
        {
          "output_type": "execute_result",
          "data": {
            "text/html": [
              "<div>\n",
              "<style scoped>\n",
              "    .dataframe tbody tr th:only-of-type {\n",
              "        vertical-align: middle;\n",
              "    }\n",
              "\n",
              "    .dataframe tbody tr th {\n",
              "        vertical-align: top;\n",
              "    }\n",
              "\n",
              "    .dataframe thead th {\n",
              "        text-align: right;\n",
              "    }\n",
              "</style>\n",
              "<table border=\"1\" class=\"dataframe\">\n",
              "  <thead>\n",
              "    <tr style=\"text-align: right;\">\n",
              "      <th></th>\n",
              "      <th>ID</th>\n",
              "      <th>REGION_CLUSTER</th>\n",
              "      <th>MAINTENANCE_VENDOR</th>\n",
              "      <th>MANUFACTURER</th>\n",
              "      <th>WELL_GROUP</th>\n",
              "      <th>S15</th>\n",
              "      <th>S17</th>\n",
              "      <th>S13</th>\n",
              "      <th>S5</th>\n",
              "      <th>S16</th>\n",
              "      <th>S19</th>\n",
              "      <th>S18</th>\n",
              "      <th>EQUIPMENT_FAILURE</th>\n",
              "      <th>S8</th>\n",
              "      <th>AGE_OF_EQUIPMENT</th>\n",
              "      <th>YEAR</th>\n",
              "      <th>MONTH</th>\n",
              "      <th>DAY</th>\n",
              "    </tr>\n",
              "  </thead>\n",
              "  <tbody>\n",
              "    <tr>\n",
              "      <th>0</th>\n",
              "      <td>100001</td>\n",
              "      <td>G</td>\n",
              "      <td>O</td>\n",
              "      <td>Y</td>\n",
              "      <td>1</td>\n",
              "      <td>11.088000</td>\n",
              "      <td>145.223448</td>\n",
              "      <td>39.34</td>\n",
              "      <td>3501.0</td>\n",
              "      <td>8.426869</td>\n",
              "      <td>1.9</td>\n",
              "      <td>24.610345</td>\n",
              "      <td>0</td>\n",
              "      <td>0.0</td>\n",
              "      <td>880</td>\n",
              "      <td>2014</td>\n",
              "      <td>12</td>\n",
              "      <td>2</td>\n",
              "    </tr>\n",
              "    <tr>\n",
              "      <th>1</th>\n",
              "      <td>100001</td>\n",
              "      <td>G</td>\n",
              "      <td>O</td>\n",
              "      <td>Y</td>\n",
              "      <td>1</td>\n",
              "      <td>8.877943</td>\n",
              "      <td>187.573214</td>\n",
              "      <td>39.20</td>\n",
              "      <td>3489.0</td>\n",
              "      <td>6.483714</td>\n",
              "      <td>1.9</td>\n",
              "      <td>24.671429</td>\n",
              "      <td>0</td>\n",
              "      <td>0.0</td>\n",
              "      <td>881</td>\n",
              "      <td>2014</td>\n",
              "      <td>12</td>\n",
              "      <td>3</td>\n",
              "    </tr>\n",
              "    <tr>\n",
              "      <th>2</th>\n",
              "      <td>100001</td>\n",
              "      <td>G</td>\n",
              "      <td>O</td>\n",
              "      <td>Y</td>\n",
              "      <td>1</td>\n",
              "      <td>8.676444</td>\n",
              "      <td>148.363704</td>\n",
              "      <td>38.87</td>\n",
              "      <td>3459.0</td>\n",
              "      <td>6.159659</td>\n",
              "      <td>2.0</td>\n",
              "      <td>24.733333</td>\n",
              "      <td>0</td>\n",
              "      <td>0.0</td>\n",
              "      <td>882</td>\n",
              "      <td>2014</td>\n",
              "      <td>12</td>\n",
              "      <td>4</td>\n",
              "    </tr>\n",
              "    <tr>\n",
              "      <th>3</th>\n",
              "      <td>100001</td>\n",
              "      <td>G</td>\n",
              "      <td>O</td>\n",
              "      <td>Y</td>\n",
              "      <td>1</td>\n",
              "      <td>9.988338</td>\n",
              "      <td>133.660000</td>\n",
              "      <td>39.47</td>\n",
              "      <td>3513.0</td>\n",
              "      <td>9.320308</td>\n",
              "      <td>2.0</td>\n",
              "      <td>24.773077</td>\n",
              "      <td>0</td>\n",
              "      <td>0.0</td>\n",
              "      <td>883</td>\n",
              "      <td>2014</td>\n",
              "      <td>12</td>\n",
              "      <td>5</td>\n",
              "    </tr>\n",
              "    <tr>\n",
              "      <th>4</th>\n",
              "      <td>100001</td>\n",
              "      <td>G</td>\n",
              "      <td>O</td>\n",
              "      <td>Y</td>\n",
              "      <td>1</td>\n",
              "      <td>8.475264</td>\n",
              "      <td>197.181600</td>\n",
              "      <td>40.33</td>\n",
              "      <td>3589.0</td>\n",
              "      <td>8.022960</td>\n",
              "      <td>1.5</td>\n",
              "      <td>24.808000</td>\n",
              "      <td>0</td>\n",
              "      <td>0.0</td>\n",
              "      <td>884</td>\n",
              "      <td>2014</td>\n",
              "      <td>12</td>\n",
              "      <td>6</td>\n",
              "    </tr>\n",
              "  </tbody>\n",
              "</table>\n",
              "</div>"
            ],
            "text/plain": [
              "       ID REGION_CLUSTER MAINTENANCE_VENDOR  ...  YEAR  MONTH  DAY\n",
              "0  100001              G                  O  ...  2014     12    2\n",
              "1  100001              G                  O  ...  2014     12    3\n",
              "2  100001              G                  O  ...  2014     12    4\n",
              "3  100001              G                  O  ...  2014     12    5\n",
              "4  100001              G                  O  ...  2014     12    6\n",
              "\n",
              "[5 rows x 18 columns]"
            ]
          },
          "metadata": {
            "tags": []
          },
          "execution_count": 7
        }
      ]
    },
    {
      "cell_type": "code",
      "metadata": {
        "id": "XXro12Uyt7jZ",
        "colab": {
          "base_uri": "https://localhost:8080/",
          "height": 35
        },
        "outputId": "9a4cc0b8-efd1-4e42-e133-9dc6ab2e3aff"
      },
      "source": [
        "'''#one-hot-encoding\n",
        "dummies = pd.get_dummies(data['MANUFACTURER'])\n",
        "data = pd.concat([data,dummies],1)\n",
        "data = data.drop(['MANUFACTURER'],1)'''"
      ],
      "execution_count": 8,
      "outputs": [
        {
          "output_type": "execute_result",
          "data": {
            "application/vnd.google.colaboratory.intrinsic+json": {
              "type": "string"
            },
            "text/plain": [
              "\"#one-hot-encoding\\ndummies = pd.get_dummies(data['MANUFACTURER'])\\ndata = pd.concat([data,dummies],1)\\ndata = data.drop(['MANUFACTURER'],1)\""
            ]
          },
          "metadata": {
            "tags": []
          },
          "execution_count": 8
        }
      ]
    },
    {
      "cell_type": "code",
      "metadata": {
        "id": "1O23NmF5RARj"
      },
      "source": [
        "#label encoding\n",
        "from sklearn.preprocessing import LabelEncoder\n",
        "to_be_encoded = ['ID','MANUFACTURER','REGION_CLUSTER','MAINTENANCE_VENDOR']\n",
        "for i in to_be_encoded:\n",
        "  data[i] = LabelEncoder().fit_transform(data[i])"
      ],
      "execution_count": 9,
      "outputs": []
    },
    {
      "cell_type": "code",
      "metadata": {
        "colab": {
          "base_uri": "https://localhost:8080/"
        },
        "id": "S50RZJTrbQuF",
        "outputId": "3de10cc5-f06e-4d2c-f150-b138bf8a8e2a"
      },
      "source": [
        "#check if all machines failed\n",
        "data.EQUIPMENT_FAILURE.sum()"
      ],
      "execution_count": 10,
      "outputs": [
        {
          "output_type": "execute_result",
          "data": {
            "text/plain": [
              "421"
            ]
          },
          "metadata": {
            "tags": []
          },
          "execution_count": 10
        }
      ]
    },
    {
      "cell_type": "code",
      "metadata": {
        "colab": {
          "base_uri": "https://localhost:8080/"
        },
        "id": "oiW50ESJ0aHB",
        "outputId": "e5db8c8b-e4f8-4d5d-bd7f-9225c9bc4ba1"
      },
      "source": [
        "failed_id = data[data['EQUIPMENT_FAILURE'] == 1]['ID']\n",
        "failed_id"
      ],
      "execution_count": 11,
      "outputs": [
        {
          "output_type": "execute_result",
          "data": {
            "text/plain": [
              "143         0\n",
              "1452        2\n",
              "1974        5\n",
              "2882        6\n",
              "2940        9\n",
              "         ... \n",
              "304586    413\n",
              "305182    417\n",
              "306127    418\n",
              "306848    419\n",
              "307679    420\n",
              "Name: ID, Length: 421, dtype: int64"
            ]
          },
          "metadata": {
            "tags": []
          },
          "execution_count": 11
        }
      ]
    },
    {
      "cell_type": "code",
      "metadata": {
        "id": "Tegv17Ev2DPr"
      },
      "source": [
        "#creating a function inputing data and id to see failure in sensor data\n",
        "def plotfail(data,id,sensor):\n",
        "  ser = data.loc[data['ID']==id]\n",
        "  plt.plot(ser[sensor])\n",
        "  failed_index = ser[ser['EQUIPMENT_FAILURE'] == 1]['ID'].index\n",
        "  plt.scatter(failed_index,ser['EQUIPMENT_FAILURE'][failed_index],color='red')"
      ],
      "execution_count": 11,
      "outputs": []
    },
    {
      "cell_type": "code",
      "metadata": {
        "id": "Vh2uHVIT70VQ",
        "colab": {
          "base_uri": "https://localhost:8080/",
          "height": 592
        },
        "outputId": "7390d196-10d2-4df9-e741-49a8a1452f2e"
      },
      "source": [
        "#plotting some machines side by side to see where fail occurs\n",
        "plt.figure(figsize=(20,10))\n",
        "for i in failed_id[0:5]:\n",
        "  plotfail(data,i,'S17')"
      ],
      "execution_count": 12,
      "outputs": [
        {
          "output_type": "display_data",
          "data": {
            "image/png": "[encoded data removed]",
            "text/plain": [
              "<Figure size 1440x720 with 1 Axes>"
            ]
          },
          "metadata": {
            "tags": [],
            "needs_background": "light"
          }
        }
      ]
    },
    {
      "cell_type": "code",
      "metadata": {
        "id": "BHmqxzu7t7ja",
        "colab": {
          "base_uri": "https://localhost:8080/",
          "height": 355
        },
        "outputId": "b7fa1e12-2c94-42bd-d456-b0e3bef5d5dc"
      },
      "source": [
        "#histogram of all S15 sensor values, looks skewed may have to transform ones like these later\n",
        "plt.hist(data.S15)"
      ],
      "execution_count": 13,
      "outputs": [
        {
          "output_type": "execute_result",
          "data": {
            "text/plain": [
              "(array([4.12930e+04, 1.14014e+05, 2.15060e+04, 6.55620e+04, 5.84650e+04,\n",
              "        6.90300e+03, 3.00000e+00, 2.00000e+00, 1.00000e+00, 2.00000e+00]),\n",
              " array([ 0.   ,  5.904, 11.808, 17.712, 23.616, 29.52 , 35.424, 41.328,\n",
              "        47.232, 53.136, 59.04 ]),\n",
              " <a list of 10 Patch objects>)"
            ]
          },
          "metadata": {
            "tags": []
          },
          "execution_count": 13
        },
        {
          "output_type": "display_data",
          "data": {
            "image/png": "[encoded data removed]",
            "text/plain": [
              "<Figure size 432x288 with 1 Axes>"
            ]
          },
          "metadata": {
            "tags": [],
            "needs_background": "light"
          }
        }
      ]
    },
    {
      "cell_type": "code",
      "metadata": {
        "id": "vI1n0vM7t7jb",
        "colab": {
          "base_uri": "https://localhost:8080/",
          "height": 353
        },
        "outputId": "29a07d35-f7dc-4ea4-cdbe-02d4d8d23955"
      },
      "source": [
        "sns.boxplot(data.S15)\n",
        "#outlier search"
      ],
      "execution_count": 14,
      "outputs": [
        {
          "output_type": "stream",
          "text": [
            "/usr/local/lib/python3.7/dist-packages/seaborn/_decorators.py:43: FutureWarning: Pass the following variable as a keyword arg: x. From version 0.12, the only valid positional argument will be `data`, and passing other arguments without an explicit keyword will result in an error or misinterpretation.\n",
            "  FutureWarning\n"
          ],
          "name": "stderr"
        },
        {
          "output_type": "execute_result",
          "data": {
            "text/plain": [
              "<matplotlib.axes._subplots.AxesSubplot at 0x7f009516abd0>"
            ]
          },
          "metadata": {
            "tags": []
          },
          "execution_count": 14
        },
        {
          "output_type": "display_data",
          "data": {
            "image/png": "[encoded data removed]",
            "text/plain": [
              "<Figure size 432x288 with 1 Axes>"
            ]
          },
          "metadata": {
            "tags": [],
            "needs_background": "light"
          }
        }
      ]
    },
    {
      "cell_type": "code",
      "metadata": {
        "id": "06hWuxoWt7jb",
        "colab": {
          "base_uri": "https://localhost:8080/",
          "height": 353
        },
        "outputId": "2cdaeb1d-0d29-4420-e503-2f34fee0637d"
      },
      "source": [
        "#further EDA On S15\n",
        "sns.distplot(data.S15)"
      ],
      "execution_count": 15,
      "outputs": [
        {
          "output_type": "stream",
          "text": [
            "/usr/local/lib/python3.7/dist-packages/seaborn/distributions.py:2557: FutureWarning: `distplot` is a deprecated function and will be removed in a future version. Please adapt your code to use either `displot` (a figure-level function with similar flexibility) or `histplot` (an axes-level function for histograms).\n",
            "  warnings.warn(msg, FutureWarning)\n"
          ],
          "name": "stderr"
        },
        {
          "output_type": "execute_result",
          "data": {
            "text/plain": [
              "<matplotlib.axes._subplots.AxesSubplot at 0x7f00961c5e50>"
            ]
          },
          "metadata": {
            "tags": []
          },
          "execution_count": 15
        },
        {
          "output_type": "display_data",
          "data": {
            "image/png": "[encoded data removed]",
            "text/plain": [
              "<Figure size 432x288 with 1 Axes>"
            ]
          },
          "metadata": {
            "tags": [],
            "needs_background": "light"
          }
        }
      ]
    },
    {
      "cell_type": "code",
      "metadata": {
        "id": "OH5R_jlHt7jb",
        "colab": {
          "base_uri": "https://localhost:8080/",
          "height": 297
        },
        "outputId": "8d95af68-7529-4916-c049-31d56dc9842b"
      },
      "source": [
        "#extreme sensor values\n",
        "#can be added as a categorical variable, removed or smoothened later on\n",
        "extremeS15 = data[data.S15>35]\n",
        "extremeS15"
      ],
      "execution_count": 16,
      "outputs": [
        {
          "output_type": "execute_result",
          "data": {
            "text/html": [
              "<div>\n",
              "<style scoped>\n",
              "    .dataframe tbody tr th:only-of-type {\n",
              "        vertical-align: middle;\n",
              "    }\n",
              "\n",
              "    .dataframe tbody tr th {\n",
              "        vertical-align: top;\n",
              "    }\n",
              "\n",
              "    .dataframe thead th {\n",
              "        text-align: right;\n",
              "    }\n",
              "</style>\n",
              "<table border=\"1\" class=\"dataframe\">\n",
              "  <thead>\n",
              "    <tr style=\"text-align: right;\">\n",
              "      <th></th>\n",
              "      <th>ID</th>\n",
              "      <th>REGION_CLUSTER</th>\n",
              "      <th>MAINTENANCE_VENDOR</th>\n",
              "      <th>MANUFACTURER</th>\n",
              "      <th>WELL_GROUP</th>\n",
              "      <th>S15</th>\n",
              "      <th>S17</th>\n",
              "      <th>S13</th>\n",
              "      <th>S5</th>\n",
              "      <th>S16</th>\n",
              "      <th>S19</th>\n",
              "      <th>S18</th>\n",
              "      <th>EQUIPMENT_FAILURE</th>\n",
              "      <th>S8</th>\n",
              "      <th>AGE_OF_EQUIPMENT</th>\n",
              "      <th>YEAR</th>\n",
              "      <th>MONTH</th>\n",
              "      <th>DAY</th>\n",
              "    </tr>\n",
              "  </thead>\n",
              "  <tbody>\n",
              "    <tr>\n",
              "      <th>2764</th>\n",
              "      <td>6</td>\n",
              "      <td>7</td>\n",
              "      <td>4</td>\n",
              "      <td>2</td>\n",
              "      <td>2</td>\n",
              "      <td>51.2256</td>\n",
              "      <td>0.77</td>\n",
              "      <td>24.548148</td>\n",
              "      <td>5228.592593</td>\n",
              "      <td>4.8380</td>\n",
              "      <td>33.3</td>\n",
              "      <td>50.3</td>\n",
              "      <td>0</td>\n",
              "      <td>57.482963</td>\n",
              "      <td>1331</td>\n",
              "      <td>2016</td>\n",
              "      <td>6</td>\n",
              "      <td>25</td>\n",
              "    </tr>\n",
              "    <tr>\n",
              "      <th>4442</th>\n",
              "      <td>11</td>\n",
              "      <td>1</td>\n",
              "      <td>4</td>\n",
              "      <td>0</td>\n",
              "      <td>4</td>\n",
              "      <td>41.6712</td>\n",
              "      <td>0.00</td>\n",
              "      <td>29.442500</td>\n",
              "      <td>2620.375000</td>\n",
              "      <td>7.5816</td>\n",
              "      <td>1.3</td>\n",
              "      <td>14.8</td>\n",
              "      <td>0</td>\n",
              "      <td>0.000000</td>\n",
              "      <td>796</td>\n",
              "      <td>2015</td>\n",
              "      <td>1</td>\n",
              "      <td>27</td>\n",
              "    </tr>\n",
              "    <tr>\n",
              "      <th>4443</th>\n",
              "      <td>11</td>\n",
              "      <td>1</td>\n",
              "      <td>4</td>\n",
              "      <td>0</td>\n",
              "      <td>4</td>\n",
              "      <td>42.5304</td>\n",
              "      <td>0.00</td>\n",
              "      <td>29.850000</td>\n",
              "      <td>2657.000000</td>\n",
              "      <td>8.0410</td>\n",
              "      <td>1.3</td>\n",
              "      <td>14.8</td>\n",
              "      <td>0</td>\n",
              "      <td>56.070000</td>\n",
              "      <td>797</td>\n",
              "      <td>2015</td>\n",
              "      <td>1</td>\n",
              "      <td>28</td>\n",
              "    </tr>\n",
              "    <tr>\n",
              "      <th>98282</th>\n",
              "      <td>289</td>\n",
              "      <td>1</td>\n",
              "      <td>6</td>\n",
              "      <td>6</td>\n",
              "      <td>1</td>\n",
              "      <td>40.6992</td>\n",
              "      <td>10.56</td>\n",
              "      <td>33.115926</td>\n",
              "      <td>2947.296296</td>\n",
              "      <td>6.7670</td>\n",
              "      <td>4.6</td>\n",
              "      <td>51.9</td>\n",
              "      <td>0</td>\n",
              "      <td>71.474074</td>\n",
              "      <td>5748</td>\n",
              "      <td>2015</td>\n",
              "      <td>10</td>\n",
              "      <td>26</td>\n",
              "    </tr>\n",
              "    <tr>\n",
              "      <th>175373</th>\n",
              "      <td>64</td>\n",
              "      <td>0</td>\n",
              "      <td>3</td>\n",
              "      <td>5</td>\n",
              "      <td>5</td>\n",
              "      <td>59.0400</td>\n",
              "      <td>0.00</td>\n",
              "      <td>59.840000</td>\n",
              "      <td>4548.000000</td>\n",
              "      <td>9.8318</td>\n",
              "      <td>0.0</td>\n",
              "      <td>5.6</td>\n",
              "      <td>0</td>\n",
              "      <td>1.890000</td>\n",
              "      <td>684</td>\n",
              "      <td>2016</td>\n",
              "      <td>9</td>\n",
              "      <td>26</td>\n",
              "    </tr>\n",
              "    <tr>\n",
              "      <th>260292</th>\n",
              "      <td>282</td>\n",
              "      <td>3</td>\n",
              "      <td>6</td>\n",
              "      <td>2</td>\n",
              "      <td>5</td>\n",
              "      <td>54.3744</td>\n",
              "      <td>0.00</td>\n",
              "      <td>38.430000</td>\n",
              "      <td>11720.000000</td>\n",
              "      <td>7.1519</td>\n",
              "      <td>14.8</td>\n",
              "      <td>1006.9</td>\n",
              "      <td>0</td>\n",
              "      <td>1604.080000</td>\n",
              "      <td>76</td>\n",
              "      <td>2015</td>\n",
              "      <td>1</td>\n",
              "      <td>27</td>\n",
              "    </tr>\n",
              "    <tr>\n",
              "      <th>304197</th>\n",
              "      <td>413</td>\n",
              "      <td>6</td>\n",
              "      <td>5</td>\n",
              "      <td>8</td>\n",
              "      <td>5</td>\n",
              "      <td>37.0656</td>\n",
              "      <td>0.00</td>\n",
              "      <td>37.378500</td>\n",
              "      <td>4448.150000</td>\n",
              "      <td>11.5245</td>\n",
              "      <td>0.6</td>\n",
              "      <td>117.5</td>\n",
              "      <td>0</td>\n",
              "      <td>234.809500</td>\n",
              "      <td>1081</td>\n",
              "      <td>2015</td>\n",
              "      <td>3</td>\n",
              "      <td>13</td>\n",
              "    </tr>\n",
              "    <tr>\n",
              "      <th>304198</th>\n",
              "      <td>413</td>\n",
              "      <td>6</td>\n",
              "      <td>5</td>\n",
              "      <td>8</td>\n",
              "      <td>5</td>\n",
              "      <td>38.5632</td>\n",
              "      <td>0.00</td>\n",
              "      <td>37.422632</td>\n",
              "      <td>4453.421053</td>\n",
              "      <td>9.3575</td>\n",
              "      <td>0.6</td>\n",
              "      <td>117.5</td>\n",
              "      <td>0</td>\n",
              "      <td>234.872632</td>\n",
              "      <td>1082</td>\n",
              "      <td>2015</td>\n",
              "      <td>3</td>\n",
              "      <td>14</td>\n",
              "    </tr>\n",
              "  </tbody>\n",
              "</table>\n",
              "</div>"
            ],
            "text/plain": [
              "         ID  REGION_CLUSTER  MAINTENANCE_VENDOR  ...  YEAR  MONTH  DAY\n",
              "2764      6               7                   4  ...  2016      6   25\n",
              "4442     11               1                   4  ...  2015      1   27\n",
              "4443     11               1                   4  ...  2015      1   28\n",
              "98282   289               1                   6  ...  2015     10   26\n",
              "175373   64               0                   3  ...  2016      9   26\n",
              "260292  282               3                   6  ...  2015      1   27\n",
              "304197  413               6                   5  ...  2015      3   13\n",
              "304198  413               6                   5  ...  2015      3   14\n",
              "\n",
              "[8 rows x 18 columns]"
            ]
          },
          "metadata": {
            "tags": []
          },
          "execution_count": 16
        }
      ]
    },
    {
      "cell_type": "code",
      "metadata": {
        "id": "0tT1KD5WmZHn",
        "colab": {
          "base_uri": "https://localhost:8080/",
          "height": 80
        },
        "outputId": "78298927-e1c9-42d3-fc61-8de15a3caab7"
      },
      "source": [
        "data.head(1)"
      ],
      "execution_count": 17,
      "outputs": [
        {
          "output_type": "execute_result",
          "data": {
            "text/html": [
              "<div>\n",
              "<style scoped>\n",
              "    .dataframe tbody tr th:only-of-type {\n",
              "        vertical-align: middle;\n",
              "    }\n",
              "\n",
              "    .dataframe tbody tr th {\n",
              "        vertical-align: top;\n",
              "    }\n",
              "\n",
              "    .dataframe thead th {\n",
              "        text-align: right;\n",
              "    }\n",
              "</style>\n",
              "<table border=\"1\" class=\"dataframe\">\n",
              "  <thead>\n",
              "    <tr style=\"text-align: right;\">\n",
              "      <th></th>\n",
              "      <th>ID</th>\n",
              "      <th>REGION_CLUSTER</th>\n",
              "      <th>MAINTENANCE_VENDOR</th>\n",
              "      <th>MANUFACTURER</th>\n",
              "      <th>WELL_GROUP</th>\n",
              "      <th>S15</th>\n",
              "      <th>S17</th>\n",
              "      <th>S13</th>\n",
              "      <th>S5</th>\n",
              "      <th>S16</th>\n",
              "      <th>S19</th>\n",
              "      <th>S18</th>\n",
              "      <th>EQUIPMENT_FAILURE</th>\n",
              "      <th>S8</th>\n",
              "      <th>AGE_OF_EQUIPMENT</th>\n",
              "      <th>YEAR</th>\n",
              "      <th>MONTH</th>\n",
              "      <th>DAY</th>\n",
              "    </tr>\n",
              "  </thead>\n",
              "  <tbody>\n",
              "    <tr>\n",
              "      <th>0</th>\n",
              "      <td>0</td>\n",
              "      <td>6</td>\n",
              "      <td>6</td>\n",
              "      <td>8</td>\n",
              "      <td>1</td>\n",
              "      <td>11.088</td>\n",
              "      <td>145.223448</td>\n",
              "      <td>39.34</td>\n",
              "      <td>3501.0</td>\n",
              "      <td>8.426869</td>\n",
              "      <td>1.9</td>\n",
              "      <td>24.610345</td>\n",
              "      <td>0</td>\n",
              "      <td>0.0</td>\n",
              "      <td>880</td>\n",
              "      <td>2014</td>\n",
              "      <td>12</td>\n",
              "      <td>2</td>\n",
              "    </tr>\n",
              "  </tbody>\n",
              "</table>\n",
              "</div>"
            ],
            "text/plain": [
              "   ID  REGION_CLUSTER  MAINTENANCE_VENDOR  ...  YEAR  MONTH  DAY\n",
              "0   0               6                   6  ...  2014     12    2\n",
              "\n",
              "[1 rows x 18 columns]"
            ]
          },
          "metadata": {
            "tags": []
          },
          "execution_count": 17
        }
      ]
    },
    {
      "cell_type": "code",
      "metadata": {
        "id": "vkOhvaNut7jc"
      },
      "source": [
        "#EDA for variable interactions\n",
        "#sns.pairplot(data)"
      ],
      "execution_count": 18,
      "outputs": []
    },
    {
      "cell_type": "code",
      "metadata": {
        "id": "flAP5gwNt7jc",
        "colab": {
          "base_uri": "https://localhost:8080/",
          "height": 725
        },
        "outputId": "28403b37-1897-4d15-ae89-c5c776585f09"
      },
      "source": [
        "#Correlation heatmap - sensors have some intercorrelations which was expected\n",
        "correlation_matrix = data.corr()\n",
        "plt.figure(figsize=(20,10))\n",
        "sns.heatmap(correlation_matrix, annot=True, cmap=\"Blues\")"
      ],
      "execution_count": 19,
      "outputs": [
        {
          "output_type": "execute_result",
          "data": {
            "text/plain": [
              "<matplotlib.axes._subplots.AxesSubplot at 0x7f00950dfb50>"
            ]
          },
          "metadata": {
            "tags": []
          },
          "execution_count": 19
        },
        {
          "output_type": "display_data",
          "data": {
            "image/png": "[encoded data removed]",
            "text/plain": [
              "<Figure size 1440x720 with 2 Axes>"
            ]
          },
          "metadata": {
            "tags": [],
            "needs_background": "light"
          }
        }
      ]
    },
    {
      "cell_type": "code",
      "metadata": {
        "id": "W5guDENDx1_L",
        "colab": {
          "base_uri": "https://localhost:8080/"
        },
        "outputId": "15a0321d-7f4c-40c7-fd1c-db573771fa90"
      },
      "source": [
        "#lets try a simple baseline model but first we need to deal with class imbalance\n",
        "from imblearn.over_sampling import SMOTE\n",
        "from imblearn.over_sampling import SMOTENC\n"
      ],
      "execution_count": 20,
      "outputs": [
        {
          "output_type": "stream",
          "text": [
            "/usr/local/lib/python3.7/dist-packages/sklearn/externals/six.py:31: FutureWarning: The module is deprecated in version 0.21 and will be removed in version 0.23 since we've dropped support for Python 2.7. Please rely on the official version of six (https://pypi.org/project/six/).\n",
            "  \"(https://pypi.org/project/six/).\", FutureWarning)\n",
            "/usr/local/lib/python3.7/dist-packages/sklearn/utils/deprecation.py:144: FutureWarning: The sklearn.neighbors.base module is  deprecated in version 0.22 and will be removed in version 0.24. The corresponding classes / functions should instead be imported from sklearn.neighbors. Anything that cannot be imported from sklearn.neighbors is now part of the private API.\n",
            "  warnings.warn(message, FutureWarning)\n"
          ],
          "name": "stderr"
        }
      ]
    },
    {
      "cell_type": "code",
      "metadata": {
        "colab": {
          "base_uri": "https://localhost:8080/"
        },
        "id": "-ftxp81LIb7I",
        "outputId": "a0ad021a-0a1c-445e-cc6d-a2d7f1759476"
      },
      "source": [
        "data.EQUIPMENT_FAILURE.value_counts()"
      ],
      "execution_count": 21,
      "outputs": [
        {
          "output_type": "execute_result",
          "data": {
            "text/plain": [
              "0    307330\n",
              "1       421\n",
              "Name: EQUIPMENT_FAILURE, dtype: int64"
            ]
          },
          "metadata": {
            "tags": []
          },
          "execution_count": 21
        }
      ]
    },
    {
      "cell_type": "code",
      "metadata": {
        "colab": {
          "base_uri": "https://localhost:8080/"
        },
        "id": "9gZoEoCPKyMf",
        "outputId": "21b9f69e-d5ee-492f-810e-f6861b9b6fa4"
      },
      "source": [
        "421/307330*100"
      ],
      "execution_count": 22,
      "outputs": [
        {
          "output_type": "execute_result",
          "data": {
            "text/plain": [
              "0.136986301369863"
            ]
          },
          "metadata": {
            "tags": []
          },
          "execution_count": 22
        }
      ]
    },
    {
      "cell_type": "code",
      "metadata": {
        "id": "0h3zX_hSayKj"
      },
      "source": [
        "#We deal with the imbalance by expanding the fails by adding the 30 days prior\n",
        "window = 30\n",
        "#a function to add 1s in front of the fail labels to extend the idea of failure\n",
        "def changeToOne(arr,window):\n",
        "    curr = len(arr)-1\n",
        "    while curr>=0:\n",
        "        if arr[curr]==1:\n",
        "            curr -= 1\n",
        "            for _ in range(window):\n",
        "                arr[curr]=1\n",
        "                curr -= 1\n",
        "        else:\n",
        "            curr -=1"
      ],
      "execution_count": 23,
      "outputs": []
    },
    {
      "cell_type": "code",
      "metadata": {
        "id": "V_fNWkE6bHCU"
      },
      "source": [
        "#changeToOne(data['EQUIPMENT_FAILURE'],30)"
      ],
      "execution_count": 24,
      "outputs": []
    },
    {
      "cell_type": "code",
      "metadata": {
        "colab": {
          "base_uri": "https://localhost:8080/"
        },
        "id": "mSnX6OptiB1O",
        "outputId": "8e10b296-6cc9-4035-f88a-85949286bb68"
      },
      "source": [
        "data['EQUIPMENT_FAILURE'].value_counts()"
      ],
      "execution_count": 25,
      "outputs": [
        {
          "output_type": "execute_result",
          "data": {
            "text/plain": [
              "0    307330\n",
              "1       421\n",
              "Name: EQUIPMENT_FAILURE, dtype: int64"
            ]
          },
          "metadata": {
            "tags": []
          },
          "execution_count": 25
        }
      ]
    },
    {
      "cell_type": "code",
      "metadata": {
        "colab": {
          "base_uri": "https://localhost:8080/"
        },
        "id": "z1jquF44ifRH",
        "outputId": "bce4c06d-1c74-45b8-f37e-24214e49235e"
      },
      "source": [
        "#imbalance is decreased but still needs sampling\n",
        "13051/294700*100"
      ],
      "execution_count": 26,
      "outputs": [
        {
          "output_type": "execute_result",
          "data": {
            "text/plain": [
              "4.428571428571428"
            ]
          },
          "metadata": {
            "tags": []
          },
          "execution_count": 26
        }
      ]
    },
    {
      "cell_type": "code",
      "metadata": {
        "colab": {
          "base_uri": "https://localhost:8080/"
        },
        "id": "OdPW6ZdVMgRL",
        "outputId": "98b8e836-3246-4efd-e1aa-ac080063ade0"
      },
      "source": [
        "ids = data.drop_duplicates(subset='ID')\n",
        "ids = ids[['ID']]\n",
        "ids.shape"
      ],
      "execution_count": 14,
      "outputs": [
        {
          "output_type": "execute_result",
          "data": {
            "text/plain": [
              "(421, 1)"
            ]
          },
          "metadata": {
            "tags": []
          },
          "execution_count": 14
        }
      ]
    },
    {
      "cell_type": "code",
      "metadata": {
        "colab": {
          "base_uri": "https://localhost:8080/"
        },
        "id": "uq1s-Bk3XJT0",
        "outputId": "faa9f7d3-307b-4028-f054-0517a320fe08"
      },
      "source": [
        "#train test validation splitting based on probabilities against imbalance 35%train 35%test 30%valid\n",
        "np.random.seed(7)\n",
        "ids['rv'] = (np.random.randint(0,10000,len(ids)))/10000\n",
        "ids = ids[['ID','rv']]\n",
        "\n",
        "ids['SETS'] = np.where(((ids.rv <= 0.35)), 'TRAINING', np.where(((ids.rv <= 0.65)), 'VALIDATION', 'TESTING'))\n",
        "summed = ids.groupby(['SETS'])['rv'].count()\n",
        "print(summed, summed/sum(summed))"
      ],
      "execution_count": 15,
      "outputs": [
        {
          "output_type": "stream",
          "text": [
            "SETS\n",
            "TESTING       145\n",
            "TRAINING      147\n",
            "VALIDATION    129\n",
            "Name: rv, dtype: int64 SETS\n",
            "TESTING       0.344418\n",
            "TRAINING      0.349169\n",
            "VALIDATION    0.306413\n",
            "Name: rv, dtype: float64\n"
          ],
          "name": "stdout"
        }
      ]
    },
    {
      "cell_type": "code",
      "metadata": {
        "id": "hPbYM6Yvnp0g"
      },
      "source": [
        "data=data.sort_values(by=['ID'], ascending=[True])\n",
        "ids=ids.sort_values(by=['ID'], ascending=[True])\n",
        "data =data.merge(ids, on=['ID'], how='inner')"
      ],
      "execution_count": 16,
      "outputs": []
    },
    {
      "cell_type": "code",
      "metadata": {
        "id": "j0O2Ht5On1R6",
        "colab": {
          "base_uri": "https://localhost:8080/"
        },
        "outputId": "b5caab7b-e01c-4e17-f882-9f9123865750"
      },
      "source": [
        "instance_sum = data.groupby(['SETS'])['rv'].count()\n",
        "instance_sum"
      ],
      "execution_count": 17,
      "outputs": [
        {
          "output_type": "execute_result",
          "data": {
            "text/plain": [
              "SETS\n",
              "TESTING       105995\n",
              "TRAINING      107457\n",
              "VALIDATION     94299\n",
              "Name: rv, dtype: int64"
            ]
          },
          "metadata": {
            "tags": []
          },
          "execution_count": 17
        }
      ]
    },
    {
      "cell_type": "code",
      "metadata": {
        "colab": {
          "base_uri": "https://localhost:8080/"
        },
        "id": "oZXIEtCrhM0G",
        "outputId": "b7fc9082-7561-4880-d62d-8f63cf12f9a0"
      },
      "source": [
        "data[data['EQUIPMENT_FAILURE']==1].groupby(['SETS'])['rv'].count()"
      ],
      "execution_count": 31,
      "outputs": [
        {
          "output_type": "execute_result",
          "data": {
            "text/plain": [
              "SETS\n",
              "TESTING       145\n",
              "TRAINING      147\n",
              "VALIDATION    129\n",
              "Name: rv, dtype: int64"
            ]
          },
          "metadata": {
            "tags": []
          },
          "execution_count": 31
        }
      ]
    },
    {
      "cell_type": "code",
      "metadata": {
        "id": "qx-TIuGOhVbn",
        "colab": {
          "base_uri": "https://localhost:8080/",
          "height": 419
        },
        "outputId": "9a557317-e814-4c48-adbb-33bbdf0056c4"
      },
      "source": [
        "data"
      ],
      "execution_count": 32,
      "outputs": [
        {
          "output_type": "execute_result",
          "data": {
            "text/html": [
              "<div>\n",
              "<style scoped>\n",
              "    .dataframe tbody tr th:only-of-type {\n",
              "        vertical-align: middle;\n",
              "    }\n",
              "\n",
              "    .dataframe tbody tr th {\n",
              "        vertical-align: top;\n",
              "    }\n",
              "\n",
              "    .dataframe thead th {\n",
              "        text-align: right;\n",
              "    }\n",
              "</style>\n",
              "<table border=\"1\" class=\"dataframe\">\n",
              "  <thead>\n",
              "    <tr style=\"text-align: right;\">\n",
              "      <th></th>\n",
              "      <th>ID</th>\n",
              "      <th>REGION_CLUSTER</th>\n",
              "      <th>MAINTENANCE_VENDOR</th>\n",
              "      <th>MANUFACTURER</th>\n",
              "      <th>WELL_GROUP</th>\n",
              "      <th>S15</th>\n",
              "      <th>S17</th>\n",
              "      <th>S13</th>\n",
              "      <th>S5</th>\n",
              "      <th>S16</th>\n",
              "      <th>S19</th>\n",
              "      <th>S18</th>\n",
              "      <th>EQUIPMENT_FAILURE</th>\n",
              "      <th>S8</th>\n",
              "      <th>AGE_OF_EQUIPMENT</th>\n",
              "      <th>YEAR</th>\n",
              "      <th>MONTH</th>\n",
              "      <th>DAY</th>\n",
              "      <th>rv</th>\n",
              "      <th>SETS</th>\n",
              "    </tr>\n",
              "  </thead>\n",
              "  <tbody>\n",
              "    <tr>\n",
              "      <th>0</th>\n",
              "      <td>0</td>\n",
              "      <td>6</td>\n",
              "      <td>6</td>\n",
              "      <td>8</td>\n",
              "      <td>1</td>\n",
              "      <td>11.0880</td>\n",
              "      <td>145.223448</td>\n",
              "      <td>39.34</td>\n",
              "      <td>3501.0</td>\n",
              "      <td>8.426869</td>\n",
              "      <td>1.9</td>\n",
              "      <td>24.610345</td>\n",
              "      <td>0</td>\n",
              "      <td>0.00</td>\n",
              "      <td>880</td>\n",
              "      <td>2014</td>\n",
              "      <td>12</td>\n",
              "      <td>2</td>\n",
              "      <td>0.9412</td>\n",
              "      <td>TESTING</td>\n",
              "    </tr>\n",
              "    <tr>\n",
              "      <th>1</th>\n",
              "      <td>0</td>\n",
              "      <td>6</td>\n",
              "      <td>6</td>\n",
              "      <td>8</td>\n",
              "      <td>1</td>\n",
              "      <td>18.9600</td>\n",
              "      <td>0.000000</td>\n",
              "      <td>38.87</td>\n",
              "      <td>3459.0</td>\n",
              "      <td>10.047300</td>\n",
              "      <td>1.3</td>\n",
              "      <td>36.600000</td>\n",
              "      <td>0</td>\n",
              "      <td>34.37</td>\n",
              "      <td>1363</td>\n",
              "      <td>2016</td>\n",
              "      <td>3</td>\n",
              "      <td>29</td>\n",
              "      <td>0.9412</td>\n",
              "      <td>TESTING</td>\n",
              "    </tr>\n",
              "    <tr>\n",
              "      <th>2</th>\n",
              "      <td>0</td>\n",
              "      <td>6</td>\n",
              "      <td>6</td>\n",
              "      <td>8</td>\n",
              "      <td>1</td>\n",
              "      <td>29.0400</td>\n",
              "      <td>0.000000</td>\n",
              "      <td>37.36</td>\n",
              "      <td>3325.0</td>\n",
              "      <td>10.235100</td>\n",
              "      <td>1.4</td>\n",
              "      <td>36.000000</td>\n",
              "      <td>0</td>\n",
              "      <td>32.37</td>\n",
              "      <td>1364</td>\n",
              "      <td>2016</td>\n",
              "      <td>3</td>\n",
              "      <td>30</td>\n",
              "      <td>0.9412</td>\n",
              "      <td>TESTING</td>\n",
              "    </tr>\n",
              "    <tr>\n",
              "      <th>3</th>\n",
              "      <td>0</td>\n",
              "      <td>6</td>\n",
              "      <td>6</td>\n",
              "      <td>8</td>\n",
              "      <td>1</td>\n",
              "      <td>18.0000</td>\n",
              "      <td>0.000000</td>\n",
              "      <td>38.81</td>\n",
              "      <td>3454.0</td>\n",
              "      <td>8.544900</td>\n",
              "      <td>1.4</td>\n",
              "      <td>36.100000</td>\n",
              "      <td>0</td>\n",
              "      <td>34.44</td>\n",
              "      <td>1365</td>\n",
              "      <td>2016</td>\n",
              "      <td>3</td>\n",
              "      <td>31</td>\n",
              "      <td>0.9412</td>\n",
              "      <td>TESTING</td>\n",
              "    </tr>\n",
              "    <tr>\n",
              "      <th>4</th>\n",
              "      <td>0</td>\n",
              "      <td>6</td>\n",
              "      <td>6</td>\n",
              "      <td>8</td>\n",
              "      <td>1</td>\n",
              "      <td>26.1600</td>\n",
              "      <td>0.000000</td>\n",
              "      <td>39.47</td>\n",
              "      <td>3513.0</td>\n",
              "      <td>10.986300</td>\n",
              "      <td>1.4</td>\n",
              "      <td>36.300000</td>\n",
              "      <td>0</td>\n",
              "      <td>33.26</td>\n",
              "      <td>1366</td>\n",
              "      <td>2016</td>\n",
              "      <td>4</td>\n",
              "      <td>1</td>\n",
              "      <td>0.9412</td>\n",
              "      <td>TESTING</td>\n",
              "    </tr>\n",
              "    <tr>\n",
              "      <th>...</th>\n",
              "      <td>...</td>\n",
              "      <td>...</td>\n",
              "      <td>...</td>\n",
              "      <td>...</td>\n",
              "      <td>...</td>\n",
              "      <td>...</td>\n",
              "      <td>...</td>\n",
              "      <td>...</td>\n",
              "      <td>...</td>\n",
              "      <td>...</td>\n",
              "      <td>...</td>\n",
              "      <td>...</td>\n",
              "      <td>...</td>\n",
              "      <td>...</td>\n",
              "      <td>...</td>\n",
              "      <td>...</td>\n",
              "      <td>...</td>\n",
              "      <td>...</td>\n",
              "      <td>...</td>\n",
              "      <td>...</td>\n",
              "    </tr>\n",
              "    <tr>\n",
              "      <th>307746</th>\n",
              "      <td>420</td>\n",
              "      <td>2</td>\n",
              "      <td>7</td>\n",
              "      <td>2</td>\n",
              "      <td>7</td>\n",
              "      <td>4.7808</td>\n",
              "      <td>117.450000</td>\n",
              "      <td>46.67</td>\n",
              "      <td>3127.0</td>\n",
              "      <td>9.564800</td>\n",
              "      <td>0.7</td>\n",
              "      <td>2.500000</td>\n",
              "      <td>0</td>\n",
              "      <td>2.14</td>\n",
              "      <td>325</td>\n",
              "      <td>2015</td>\n",
              "      <td>8</td>\n",
              "      <td>4</td>\n",
              "      <td>0.1798</td>\n",
              "      <td>TRAINING</td>\n",
              "    </tr>\n",
              "    <tr>\n",
              "      <th>307747</th>\n",
              "      <td>420</td>\n",
              "      <td>2</td>\n",
              "      <td>7</td>\n",
              "      <td>2</td>\n",
              "      <td>7</td>\n",
              "      <td>5.6448</td>\n",
              "      <td>110.700000</td>\n",
              "      <td>47.88</td>\n",
              "      <td>3208.0</td>\n",
              "      <td>11.126400</td>\n",
              "      <td>0.7</td>\n",
              "      <td>2.400000</td>\n",
              "      <td>0</td>\n",
              "      <td>2.63</td>\n",
              "      <td>326</td>\n",
              "      <td>2015</td>\n",
              "      <td>8</td>\n",
              "      <td>5</td>\n",
              "      <td>0.1798</td>\n",
              "      <td>TRAINING</td>\n",
              "    </tr>\n",
              "    <tr>\n",
              "      <th>307748</th>\n",
              "      <td>420</td>\n",
              "      <td>2</td>\n",
              "      <td>7</td>\n",
              "      <td>2</td>\n",
              "      <td>7</td>\n",
              "      <td>4.4352</td>\n",
              "      <td>143.100000</td>\n",
              "      <td>46.63</td>\n",
              "      <td>3124.0</td>\n",
              "      <td>8.473800</td>\n",
              "      <td>0.7</td>\n",
              "      <td>2.400000</td>\n",
              "      <td>0</td>\n",
              "      <td>2.01</td>\n",
              "      <td>327</td>\n",
              "      <td>2015</td>\n",
              "      <td>8</td>\n",
              "      <td>6</td>\n",
              "      <td>0.1798</td>\n",
              "      <td>TRAINING</td>\n",
              "    </tr>\n",
              "    <tr>\n",
              "      <th>307749</th>\n",
              "      <td>420</td>\n",
              "      <td>2</td>\n",
              "      <td>7</td>\n",
              "      <td>2</td>\n",
              "      <td>7</td>\n",
              "      <td>5.5872</td>\n",
              "      <td>167.500000</td>\n",
              "      <td>46.45</td>\n",
              "      <td>3112.0</td>\n",
              "      <td>7.320000</td>\n",
              "      <td>0.4</td>\n",
              "      <td>2.200000</td>\n",
              "      <td>0</td>\n",
              "      <td>2.09</td>\n",
              "      <td>329</td>\n",
              "      <td>2015</td>\n",
              "      <td>8</td>\n",
              "      <td>8</td>\n",
              "      <td>0.1798</td>\n",
              "      <td>TRAINING</td>\n",
              "    </tr>\n",
              "    <tr>\n",
              "      <th>307750</th>\n",
              "      <td>420</td>\n",
              "      <td>2</td>\n",
              "      <td>7</td>\n",
              "      <td>2</td>\n",
              "      <td>7</td>\n",
              "      <td>21.8400</td>\n",
              "      <td>0.000000</td>\n",
              "      <td>56.40</td>\n",
              "      <td>3779.0</td>\n",
              "      <td>8.974500</td>\n",
              "      <td>0.2</td>\n",
              "      <td>27.800000</td>\n",
              "      <td>0</td>\n",
              "      <td>26.19</td>\n",
              "      <td>810</td>\n",
              "      <td>2016</td>\n",
              "      <td>12</td>\n",
              "      <td>1</td>\n",
              "      <td>0.1798</td>\n",
              "      <td>TRAINING</td>\n",
              "    </tr>\n",
              "  </tbody>\n",
              "</table>\n",
              "<p>307751 rows × 20 columns</p>\n",
              "</div>"
            ],
            "text/plain": [
              "         ID  REGION_CLUSTER  MAINTENANCE_VENDOR  ...  DAY      rv      SETS\n",
              "0         0               6                   6  ...    2  0.9412   TESTING\n",
              "1         0               6                   6  ...   29  0.9412   TESTING\n",
              "2         0               6                   6  ...   30  0.9412   TESTING\n",
              "3         0               6                   6  ...   31  0.9412   TESTING\n",
              "4         0               6                   6  ...    1  0.9412   TESTING\n",
              "...     ...             ...                 ...  ...  ...     ...       ...\n",
              "307746  420               2                   7  ...    4  0.1798  TRAINING\n",
              "307747  420               2                   7  ...    5  0.1798  TRAINING\n",
              "307748  420               2                   7  ...    6  0.1798  TRAINING\n",
              "307749  420               2                   7  ...    8  0.1798  TRAINING\n",
              "307750  420               2                   7  ...    1  0.1798  TRAINING\n",
              "\n",
              "[307751 rows x 20 columns]"
            ]
          },
          "metadata": {
            "tags": []
          },
          "execution_count": 32
        }
      ]
    },
    {
      "cell_type": "code",
      "metadata": {
        "id": "mUSAaSVr-tnr"
      },
      "source": [
        "datacopy = data"
      ],
      "execution_count": 33,
      "outputs": []
    },
    {
      "cell_type": "code",
      "metadata": {
        "id": "fMuluI9jIrEF"
      },
      "source": [
        "#adding min max median to sensor data is apparently significant as in signalization theory\n",
        "#add also moving average"
      ],
      "execution_count": 34,
      "outputs": []
    },
    {
      "cell_type": "code",
      "metadata": {
        "id": "hbqrd9cxAqDq",
        "colab": {
          "base_uri": "https://localhost:8080/",
          "height": 53
        },
        "outputId": "d244ad06-6f8c-4412-f21a-3a01c93bf54e"
      },
      "source": [
        "#one hot encoded\n",
        "'''train = data[data.SETS == 'TRAINING'].iloc[:,:16]\n",
        "train_test = data[data.SETS != 'VALIDATION'].iloc[:,:16]\n",
        "valid = data[data.SETS == 'VALIDATION'].iloc[:,:16]\n",
        "test = data[data.SETS == 'TESTING'].iloc[:,:16]\n",
        "total = data.iloc[:,:16]'''"
      ],
      "execution_count": 35,
      "outputs": [
        {
          "output_type": "execute_result",
          "data": {
            "application/vnd.google.colaboratory.intrinsic+json": {
              "type": "string"
            },
            "text/plain": [
              "\"train = data[data.SETS == 'TRAINING'].iloc[:,:16]\\ntrain_test = data[data.SETS != 'VALIDATION'].iloc[:,:16]\\nvalid = data[data.SETS == 'VALIDATION'].iloc[:,:16]\\ntest = data[data.SETS == 'TESTING'].iloc[:,:16]\\ntotal = data.iloc[:,:16]\""
            ]
          },
          "metadata": {
            "tags": []
          },
          "execution_count": 35
        }
      ]
    },
    {
      "cell_type": "code",
      "metadata": {
        "id": "bSpBFVBnUl5b"
      },
      "source": [
        "#label encoded\n",
        "train = data[data.SETS == 'TRAINING'].iloc[:,:-2]\n",
        "train_test = data[data.SETS != 'VALIDATION'].iloc[:,:-2]\n",
        "valid = data[data.SETS == 'VALIDATION'].iloc[:,:-2]\n",
        "test = data[data.SETS == 'TESTING'].iloc[:,:-2]\n",
        "total = data.iloc[:,:-2]"
      ],
      "execution_count": 18,
      "outputs": []
    },
    {
      "cell_type": "code",
      "metadata": {
        "id": "Y0susvjkpDoq",
        "colab": {
          "base_uri": "https://localhost:8080/",
          "height": 419
        },
        "outputId": "9803adb7-f014-486c-e75a-41fcda720db4"
      },
      "source": [
        "train"
      ],
      "execution_count": 37,
      "outputs": [
        {
          "output_type": "execute_result",
          "data": {
            "text/html": [
              "<div>\n",
              "<style scoped>\n",
              "    .dataframe tbody tr th:only-of-type {\n",
              "        vertical-align: middle;\n",
              "    }\n",
              "\n",
              "    .dataframe tbody tr th {\n",
              "        vertical-align: top;\n",
              "    }\n",
              "\n",
              "    .dataframe thead th {\n",
              "        text-align: right;\n",
              "    }\n",
              "</style>\n",
              "<table border=\"1\" class=\"dataframe\">\n",
              "  <thead>\n",
              "    <tr style=\"text-align: right;\">\n",
              "      <th></th>\n",
              "      <th>ID</th>\n",
              "      <th>REGION_CLUSTER</th>\n",
              "      <th>MAINTENANCE_VENDOR</th>\n",
              "      <th>MANUFACTURER</th>\n",
              "      <th>WELL_GROUP</th>\n",
              "      <th>S15</th>\n",
              "      <th>S17</th>\n",
              "      <th>S13</th>\n",
              "      <th>S5</th>\n",
              "      <th>S16</th>\n",
              "      <th>S19</th>\n",
              "      <th>S18</th>\n",
              "      <th>EQUIPMENT_FAILURE</th>\n",
              "      <th>S8</th>\n",
              "      <th>AGE_OF_EQUIPMENT</th>\n",
              "      <th>YEAR</th>\n",
              "      <th>MONTH</th>\n",
              "      <th>DAY</th>\n",
              "    </tr>\n",
              "  </thead>\n",
              "  <tbody>\n",
              "    <tr>\n",
              "      <th>1462</th>\n",
              "      <td>2</td>\n",
              "      <td>2</td>\n",
              "      <td>3</td>\n",
              "      <td>3</td>\n",
              "      <td>1</td>\n",
              "      <td>19.9200</td>\n",
              "      <td>0.00</td>\n",
              "      <td>35.65</td>\n",
              "      <td>3173.0</td>\n",
              "      <td>7.6500</td>\n",
              "      <td>0.0</td>\n",
              "      <td>2.9</td>\n",
              "      <td>0</td>\n",
              "      <td>124.41</td>\n",
              "      <td>765</td>\n",
              "      <td>2015</td>\n",
              "      <td>12</td>\n",
              "      <td>2</td>\n",
              "    </tr>\n",
              "    <tr>\n",
              "      <th>1463</th>\n",
              "      <td>2</td>\n",
              "      <td>2</td>\n",
              "      <td>3</td>\n",
              "      <td>3</td>\n",
              "      <td>1</td>\n",
              "      <td>9.5832</td>\n",
              "      <td>210.56</td>\n",
              "      <td>35.34</td>\n",
              "      <td>3145.0</td>\n",
              "      <td>8.4524</td>\n",
              "      <td>0.9</td>\n",
              "      <td>0.2</td>\n",
              "      <td>0</td>\n",
              "      <td>0.00</td>\n",
              "      <td>883</td>\n",
              "      <td>2016</td>\n",
              "      <td>3</td>\n",
              "      <td>29</td>\n",
              "    </tr>\n",
              "    <tr>\n",
              "      <th>1464</th>\n",
              "      <td>2</td>\n",
              "      <td>2</td>\n",
              "      <td>3</td>\n",
              "      <td>3</td>\n",
              "      <td>1</td>\n",
              "      <td>7.2072</td>\n",
              "      <td>213.57</td>\n",
              "      <td>34.75</td>\n",
              "      <td>3093.0</td>\n",
              "      <td>7.2556</td>\n",
              "      <td>0.9</td>\n",
              "      <td>0.3</td>\n",
              "      <td>0</td>\n",
              "      <td>0.01</td>\n",
              "      <td>884</td>\n",
              "      <td>2016</td>\n",
              "      <td>3</td>\n",
              "      <td>30</td>\n",
              "    </tr>\n",
              "    <tr>\n",
              "      <th>1465</th>\n",
              "      <td>2</td>\n",
              "      <td>2</td>\n",
              "      <td>3</td>\n",
              "      <td>3</td>\n",
              "      <td>1</td>\n",
              "      <td>9.2664</td>\n",
              "      <td>154.16</td>\n",
              "      <td>35.63</td>\n",
              "      <td>3171.0</td>\n",
              "      <td>8.5905</td>\n",
              "      <td>0.9</td>\n",
              "      <td>0.2</td>\n",
              "      <td>0</td>\n",
              "      <td>40.76</td>\n",
              "      <td>885</td>\n",
              "      <td>2016</td>\n",
              "      <td>3</td>\n",
              "      <td>31</td>\n",
              "    </tr>\n",
              "    <tr>\n",
              "      <th>1466</th>\n",
              "      <td>2</td>\n",
              "      <td>2</td>\n",
              "      <td>3</td>\n",
              "      <td>3</td>\n",
              "      <td>1</td>\n",
              "      <td>8.7120</td>\n",
              "      <td>157.92</td>\n",
              "      <td>35.93</td>\n",
              "      <td>3198.0</td>\n",
              "      <td>5.6848</td>\n",
              "      <td>0.9</td>\n",
              "      <td>0.2</td>\n",
              "      <td>0</td>\n",
              "      <td>40.86</td>\n",
              "      <td>886</td>\n",
              "      <td>2016</td>\n",
              "      <td>4</td>\n",
              "      <td>1</td>\n",
              "    </tr>\n",
              "    <tr>\n",
              "      <th>...</th>\n",
              "      <td>...</td>\n",
              "      <td>...</td>\n",
              "      <td>...</td>\n",
              "      <td>...</td>\n",
              "      <td>...</td>\n",
              "      <td>...</td>\n",
              "      <td>...</td>\n",
              "      <td>...</td>\n",
              "      <td>...</td>\n",
              "      <td>...</td>\n",
              "      <td>...</td>\n",
              "      <td>...</td>\n",
              "      <td>...</td>\n",
              "      <td>...</td>\n",
              "      <td>...</td>\n",
              "      <td>...</td>\n",
              "      <td>...</td>\n",
              "      <td>...</td>\n",
              "    </tr>\n",
              "    <tr>\n",
              "      <th>307746</th>\n",
              "      <td>420</td>\n",
              "      <td>2</td>\n",
              "      <td>7</td>\n",
              "      <td>2</td>\n",
              "      <td>7</td>\n",
              "      <td>4.7808</td>\n",
              "      <td>117.45</td>\n",
              "      <td>46.67</td>\n",
              "      <td>3127.0</td>\n",
              "      <td>9.5648</td>\n",
              "      <td>0.7</td>\n",
              "      <td>2.5</td>\n",
              "      <td>0</td>\n",
              "      <td>2.14</td>\n",
              "      <td>325</td>\n",
              "      <td>2015</td>\n",
              "      <td>8</td>\n",
              "      <td>4</td>\n",
              "    </tr>\n",
              "    <tr>\n",
              "      <th>307747</th>\n",
              "      <td>420</td>\n",
              "      <td>2</td>\n",
              "      <td>7</td>\n",
              "      <td>2</td>\n",
              "      <td>7</td>\n",
              "      <td>5.6448</td>\n",
              "      <td>110.70</td>\n",
              "      <td>47.88</td>\n",
              "      <td>3208.0</td>\n",
              "      <td>11.1264</td>\n",
              "      <td>0.7</td>\n",
              "      <td>2.4</td>\n",
              "      <td>0</td>\n",
              "      <td>2.63</td>\n",
              "      <td>326</td>\n",
              "      <td>2015</td>\n",
              "      <td>8</td>\n",
              "      <td>5</td>\n",
              "    </tr>\n",
              "    <tr>\n",
              "      <th>307748</th>\n",
              "      <td>420</td>\n",
              "      <td>2</td>\n",
              "      <td>7</td>\n",
              "      <td>2</td>\n",
              "      <td>7</td>\n",
              "      <td>4.4352</td>\n",
              "      <td>143.10</td>\n",
              "      <td>46.63</td>\n",
              "      <td>3124.0</td>\n",
              "      <td>8.4738</td>\n",
              "      <td>0.7</td>\n",
              "      <td>2.4</td>\n",
              "      <td>0</td>\n",
              "      <td>2.01</td>\n",
              "      <td>327</td>\n",
              "      <td>2015</td>\n",
              "      <td>8</td>\n",
              "      <td>6</td>\n",
              "    </tr>\n",
              "    <tr>\n",
              "      <th>307749</th>\n",
              "      <td>420</td>\n",
              "      <td>2</td>\n",
              "      <td>7</td>\n",
              "      <td>2</td>\n",
              "      <td>7</td>\n",
              "      <td>5.5872</td>\n",
              "      <td>167.50</td>\n",
              "      <td>46.45</td>\n",
              "      <td>3112.0</td>\n",
              "      <td>7.3200</td>\n",
              "      <td>0.4</td>\n",
              "      <td>2.2</td>\n",
              "      <td>0</td>\n",
              "      <td>2.09</td>\n",
              "      <td>329</td>\n",
              "      <td>2015</td>\n",
              "      <td>8</td>\n",
              "      <td>8</td>\n",
              "    </tr>\n",
              "    <tr>\n",
              "      <th>307750</th>\n",
              "      <td>420</td>\n",
              "      <td>2</td>\n",
              "      <td>7</td>\n",
              "      <td>2</td>\n",
              "      <td>7</td>\n",
              "      <td>21.8400</td>\n",
              "      <td>0.00</td>\n",
              "      <td>56.40</td>\n",
              "      <td>3779.0</td>\n",
              "      <td>8.9745</td>\n",
              "      <td>0.2</td>\n",
              "      <td>27.8</td>\n",
              "      <td>0</td>\n",
              "      <td>26.19</td>\n",
              "      <td>810</td>\n",
              "      <td>2016</td>\n",
              "      <td>12</td>\n",
              "      <td>1</td>\n",
              "    </tr>\n",
              "  </tbody>\n",
              "</table>\n",
              "<p>107457 rows × 18 columns</p>\n",
              "</div>"
            ],
            "text/plain": [
              "         ID  REGION_CLUSTER  MAINTENANCE_VENDOR  ...  YEAR  MONTH  DAY\n",
              "1462      2               2                   3  ...  2015     12    2\n",
              "1463      2               2                   3  ...  2016      3   29\n",
              "1464      2               2                   3  ...  2016      3   30\n",
              "1465      2               2                   3  ...  2016      3   31\n",
              "1466      2               2                   3  ...  2016      4    1\n",
              "...     ...             ...                 ...  ...   ...    ...  ...\n",
              "307746  420               2                   7  ...  2015      8    4\n",
              "307747  420               2                   7  ...  2015      8    5\n",
              "307748  420               2                   7  ...  2015      8    6\n",
              "307749  420               2                   7  ...  2015      8    8\n",
              "307750  420               2                   7  ...  2016     12    1\n",
              "\n",
              "[107457 rows x 18 columns]"
            ]
          },
          "metadata": {
            "tags": []
          },
          "execution_count": 37
        }
      ]
    },
    {
      "cell_type": "code",
      "metadata": {
        "id": "gz5FX_U8F4L9"
      },
      "source": [
        "train_features = train.drop(['EQUIPMENT_FAILURE'],1)\n",
        "train_label = train.EQUIPMENT_FAILURE"
      ],
      "execution_count": 19,
      "outputs": []
    },
    {
      "cell_type": "code",
      "metadata": {
        "id": "LY_zzchuK6rX",
        "colab": {
          "base_uri": "https://localhost:8080/",
          "height": 419
        },
        "outputId": "a0d6ec3a-e61e-4df6-fd04-2fd24351a789"
      },
      "source": [
        "train_features"
      ],
      "execution_count": 39,
      "outputs": [
        {
          "output_type": "execute_result",
          "data": {
            "text/html": [
              "<div>\n",
              "<style scoped>\n",
              "    .dataframe tbody tr th:only-of-type {\n",
              "        vertical-align: middle;\n",
              "    }\n",
              "\n",
              "    .dataframe tbody tr th {\n",
              "        vertical-align: top;\n",
              "    }\n",
              "\n",
              "    .dataframe thead th {\n",
              "        text-align: right;\n",
              "    }\n",
              "</style>\n",
              "<table border=\"1\" class=\"dataframe\">\n",
              "  <thead>\n",
              "    <tr style=\"text-align: right;\">\n",
              "      <th></th>\n",
              "      <th>ID</th>\n",
              "      <th>REGION_CLUSTER</th>\n",
              "      <th>MAINTENANCE_VENDOR</th>\n",
              "      <th>MANUFACTURER</th>\n",
              "      <th>WELL_GROUP</th>\n",
              "      <th>S15</th>\n",
              "      <th>S17</th>\n",
              "      <th>S13</th>\n",
              "      <th>S5</th>\n",
              "      <th>S16</th>\n",
              "      <th>S19</th>\n",
              "      <th>S18</th>\n",
              "      <th>S8</th>\n",
              "      <th>AGE_OF_EQUIPMENT</th>\n",
              "      <th>YEAR</th>\n",
              "      <th>MONTH</th>\n",
              "      <th>DAY</th>\n",
              "    </tr>\n",
              "  </thead>\n",
              "  <tbody>\n",
              "    <tr>\n",
              "      <th>1462</th>\n",
              "      <td>2</td>\n",
              "      <td>2</td>\n",
              "      <td>3</td>\n",
              "      <td>3</td>\n",
              "      <td>1</td>\n",
              "      <td>19.9200</td>\n",
              "      <td>0.00</td>\n",
              "      <td>35.65</td>\n",
              "      <td>3173.0</td>\n",
              "      <td>7.6500</td>\n",
              "      <td>0.0</td>\n",
              "      <td>2.9</td>\n",
              "      <td>124.41</td>\n",
              "      <td>765</td>\n",
              "      <td>2015</td>\n",
              "      <td>12</td>\n",
              "      <td>2</td>\n",
              "    </tr>\n",
              "    <tr>\n",
              "      <th>1463</th>\n",
              "      <td>2</td>\n",
              "      <td>2</td>\n",
              "      <td>3</td>\n",
              "      <td>3</td>\n",
              "      <td>1</td>\n",
              "      <td>9.5832</td>\n",
              "      <td>210.56</td>\n",
              "      <td>35.34</td>\n",
              "      <td>3145.0</td>\n",
              "      <td>8.4524</td>\n",
              "      <td>0.9</td>\n",
              "      <td>0.2</td>\n",
              "      <td>0.00</td>\n",
              "      <td>883</td>\n",
              "      <td>2016</td>\n",
              "      <td>3</td>\n",
              "      <td>29</td>\n",
              "    </tr>\n",
              "    <tr>\n",
              "      <th>1464</th>\n",
              "      <td>2</td>\n",
              "      <td>2</td>\n",
              "      <td>3</td>\n",
              "      <td>3</td>\n",
              "      <td>1</td>\n",
              "      <td>7.2072</td>\n",
              "      <td>213.57</td>\n",
              "      <td>34.75</td>\n",
              "      <td>3093.0</td>\n",
              "      <td>7.2556</td>\n",
              "      <td>0.9</td>\n",
              "      <td>0.3</td>\n",
              "      <td>0.01</td>\n",
              "      <td>884</td>\n",
              "      <td>2016</td>\n",
              "      <td>3</td>\n",
              "      <td>30</td>\n",
              "    </tr>\n",
              "    <tr>\n",
              "      <th>1465</th>\n",
              "      <td>2</td>\n",
              "      <td>2</td>\n",
              "      <td>3</td>\n",
              "      <td>3</td>\n",
              "      <td>1</td>\n",
              "      <td>9.2664</td>\n",
              "      <td>154.16</td>\n",
              "      <td>35.63</td>\n",
              "      <td>3171.0</td>\n",
              "      <td>8.5905</td>\n",
              "      <td>0.9</td>\n",
              "      <td>0.2</td>\n",
              "      <td>40.76</td>\n",
              "      <td>885</td>\n",
              "      <td>2016</td>\n",
              "      <td>3</td>\n",
              "      <td>31</td>\n",
              "    </tr>\n",
              "    <tr>\n",
              "      <th>1466</th>\n",
              "      <td>2</td>\n",
              "      <td>2</td>\n",
              "      <td>3</td>\n",
              "      <td>3</td>\n",
              "      <td>1</td>\n",
              "      <td>8.7120</td>\n",
              "      <td>157.92</td>\n",
              "      <td>35.93</td>\n",
              "      <td>3198.0</td>\n",
              "      <td>5.6848</td>\n",
              "      <td>0.9</td>\n",
              "      <td>0.2</td>\n",
              "      <td>40.86</td>\n",
              "      <td>886</td>\n",
              "      <td>2016</td>\n",
              "      <td>4</td>\n",
              "      <td>1</td>\n",
              "    </tr>\n",
              "    <tr>\n",
              "      <th>...</th>\n",
              "      <td>...</td>\n",
              "      <td>...</td>\n",
              "      <td>...</td>\n",
              "      <td>...</td>\n",
              "      <td>...</td>\n",
              "      <td>...</td>\n",
              "      <td>...</td>\n",
              "      <td>...</td>\n",
              "      <td>...</td>\n",
              "      <td>...</td>\n",
              "      <td>...</td>\n",
              "      <td>...</td>\n",
              "      <td>...</td>\n",
              "      <td>...</td>\n",
              "      <td>...</td>\n",
              "      <td>...</td>\n",
              "      <td>...</td>\n",
              "    </tr>\n",
              "    <tr>\n",
              "      <th>307746</th>\n",
              "      <td>420</td>\n",
              "      <td>2</td>\n",
              "      <td>7</td>\n",
              "      <td>2</td>\n",
              "      <td>7</td>\n",
              "      <td>4.7808</td>\n",
              "      <td>117.45</td>\n",
              "      <td>46.67</td>\n",
              "      <td>3127.0</td>\n",
              "      <td>9.5648</td>\n",
              "      <td>0.7</td>\n",
              "      <td>2.5</td>\n",
              "      <td>2.14</td>\n",
              "      <td>325</td>\n",
              "      <td>2015</td>\n",
              "      <td>8</td>\n",
              "      <td>4</td>\n",
              "    </tr>\n",
              "    <tr>\n",
              "      <th>307747</th>\n",
              "      <td>420</td>\n",
              "      <td>2</td>\n",
              "      <td>7</td>\n",
              "      <td>2</td>\n",
              "      <td>7</td>\n",
              "      <td>5.6448</td>\n",
              "      <td>110.70</td>\n",
              "      <td>47.88</td>\n",
              "      <td>3208.0</td>\n",
              "      <td>11.1264</td>\n",
              "      <td>0.7</td>\n",
              "      <td>2.4</td>\n",
              "      <td>2.63</td>\n",
              "      <td>326</td>\n",
              "      <td>2015</td>\n",
              "      <td>8</td>\n",
              "      <td>5</td>\n",
              "    </tr>\n",
              "    <tr>\n",
              "      <th>307748</th>\n",
              "      <td>420</td>\n",
              "      <td>2</td>\n",
              "      <td>7</td>\n",
              "      <td>2</td>\n",
              "      <td>7</td>\n",
              "      <td>4.4352</td>\n",
              "      <td>143.10</td>\n",
              "      <td>46.63</td>\n",
              "      <td>3124.0</td>\n",
              "      <td>8.4738</td>\n",
              "      <td>0.7</td>\n",
              "      <td>2.4</td>\n",
              "      <td>2.01</td>\n",
              "      <td>327</td>\n",
              "      <td>2015</td>\n",
              "      <td>8</td>\n",
              "      <td>6</td>\n",
              "    </tr>\n",
              "    <tr>\n",
              "      <th>307749</th>\n",
              "      <td>420</td>\n",
              "      <td>2</td>\n",
              "      <td>7</td>\n",
              "      <td>2</td>\n",
              "      <td>7</td>\n",
              "      <td>5.5872</td>\n",
              "      <td>167.50</td>\n",
              "      <td>46.45</td>\n",
              "      <td>3112.0</td>\n",
              "      <td>7.3200</td>\n",
              "      <td>0.4</td>\n",
              "      <td>2.2</td>\n",
              "      <td>2.09</td>\n",
              "      <td>329</td>\n",
              "      <td>2015</td>\n",
              "      <td>8</td>\n",
              "      <td>8</td>\n",
              "    </tr>\n",
              "    <tr>\n",
              "      <th>307750</th>\n",
              "      <td>420</td>\n",
              "      <td>2</td>\n",
              "      <td>7</td>\n",
              "      <td>2</td>\n",
              "      <td>7</td>\n",
              "      <td>21.8400</td>\n",
              "      <td>0.00</td>\n",
              "      <td>56.40</td>\n",
              "      <td>3779.0</td>\n",
              "      <td>8.9745</td>\n",
              "      <td>0.2</td>\n",
              "      <td>27.8</td>\n",
              "      <td>26.19</td>\n",
              "      <td>810</td>\n",
              "      <td>2016</td>\n",
              "      <td>12</td>\n",
              "      <td>1</td>\n",
              "    </tr>\n",
              "  </tbody>\n",
              "</table>\n",
              "<p>107457 rows × 17 columns</p>\n",
              "</div>"
            ],
            "text/plain": [
              "         ID  REGION_CLUSTER  MAINTENANCE_VENDOR  ...  YEAR  MONTH  DAY\n",
              "1462      2               2                   3  ...  2015     12    2\n",
              "1463      2               2                   3  ...  2016      3   29\n",
              "1464      2               2                   3  ...  2016      3   30\n",
              "1465      2               2                   3  ...  2016      3   31\n",
              "1466      2               2                   3  ...  2016      4    1\n",
              "...     ...             ...                 ...  ...   ...    ...  ...\n",
              "307746  420               2                   7  ...  2015      8    4\n",
              "307747  420               2                   7  ...  2015      8    5\n",
              "307748  420               2                   7  ...  2015      8    6\n",
              "307749  420               2                   7  ...  2015      8    8\n",
              "307750  420               2                   7  ...  2016     12    1\n",
              "\n",
              "[107457 rows x 17 columns]"
            ]
          },
          "metadata": {
            "tags": []
          },
          "execution_count": 39
        }
      ]
    },
    {
      "cell_type": "code",
      "metadata": {
        "id": "DTHgyRDLpVU8"
      },
      "source": [
        "cat_features = [['ID',\t'REGION_CLUSTER',\t'MAINTENANCE_VENDOR', 'MANUFACTURER',\t'WELL_GROUP']]"
      ],
      "execution_count": 40,
      "outputs": []
    },
    {
      "cell_type": "code",
      "metadata": {
        "id": "P5uZurJxKrr4",
        "colab": {
          "base_uri": "https://localhost:8080/",
          "height": 450
        },
        "outputId": "79207f45-4559-42e4-bfe3-74fe07acd70a"
      },
      "source": [
        "from imblearn.over_sampling import SMOTE\n",
        "from imblearn.over_sampling import SMOTENC\n",
        "#smx = SMOTENC(random_state=12,  categorical_features=[0, 2, 3, 4, 5, 6, 7, 8, 9, 10, 11, 12,13,14])\n",
        "smx = SMOTENC(random_state=12,  categorical_features=[0, 1, 3, 4, 14, 15, 16])\n",
        "x_res, y_res = smx.fit_sample(train_features, train_label.values.ravel())"
      ],
      "execution_count": 41,
      "outputs": [
        {
          "output_type": "stream",
          "text": [
            "/usr/local/lib/python3.7/dist-packages/sklearn/utils/deprecation.py:87: FutureWarning: Function safe_indexing is deprecated; safe_indexing is deprecated in version 0.22 and will be removed in version 0.24.\n",
            "  warnings.warn(msg, category=FutureWarning)\n",
            "/usr/local/lib/python3.7/dist-packages/sklearn/utils/deprecation.py:87: FutureWarning: Function safe_indexing is deprecated; safe_indexing is deprecated in version 0.22 and will be removed in version 0.24.\n",
            "  warnings.warn(msg, category=FutureWarning)\n"
          ],
          "name": "stderr"
        },
        {
          "output_type": "error",
          "ename": "KeyboardInterrupt",
          "evalue": "ignored",
          "traceback": [
            "\u001b[0;31m---------------------------------------------------------------------------\u001b[0m",
            "\u001b[0;31mKeyboardInterrupt\u001b[0m                         Traceback (most recent call last)",
            "\u001b[0;32m<ipython-input-41-f159dba1814b>\u001b[0m in \u001b[0;36m<module>\u001b[0;34m()\u001b[0m\n\u001b[1;32m      3\u001b[0m \u001b[0;31m#smx = SMOTENC(random_state=12,  categorical_features=[0, 2, 3, 4, 5, 6, 7, 8, 9, 10, 11, 12,13,14])\u001b[0m\u001b[0;34m\u001b[0m\u001b[0;34m\u001b[0m\u001b[0;34m\u001b[0m\u001b[0m\n\u001b[1;32m      4\u001b[0m \u001b[0msmx\u001b[0m \u001b[0;34m=\u001b[0m \u001b[0mSMOTENC\u001b[0m\u001b[0;34m(\u001b[0m\u001b[0mrandom_state\u001b[0m\u001b[0;34m=\u001b[0m\u001b[0;36m12\u001b[0m\u001b[0;34m,\u001b[0m  \u001b[0mcategorical_features\u001b[0m\u001b[0;34m=\u001b[0m\u001b[0;34m[\u001b[0m\u001b[0;36m0\u001b[0m\u001b[0;34m,\u001b[0m \u001b[0;36m1\u001b[0m\u001b[0;34m,\u001b[0m \u001b[0;36m3\u001b[0m\u001b[0;34m,\u001b[0m \u001b[0;36m4\u001b[0m\u001b[0;34m,\u001b[0m \u001b[0;36m14\u001b[0m\u001b[0;34m,\u001b[0m \u001b[0;36m15\u001b[0m\u001b[0;34m,\u001b[0m \u001b[0;36m16\u001b[0m\u001b[0;34m]\u001b[0m\u001b[0;34m)\u001b[0m\u001b[0;34m\u001b[0m\u001b[0;34m\u001b[0m\u001b[0m\n\u001b[0;32m----> 5\u001b[0;31m \u001b[0mx_res\u001b[0m\u001b[0;34m,\u001b[0m \u001b[0my_res\u001b[0m \u001b[0;34m=\u001b[0m \u001b[0msmx\u001b[0m\u001b[0;34m.\u001b[0m\u001b[0mfit_sample\u001b[0m\u001b[0;34m(\u001b[0m\u001b[0mtrain_features\u001b[0m\u001b[0;34m,\u001b[0m \u001b[0mtrain_label\u001b[0m\u001b[0;34m.\u001b[0m\u001b[0mvalues\u001b[0m\u001b[0;34m.\u001b[0m\u001b[0mravel\u001b[0m\u001b[0;34m(\u001b[0m\u001b[0;34m)\u001b[0m\u001b[0;34m)\u001b[0m\u001b[0;34m\u001b[0m\u001b[0;34m\u001b[0m\u001b[0m\n\u001b[0m",
            "\u001b[0;32m/usr/local/lib/python3.7/dist-packages/imblearn/base.py\u001b[0m in \u001b[0;36mfit_resample\u001b[0;34m(self, X, y)\u001b[0m\n\u001b[1;32m     83\u001b[0m             self.sampling_strategy, y, self._sampling_type)\n\u001b[1;32m     84\u001b[0m \u001b[0;34m\u001b[0m\u001b[0m\n\u001b[0;32m---> 85\u001b[0;31m         \u001b[0moutput\u001b[0m \u001b[0;34m=\u001b[0m \u001b[0mself\u001b[0m\u001b[0;34m.\u001b[0m\u001b[0m_fit_resample\u001b[0m\u001b[0;34m(\u001b[0m\u001b[0mX\u001b[0m\u001b[0;34m,\u001b[0m \u001b[0my\u001b[0m\u001b[0;34m)\u001b[0m\u001b[0;34m\u001b[0m\u001b[0;34m\u001b[0m\u001b[0m\n\u001b[0m\u001b[1;32m     86\u001b[0m \u001b[0;34m\u001b[0m\u001b[0m\n\u001b[1;32m     87\u001b[0m         \u001b[0;32mif\u001b[0m \u001b[0mbinarize_y\u001b[0m\u001b[0;34m:\u001b[0m\u001b[0;34m\u001b[0m\u001b[0;34m\u001b[0m\u001b[0m\n",
            "\u001b[0;32m/usr/local/lib/python3.7/dist-packages/imblearn/over_sampling/_smote.py\u001b[0m in \u001b[0;36m_fit_resample\u001b[0;34m(self, X, y)\u001b[0m\n\u001b[1;32m    979\u001b[0m \u001b[0;34m\u001b[0m\u001b[0m\n\u001b[1;32m    980\u001b[0m         X_resampled, y_resampled = super(SMOTENC, self)._fit_resample(\n\u001b[0;32m--> 981\u001b[0;31m             X_encoded, y)\n\u001b[0m\u001b[1;32m    982\u001b[0m \u001b[0;34m\u001b[0m\u001b[0m\n\u001b[1;32m    983\u001b[0m         \u001b[0;31m# reverse the encoding of the categorical features\u001b[0m\u001b[0;34m\u001b[0m\u001b[0;34m\u001b[0m\u001b[0;34m\u001b[0m\u001b[0m\n",
            "\u001b[0;32m/usr/local/lib/python3.7/dist-packages/imblearn/over_sampling/_smote.py\u001b[0m in \u001b[0;36m_fit_resample\u001b[0;34m(self, X, y)\u001b[0m\n\u001b[1;32m    794\u001b[0m     \u001b[0;32mdef\u001b[0m \u001b[0m_fit_resample\u001b[0m\u001b[0;34m(\u001b[0m\u001b[0mself\u001b[0m\u001b[0;34m,\u001b[0m \u001b[0mX\u001b[0m\u001b[0;34m,\u001b[0m \u001b[0my\u001b[0m\u001b[0;34m)\u001b[0m\u001b[0;34m:\u001b[0m\u001b[0;34m\u001b[0m\u001b[0;34m\u001b[0m\u001b[0m\n\u001b[1;32m    795\u001b[0m         \u001b[0mself\u001b[0m\u001b[0;34m.\u001b[0m\u001b[0m_validate_estimator\u001b[0m\u001b[0;34m(\u001b[0m\u001b[0;34m)\u001b[0m\u001b[0;34m\u001b[0m\u001b[0;34m\u001b[0m\u001b[0m\n\u001b[0;32m--> 796\u001b[0;31m         \u001b[0;32mreturn\u001b[0m \u001b[0mself\u001b[0m\u001b[0;34m.\u001b[0m\u001b[0m_sample\u001b[0m\u001b[0;34m(\u001b[0m\u001b[0mX\u001b[0m\u001b[0;34m,\u001b[0m \u001b[0my\u001b[0m\u001b[0;34m)\u001b[0m\u001b[0;34m\u001b[0m\u001b[0;34m\u001b[0m\u001b[0m\n\u001b[0m\u001b[1;32m    797\u001b[0m \u001b[0;34m\u001b[0m\u001b[0m\n\u001b[1;32m    798\u001b[0m     \u001b[0;32mdef\u001b[0m \u001b[0m_sample\u001b[0m\u001b[0;34m(\u001b[0m\u001b[0mself\u001b[0m\u001b[0;34m,\u001b[0m \u001b[0mX\u001b[0m\u001b[0;34m,\u001b[0m \u001b[0my\u001b[0m\u001b[0;34m)\u001b[0m\u001b[0;34m:\u001b[0m\u001b[0;34m\u001b[0m\u001b[0;34m\u001b[0m\u001b[0m\n",
            "\u001b[0;32m/usr/local/lib/python3.7/dist-packages/imblearn/over_sampling/_smote.py\u001b[0m in \u001b[0;36m_sample\u001b[0;34m(self, X, y)\u001b[0m\n\u001b[1;32m    812\u001b[0m             \u001b[0mnns\u001b[0m \u001b[0;34m=\u001b[0m \u001b[0mself\u001b[0m\u001b[0;34m.\u001b[0m\u001b[0mnn_k_\u001b[0m\u001b[0;34m.\u001b[0m\u001b[0mkneighbors\u001b[0m\u001b[0;34m(\u001b[0m\u001b[0mX_class\u001b[0m\u001b[0;34m,\u001b[0m \u001b[0mreturn_distance\u001b[0m\u001b[0;34m=\u001b[0m\u001b[0;32mFalse\u001b[0m\u001b[0;34m)\u001b[0m\u001b[0;34m[\u001b[0m\u001b[0;34m:\u001b[0m\u001b[0;34m,\u001b[0m \u001b[0;36m1\u001b[0m\u001b[0;34m:\u001b[0m\u001b[0;34m]\u001b[0m\u001b[0;34m\u001b[0m\u001b[0;34m\u001b[0m\u001b[0m\n\u001b[1;32m    813\u001b[0m             X_new, y_new = self._make_samples(X_class, y.dtype, class_sample,\n\u001b[0;32m--> 814\u001b[0;31m                                               X_class, nns, n_samples, 1.0)\n\u001b[0m\u001b[1;32m    815\u001b[0m \u001b[0;34m\u001b[0m\u001b[0m\n\u001b[1;32m    816\u001b[0m             \u001b[0;32mif\u001b[0m \u001b[0msparse\u001b[0m\u001b[0;34m.\u001b[0m\u001b[0missparse\u001b[0m\u001b[0;34m(\u001b[0m\u001b[0mX_new\u001b[0m\u001b[0;34m)\u001b[0m\u001b[0;34m:\u001b[0m\u001b[0;34m\u001b[0m\u001b[0;34m\u001b[0m\u001b[0m\n",
            "\u001b[0;32m/usr/local/lib/python3.7/dist-packages/imblearn/over_sampling/_smote.py\u001b[0m in \u001b[0;36m_make_samples\u001b[0;34m(self, X, y_dtype, y_type, nn_data, nn_num, n_samples, step_size)\u001b[0m\n\u001b[1;32m    118\u001b[0m                 \u001b[0;32mif\u001b[0m \u001b[0mX\u001b[0m\u001b[0;34m[\u001b[0m\u001b[0mrow\u001b[0m\u001b[0;34m]\u001b[0m\u001b[0;34m.\u001b[0m\u001b[0mnnz\u001b[0m\u001b[0;34m:\u001b[0m\u001b[0;34m\u001b[0m\u001b[0;34m\u001b[0m\u001b[0m\n\u001b[1;32m    119\u001b[0m                     sample = self._generate_sample(X, nn_data, nn_num,\n\u001b[0;32m--> 120\u001b[0;31m                                                    row, col, step)\n\u001b[0m\u001b[1;32m    121\u001b[0m                     \u001b[0mrow_indices\u001b[0m \u001b[0;34m+=\u001b[0m \u001b[0;34m[\u001b[0m\u001b[0mi\u001b[0m\u001b[0;34m]\u001b[0m \u001b[0;34m*\u001b[0m \u001b[0mlen\u001b[0m\u001b[0;34m(\u001b[0m\u001b[0msample\u001b[0m\u001b[0;34m.\u001b[0m\u001b[0mindices\u001b[0m\u001b[0;34m)\u001b[0m\u001b[0;34m\u001b[0m\u001b[0;34m\u001b[0m\u001b[0m\n\u001b[1;32m    122\u001b[0m                     \u001b[0mcol_indices\u001b[0m \u001b[0;34m+=\u001b[0m \u001b[0msample\u001b[0m\u001b[0;34m.\u001b[0m\u001b[0mindices\u001b[0m\u001b[0;34m.\u001b[0m\u001b[0mtolist\u001b[0m\u001b[0;34m(\u001b[0m\u001b[0;34m)\u001b[0m\u001b[0;34m\u001b[0m\u001b[0;34m\u001b[0m\u001b[0m\n",
            "\u001b[0;32m/usr/local/lib/python3.7/dist-packages/imblearn/over_sampling/_smote.py\u001b[0m in \u001b[0;36m_generate_sample\u001b[0;34m(self, X, nn_data, nn_num, row, col, step)\u001b[0m\n\u001b[1;32m   1022\u001b[0m         \u001b[0mrng\u001b[0m \u001b[0;34m=\u001b[0m \u001b[0mcheck_random_state\u001b[0m\u001b[0;34m(\u001b[0m\u001b[0mself\u001b[0m\u001b[0;34m.\u001b[0m\u001b[0mrandom_state\u001b[0m\u001b[0;34m)\u001b[0m\u001b[0;34m\u001b[0m\u001b[0;34m\u001b[0m\u001b[0m\n\u001b[1;32m   1023\u001b[0m         sample = super(SMOTENC, self)._generate_sample(X, nn_data, nn_num,\n\u001b[0;32m-> 1024\u001b[0;31m                                                        row, col, step)\n\u001b[0m\u001b[1;32m   1025\u001b[0m         \u001b[0;31m# To avoid conversion and since there is only few samples used, we\u001b[0m\u001b[0;34m\u001b[0m\u001b[0;34m\u001b[0m\u001b[0;34m\u001b[0m\u001b[0m\n\u001b[1;32m   1026\u001b[0m         \u001b[0;31m# convert those samples to dense array.\u001b[0m\u001b[0;34m\u001b[0m\u001b[0;34m\u001b[0m\u001b[0;34m\u001b[0m\u001b[0m\n",
            "\u001b[0;32m/usr/local/lib/python3.7/dist-packages/imblearn/over_sampling/_smote.py\u001b[0m in \u001b[0;36m_generate_sample\u001b[0;34m(self, X, nn_data, nn_num, row, col, step)\u001b[0m\n\u001b[1;32m    174\u001b[0m \u001b[0;34m\u001b[0m\u001b[0m\n\u001b[1;32m    175\u001b[0m         \"\"\"\n\u001b[0;32m--> 176\u001b[0;31m         \u001b[0;32mreturn\u001b[0m \u001b[0mX\u001b[0m\u001b[0;34m[\u001b[0m\u001b[0mrow\u001b[0m\u001b[0;34m]\u001b[0m \u001b[0;34m-\u001b[0m \u001b[0mstep\u001b[0m \u001b[0;34m*\u001b[0m \u001b[0;34m(\u001b[0m\u001b[0mX\u001b[0m\u001b[0;34m[\u001b[0m\u001b[0mrow\u001b[0m\u001b[0;34m]\u001b[0m \u001b[0;34m-\u001b[0m \u001b[0mnn_data\u001b[0m\u001b[0;34m[\u001b[0m\u001b[0mnn_num\u001b[0m\u001b[0;34m[\u001b[0m\u001b[0mrow\u001b[0m\u001b[0;34m,\u001b[0m \u001b[0mcol\u001b[0m\u001b[0;34m]\u001b[0m\u001b[0;34m]\u001b[0m\u001b[0;34m)\u001b[0m\u001b[0;34m\u001b[0m\u001b[0;34m\u001b[0m\u001b[0m\n\u001b[0m\u001b[1;32m    177\u001b[0m \u001b[0;34m\u001b[0m\u001b[0m\n\u001b[1;32m    178\u001b[0m     def _in_danger_noise(self, nn_estimator, samples, target_class, y,\n",
            "\u001b[0;32m/usr/local/lib/python3.7/dist-packages/scipy/sparse/_index.py\u001b[0m in \u001b[0;36m__getitem__\u001b[0;34m(self, key)\u001b[0m\n\u001b[1;32m     39\u001b[0m                 \u001b[0;32mreturn\u001b[0m \u001b[0mself\u001b[0m\u001b[0;34m.\u001b[0m\u001b[0m_get_intXint\u001b[0m\u001b[0;34m(\u001b[0m\u001b[0mrow\u001b[0m\u001b[0;34m,\u001b[0m \u001b[0mcol\u001b[0m\u001b[0;34m)\u001b[0m\u001b[0;34m\u001b[0m\u001b[0;34m\u001b[0m\u001b[0m\n\u001b[1;32m     40\u001b[0m             \u001b[0;32melif\u001b[0m \u001b[0misinstance\u001b[0m\u001b[0;34m(\u001b[0m\u001b[0mcol\u001b[0m\u001b[0;34m,\u001b[0m \u001b[0mslice\u001b[0m\u001b[0;34m)\u001b[0m\u001b[0;34m:\u001b[0m\u001b[0;34m\u001b[0m\u001b[0;34m\u001b[0m\u001b[0m\n\u001b[0;32m---> 41\u001b[0;31m                 \u001b[0;32mreturn\u001b[0m \u001b[0mself\u001b[0m\u001b[0;34m.\u001b[0m\u001b[0m_get_intXslice\u001b[0m\u001b[0;34m(\u001b[0m\u001b[0mrow\u001b[0m\u001b[0;34m,\u001b[0m \u001b[0mcol\u001b[0m\u001b[0;34m)\u001b[0m\u001b[0;34m\u001b[0m\u001b[0;34m\u001b[0m\u001b[0m\n\u001b[0m\u001b[1;32m     42\u001b[0m             \u001b[0;32melif\u001b[0m \u001b[0mcol\u001b[0m\u001b[0;34m.\u001b[0m\u001b[0mndim\u001b[0m \u001b[0;34m==\u001b[0m \u001b[0;36m1\u001b[0m\u001b[0;34m:\u001b[0m\u001b[0;34m\u001b[0m\u001b[0;34m\u001b[0m\u001b[0m\n\u001b[1;32m     43\u001b[0m                 \u001b[0;32mreturn\u001b[0m \u001b[0mself\u001b[0m\u001b[0;34m.\u001b[0m\u001b[0m_get_intXarray\u001b[0m\u001b[0;34m(\u001b[0m\u001b[0mrow\u001b[0m\u001b[0;34m,\u001b[0m \u001b[0mcol\u001b[0m\u001b[0;34m)\u001b[0m\u001b[0;34m\u001b[0m\u001b[0;34m\u001b[0m\u001b[0m\n",
            "\u001b[0;32m/usr/local/lib/python3.7/dist-packages/scipy/sparse/csr.py\u001b[0m in \u001b[0;36m_get_intXslice\u001b[0;34m(self, row, col)\u001b[0m\n\u001b[1;32m    277\u001b[0m     \u001b[0;32mdef\u001b[0m \u001b[0m_get_intXslice\u001b[0m\u001b[0;34m(\u001b[0m\u001b[0mself\u001b[0m\u001b[0;34m,\u001b[0m \u001b[0mrow\u001b[0m\u001b[0;34m,\u001b[0m \u001b[0mcol\u001b[0m\u001b[0;34m)\u001b[0m\u001b[0;34m:\u001b[0m\u001b[0;34m\u001b[0m\u001b[0;34m\u001b[0m\u001b[0m\n\u001b[1;32m    278\u001b[0m         \u001b[0;32mif\u001b[0m \u001b[0mcol\u001b[0m\u001b[0;34m.\u001b[0m\u001b[0mstep\u001b[0m \u001b[0;32min\u001b[0m \u001b[0;34m(\u001b[0m\u001b[0;36m1\u001b[0m\u001b[0;34m,\u001b[0m \u001b[0;32mNone\u001b[0m\u001b[0;34m)\u001b[0m\u001b[0;34m:\u001b[0m\u001b[0;34m\u001b[0m\u001b[0;34m\u001b[0m\u001b[0m\n\u001b[0;32m--> 279\u001b[0;31m             \u001b[0;32mreturn\u001b[0m \u001b[0mself\u001b[0m\u001b[0;34m.\u001b[0m\u001b[0m_get_submatrix\u001b[0m\u001b[0;34m(\u001b[0m\u001b[0mrow\u001b[0m\u001b[0;34m,\u001b[0m \u001b[0mcol\u001b[0m\u001b[0;34m,\u001b[0m \u001b[0mcopy\u001b[0m\u001b[0;34m=\u001b[0m\u001b[0;32mTrue\u001b[0m\u001b[0;34m)\u001b[0m\u001b[0;34m\u001b[0m\u001b[0;34m\u001b[0m\u001b[0m\n\u001b[0m\u001b[1;32m    280\u001b[0m         \u001b[0;31m# TODO: uncomment this once it's faster:\u001b[0m\u001b[0;34m\u001b[0m\u001b[0;34m\u001b[0m\u001b[0;34m\u001b[0m\u001b[0m\n\u001b[1;32m    281\u001b[0m         \u001b[0;31m# return self.getrow(row)._minor_slice(col)\u001b[0m\u001b[0;34m\u001b[0m\u001b[0;34m\u001b[0m\u001b[0;34m\u001b[0m\u001b[0m\n",
            "\u001b[0;32m/usr/local/lib/python3.7/dist-packages/scipy/sparse/compressed.py\u001b[0m in \u001b[0;36m_get_submatrix\u001b[0;34m(self, major, minor, copy)\u001b[0m\n\u001b[1;32m    792\u001b[0m         \u001b[0mshape\u001b[0m \u001b[0;34m=\u001b[0m \u001b[0mself\u001b[0m\u001b[0;34m.\u001b[0m\u001b[0m_swap\u001b[0m\u001b[0;34m(\u001b[0m\u001b[0;34m(\u001b[0m\u001b[0mi1\u001b[0m \u001b[0;34m-\u001b[0m \u001b[0mi0\u001b[0m\u001b[0;34m,\u001b[0m \u001b[0mj1\u001b[0m \u001b[0;34m-\u001b[0m \u001b[0mj0\u001b[0m\u001b[0;34m)\u001b[0m\u001b[0;34m)\u001b[0m\u001b[0;34m\u001b[0m\u001b[0;34m\u001b[0m\u001b[0m\n\u001b[1;32m    793\u001b[0m         return self.__class__((data, indices, indptr), shape=shape,\n\u001b[0;32m--> 794\u001b[0;31m                               dtype=self.dtype, copy=False)\n\u001b[0m\u001b[1;32m    795\u001b[0m \u001b[0;34m\u001b[0m\u001b[0m\n\u001b[1;32m    796\u001b[0m     \u001b[0;32mdef\u001b[0m \u001b[0m_set_intXint\u001b[0m\u001b[0;34m(\u001b[0m\u001b[0mself\u001b[0m\u001b[0;34m,\u001b[0m \u001b[0mrow\u001b[0m\u001b[0;34m,\u001b[0m \u001b[0mcol\u001b[0m\u001b[0;34m,\u001b[0m \u001b[0mx\u001b[0m\u001b[0;34m)\u001b[0m\u001b[0;34m:\u001b[0m\u001b[0;34m\u001b[0m\u001b[0;34m\u001b[0m\u001b[0m\n",
            "\u001b[0;32m/usr/local/lib/python3.7/dist-packages/scipy/sparse/compressed.py\u001b[0m in \u001b[0;36m__init__\u001b[0;34m(self, arg1, shape, dtype, copy)\u001b[0m\n\u001b[1;32m     68\u001b[0m                     idx_dtype = get_index_dtype((indices, indptr),\n\u001b[1;32m     69\u001b[0m                                                 \u001b[0mmaxval\u001b[0m\u001b[0;34m=\u001b[0m\u001b[0mmaxval\u001b[0m\u001b[0;34m,\u001b[0m\u001b[0;34m\u001b[0m\u001b[0;34m\u001b[0m\u001b[0m\n\u001b[0;32m---> 70\u001b[0;31m                                                 check_contents=True)\n\u001b[0m\u001b[1;32m     71\u001b[0m \u001b[0;34m\u001b[0m\u001b[0m\n\u001b[1;32m     72\u001b[0m                     self.indices = np.array(indices, copy=copy,\n",
            "\u001b[0;32m/usr/local/lib/python3.7/dist-packages/scipy/sparse/sputils.py\u001b[0m in \u001b[0;36mget_index_dtype\u001b[0;34m(arrays, maxval, check_contents)\u001b[0m\n\u001b[1;32m    141\u001b[0m     \"\"\"\n\u001b[1;32m    142\u001b[0m \u001b[0;34m\u001b[0m\u001b[0m\n\u001b[0;32m--> 143\u001b[0;31m     \u001b[0mint32min\u001b[0m \u001b[0;34m=\u001b[0m \u001b[0mnp\u001b[0m\u001b[0;34m.\u001b[0m\u001b[0miinfo\u001b[0m\u001b[0;34m(\u001b[0m\u001b[0mnp\u001b[0m\u001b[0;34m.\u001b[0m\u001b[0mint32\u001b[0m\u001b[0;34m)\u001b[0m\u001b[0;34m.\u001b[0m\u001b[0mmin\u001b[0m\u001b[0;34m\u001b[0m\u001b[0;34m\u001b[0m\u001b[0m\n\u001b[0m\u001b[1;32m    144\u001b[0m     \u001b[0mint32max\u001b[0m \u001b[0;34m=\u001b[0m \u001b[0mnp\u001b[0m\u001b[0;34m.\u001b[0m\u001b[0miinfo\u001b[0m\u001b[0;34m(\u001b[0m\u001b[0mnp\u001b[0m\u001b[0;34m.\u001b[0m\u001b[0mint32\u001b[0m\u001b[0;34m)\u001b[0m\u001b[0;34m.\u001b[0m\u001b[0mmax\u001b[0m\u001b[0;34m\u001b[0m\u001b[0;34m\u001b[0m\u001b[0m\n\u001b[1;32m    145\u001b[0m \u001b[0;34m\u001b[0m\u001b[0m\n",
            "\u001b[0;32m/usr/local/lib/python3.7/dist-packages/numpy/core/getlimits.py\u001b[0m in \u001b[0;36m__init__\u001b[0;34m(self, int_type)\u001b[0m\n\u001b[1;32m    497\u001b[0m \u001b[0;34m\u001b[0m\u001b[0m\n\u001b[1;32m    498\u001b[0m     \u001b[0;32mdef\u001b[0m \u001b[0m__init__\u001b[0m\u001b[0;34m(\u001b[0m\u001b[0mself\u001b[0m\u001b[0;34m,\u001b[0m \u001b[0mint_type\u001b[0m\u001b[0;34m)\u001b[0m\u001b[0;34m:\u001b[0m\u001b[0;34m\u001b[0m\u001b[0;34m\u001b[0m\u001b[0m\n\u001b[0;32m--> 499\u001b[0;31m         \u001b[0;32mtry\u001b[0m\u001b[0;34m:\u001b[0m\u001b[0;34m\u001b[0m\u001b[0;34m\u001b[0m\u001b[0m\n\u001b[0m\u001b[1;32m    500\u001b[0m             \u001b[0mself\u001b[0m\u001b[0;34m.\u001b[0m\u001b[0mdtype\u001b[0m \u001b[0;34m=\u001b[0m \u001b[0mnumeric\u001b[0m\u001b[0;34m.\u001b[0m\u001b[0mdtype\u001b[0m\u001b[0;34m(\u001b[0m\u001b[0mint_type\u001b[0m\u001b[0;34m)\u001b[0m\u001b[0;34m\u001b[0m\u001b[0;34m\u001b[0m\u001b[0m\n\u001b[1;32m    501\u001b[0m         \u001b[0;32mexcept\u001b[0m \u001b[0mTypeError\u001b[0m\u001b[0;34m:\u001b[0m\u001b[0;34m\u001b[0m\u001b[0;34m\u001b[0m\u001b[0m\n",
            "\u001b[0;31mKeyboardInterrupt\u001b[0m: "
          ]
        }
      ]
    },
    {
      "cell_type": "code",
      "metadata": {
        "id": "eM_k_0fXNwDu"
      },
      "source": [
        "x = pd.DataFrame(x_res)\n",
        "y = pd.DataFrame(y_res)\n",
        "x.columns = train_features.columns\n",
        "y.columns = ['target']"
      ],
      "execution_count": null,
      "outputs": []
    },
    {
      "cell_type": "code",
      "metadata": {
        "id": "xjmqHu7kP_UH"
      },
      "source": [
        "y.mean(axis=0)"
      ],
      "execution_count": null,
      "outputs": []
    },
    {
      "cell_type": "code",
      "metadata": {
        "id": "hT9hQQ9gQA84"
      },
      "source": [
        "balanced_data = pd.concat([x,y],1)\n",
        "balanced_data"
      ],
      "execution_count": null,
      "outputs": []
    },
    {
      "cell_type": "code",
      "metadata": {
        "id": "YYloZeKA0VFj"
      },
      "source": [
        "#scaling\n",
        "from sklearn.preprocessing import StandardScaler\n",
        "def scale(dataset,target):\n",
        "  dataset_sc = pd.DataFrame(StandardScaler().fit_transform(dataset.drop(target,1)))\n",
        "  return pd.concat([dataset_sc,dataset.target],axis=1)"
      ],
      "execution_count": 20,
      "outputs": []
    },
    {
      "cell_type": "code",
      "metadata": {
        "id": "7HknV8EmXtr1"
      },
      "source": [
        ""
      ],
      "execution_count": null,
      "outputs": []
    },
    {
      "cell_type": "code",
      "metadata": {
        "id": "SIhGaaHQzEYu"
      },
      "source": [
        ""
      ],
      "execution_count": null,
      "outputs": []
    },
    {
      "cell_type": "code",
      "metadata": {
        "id": "_5UR8gLg4D6f"
      },
      "source": [
        "def data2xy(dataset,target):\n",
        "  x = dataset.drop(target,1)\n",
        "  y = dataset[target]\n",
        "  return x,y"
      ],
      "execution_count": 21,
      "outputs": []
    },
    {
      "cell_type": "code",
      "metadata": {
        "id": "T48RQA5z3yvT"
      },
      "source": [
        "X, y = data2xy(total,'EQUIPMENT_FAILURE')\n",
        "X_train = balanced_data.drop(['target'],1)\n",
        "y_train = balanced_data.target.values\n",
        "X_valid, y_valid = data2xy(valid,'EQUIPMENT_FAILURE')\n",
        "X_test, y_test = data2xy(test,'EQUIPMENT_FAILURE')"
      ],
      "execution_count": null,
      "outputs": []
    },
    {
      "cell_type": "code",
      "metadata": {
        "id": "zPSoeLltDy3w"
      },
      "source": [
        "#TRAINING\n",
        "unique, counts = np.unique(y_train, return_counts=True)\n",
        "print(np.asarray((unique, counts)).T)"
      ],
      "execution_count": null,
      "outputs": []
    },
    {
      "cell_type": "code",
      "metadata": {
        "id": "NAZR4IQgEbL7"
      },
      "source": [
        "#TESTING\n",
        "unique, counts = np.unique(y_valid, return_counts=True)\n",
        "print(np.asarray((unique, counts)).T)"
      ],
      "execution_count": null,
      "outputs": []
    },
    {
      "cell_type": "code",
      "metadata": {
        "id": "_7EC8u04Eb0e"
      },
      "source": [
        "#VALIDATION\n",
        "unique, counts = np.unique(y_test, return_counts=True)\n",
        "print(np.asarray((unique, counts)).T)"
      ],
      "execution_count": null,
      "outputs": []
    },
    {
      "cell_type": "code",
      "metadata": {
        "id": "McK4vagw9XKf"
      },
      "source": [
        "#A dumb prediction consisting of zeros for a baseline\n",
        "baseline_valid = np.zeros(y_valid.shape)\n",
        "baseline_test = np.zeros(y_test.shape)\n",
        "print(accuracy_score(y_valid, baseline_valid),accuracy_score(y_test, baseline_test))"
      ],
      "execution_count": null,
      "outputs": []
    },
    {
      "cell_type": "code",
      "metadata": {
        "id": "O-efDQvpGljN"
      },
      "source": [
        "from sklearn.neural_network import MLPClassifier\n",
        "from sklearn.neighbors import KNeighborsClassifier\n",
        "from sklearn.svm import SVC\n",
        "from sklearn.gaussian_process import GaussianProcessClassifier\n",
        "from sklearn.gaussian_process.kernels import RBF\n",
        "from sklearn.tree import DecisionTreeClassifier\n",
        "from sklearn.ensemble import RandomForestClassifier, AdaBoostClassifier\n",
        "from sklearn.naive_bayes import GaussianNB\n",
        "from sklearn.discriminant_analysis import QuadraticDiscriminantAnalysis"
      ],
      "execution_count": null,
      "outputs": []
    },
    {
      "cell_type": "code",
      "metadata": {
        "id": "Z6V0H_J6GybF"
      },
      "source": [
        "classifiers = [\n",
        "    LogisticRegression(),\n",
        "    KNeighborsClassifier(3),\n",
        "    SVC(kernel=\"linear\", C=0.025),\n",
        "    SVC(gamma=2, C=1),\n",
        "    GaussianProcessClassifier(1.0 * RBF(1.0)),\n",
        "    DecisionTreeClassifier(max_depth=5),\n",
        "    RandomForestClassifier(max_depth=5, n_estimators=10, max_features=1),\n",
        "    MLPClassifier(alpha=1, max_iter=1000),\n",
        "    AdaBoostClassifier(),\n",
        "    GaussianNB(),\n",
        "    QuadraticDiscriminantAnalysis()]"
      ],
      "execution_count": null,
      "outputs": []
    },
    {
      "cell_type": "code",
      "metadata": {
        "id": "Y_PhBRCBPenM"
      },
      "source": [
        "!pip install catboost"
      ],
      "execution_count": null,
      "outputs": []
    },
    {
      "cell_type": "code",
      "metadata": {
        "id": "LHGHw5wit5wd"
      },
      "source": [
        "X_train"
      ],
      "execution_count": null,
      "outputs": []
    },
    {
      "cell_type": "code",
      "metadata": {
        "id": "UVwGcZLM0ucC"
      },
      "source": [
        "intlist = list(set(X_train.columns) - set(X_train.iloc[:,5:-3].columns))"
      ],
      "execution_count": null,
      "outputs": []
    },
    {
      "cell_type": "code",
      "metadata": {
        "id": "FrhXS2O2WlfY"
      },
      "source": [
        "X_train[intlist] = X_train[intlist].astype(int)\n",
        "X_train.dtypes"
      ],
      "execution_count": null,
      "outputs": []
    },
    {
      "cell_type": "code",
      "metadata": {
        "id": "tih3ubxnHDeV"
      },
      "source": [
        "from catboost import CatBoostClassifier, Pool\n",
        "model = MLPClassifier()\n",
        "#RandomForestClassifier()\n",
        "#CatBoostClassifier(cat_features =intlist)\n",
        "#pool = Pool(X_train, y_train, )"
      ],
      "execution_count": null,
      "outputs": []
    },
    {
      "cell_type": "code",
      "metadata": {
        "id": "nwBzscLt2nSR"
      },
      "source": [
        "# we should be training on the smoted balanced data and predicting on imbalanced unseen data\n",
        "# anything below 0.957 is useless\n",
        "model.fit(X_train,y_train)#, eval_set=(X_test,y_test))\n",
        "pred = model.predict(X_valid)\n",
        "pred_prob = model.predict_proba(X_valid)\n",
        "print(classification_report(y_valid, pred))\n",
        "print(accuracy_score(y_valid, pred))"
      ],
      "execution_count": null,
      "outputs": []
    },
    {
      "cell_type": "code",
      "metadata": {
        "id": "b9m0SjUa7dLv"
      },
      "source": [
        "from sklearn.metrics import confusion_matrix\n",
        "print(confusion_matrix(y_valid,pred))"
      ],
      "execution_count": null,
      "outputs": []
    },
    {
      "cell_type": "code",
      "metadata": {
        "id": "zetY1WyaZMjI"
      },
      "source": [
        "pred_prob"
      ],
      "execution_count": null,
      "outputs": []
    },
    {
      "cell_type": "code",
      "metadata": {
        "id": "AABp1h8HddeK"
      },
      "source": [
        "X_train.columns"
      ],
      "execution_count": null,
      "outputs": []
    },
    {
      "cell_type": "code",
      "metadata": {
        "id": "ocWOXwhEYrs1"
      },
      "source": [
        ""
      ],
      "execution_count": null,
      "outputs": []
    },
    {
      "cell_type": "code",
      "metadata": {
        "id": "0ghrDgiy6MIg"
      },
      "source": [
        "model.fit(X_train,y_train)\n",
        "pred = model.predict(X_test)\n",
        "pred_prob = model.predict_proba(X_test)\n",
        "print(classification_report(y_test, pred))\n",
        "print(accuracy_score(y_test, pred))"
      ],
      "execution_count": null,
      "outputs": []
    },
    {
      "cell_type": "code",
      "metadata": {
        "id": "1fDDCaAbQ5Rg"
      },
      "source": [
        "X_train"
      ],
      "execution_count": null,
      "outputs": []
    },
    {
      "cell_type": "code",
      "metadata": {
        "id": "X-J9mR-MYWuU"
      },
      "source": [
        "def running_mean(x, N):\n",
        "        cumsum = np.cumsum(np.insert(x, 0, 0))\n",
        "        return (cumsum[N:] - cumsum[:-N]) / float(N)"
      ],
      "execution_count": null,
      "outputs": []
    },
    {
      "cell_type": "code",
      "metadata": {
        "id": "GOHhGOqSimwU"
      },
      "source": [
        "import pywt\n",
        "def denoise(x,y):\n",
        "    (ca, cd) = pywt.dwt(x, \"haar\")\n",
        "    cat = pywt.threshold(ca, y * np.std(ca), mode=\"soft\")\n",
        "    cdt = pywt.threshold(cd, y * np.std(cd), mode=\"soft\")\n",
        "    tx = pywt.idwt(cat, cdt, \"haar\")\n",
        "    return tx"
      ],
      "execution_count": null,
      "outputs": []
    },
    {
      "cell_type": "code",
      "metadata": {
        "id": "BMGwiQK4iv--"
      },
      "source": [
        "def adf_test(series, signif=0.05):\n",
        "    dftest = adfuller(series, autolag='AIC')\n",
        "    adf = pd.Series(dftest[0:4], index=['Test Statistic', 'p-value', '# Lags', '# Observations'])\n",
        "    #for key, value in dftest[4].items():\n",
        "    #    adf['Critical Value (%s)' % key] = value\n",
        "\n",
        "    p = adf['p-value']\n",
        "    if p <= signif:\n",
        "        print(f\"ADF TEST: Series is Stationary\")\n",
        "    else:\n",
        "        print(f\"ADF TEST: Series is Non-Stationary\")\n",
        "def kpss_test(series, **kw):\n",
        "    statistic, p_value, n_lags, critical_values = kpss(series, **kw, nlags='auto')\n",
        "    print(f'KPSS TEST: The series is {\"not \" if p_value < 0.05 else \"\"}stationary')"
      ],
      "execution_count": null,
      "outputs": []
    },
    {
      "cell_type": "code",
      "metadata": {
        "id": "i9R1ovBdjZ4Q"
      },
      "source": [
        "def get_stationarity(timeseries):\n",
        "    # rolling statistics\n",
        "    rolling_mean = timeseries.rolling(window=12).mean()\n",
        "    rolling_std = timeseries.rolling(window=12).std()\n",
        "    # rolling statistics plot\n",
        "    plt.plot(timeseries, color='blue', label='Original')\n",
        "    plt.plot(rolling_mean, color='red', label='Rolling Mean')\n",
        "    plt.plot(rolling_std, color='black', label='Rolling Std')\n",
        "    plt.legend(loc='best')\n",
        "    plt.title('Rolling Mean & Standard Deviation')\n",
        "    plt.show()\n",
        "def check(timeseries):\n",
        "    adf_test(timeseries)\n",
        "    kpss_test(timeseries)"
      ],
      "execution_count": null,
      "outputs": []
    },
    {
      "cell_type": "code",
      "metadata": {
        "id": "srJHVqcEnl9H"
      },
      "source": [
        "'''!pip uninstall protobuf python3-protobuf\n",
        "!pip install --upgrade pip\n",
        "!pip install --upgrade protobuf'''"
      ],
      "execution_count": null,
      "outputs": []
    },
    {
      "cell_type": "markdown",
      "metadata": {
        "id": "fKxAyzskARRy"
      },
      "source": [
        "SWITCHING TO DEEP LEARNING AS ML WAS INSUFFICIENT "
      ]
    },
    {
      "cell_type": "code",
      "metadata": {
        "id": "zlG6mFrSEwoJ"
      },
      "source": [
        "#we need a multivariate LSTM"
      ],
      "execution_count": null,
      "outputs": []
    },
    {
      "cell_type": "code",
      "metadata": {
        "id": "EslALMOWknc3"
      },
      "source": [
        "import tensorflow as tf\n",
        "from keras.models import Sequential\n",
        "from keras.layers import Dense\n",
        "from keras.layers import LSTM\n",
        "from keras.layers import RepeatVector\n",
        "from keras.layers import TimeDistributed\n",
        "from keras.layers import Conv1D, MaxPooling1D, Flatten, ConvLSTM2D\n",
        "import keras.backend as K\n",
        "from keras.wrappers.scikit_learn import KerasRegressor\n",
        "from keras.callbacks import LearningRateScheduler\n",
        "from keras.callbacks import History"
      ],
      "execution_count": 22,
      "outputs": []
    },
    {
      "cell_type": "code",
      "metadata": {
        "colab": {
          "base_uri": "https://localhost:8080/",
          "height": 80
        },
        "id": "vjp7MLPxADhx",
        "outputId": "bdb54c7d-9180-4ccc-b3f5-8c85efb4b14b"
      },
      "source": [
        "total.head(1)"
      ],
      "execution_count": 43,
      "outputs": [
        {
          "output_type": "execute_result",
          "data": {
            "text/html": [
              "<div>\n",
              "<style scoped>\n",
              "    .dataframe tbody tr th:only-of-type {\n",
              "        vertical-align: middle;\n",
              "    }\n",
              "\n",
              "    .dataframe tbody tr th {\n",
              "        vertical-align: top;\n",
              "    }\n",
              "\n",
              "    .dataframe thead th {\n",
              "        text-align: right;\n",
              "    }\n",
              "</style>\n",
              "<table border=\"1\" class=\"dataframe\">\n",
              "  <thead>\n",
              "    <tr style=\"text-align: right;\">\n",
              "      <th></th>\n",
              "      <th>ID</th>\n",
              "      <th>REGION_CLUSTER</th>\n",
              "      <th>MAINTENANCE_VENDOR</th>\n",
              "      <th>MANUFACTURER</th>\n",
              "      <th>WELL_GROUP</th>\n",
              "      <th>S15</th>\n",
              "      <th>S17</th>\n",
              "      <th>S13</th>\n",
              "      <th>S5</th>\n",
              "      <th>S16</th>\n",
              "      <th>S19</th>\n",
              "      <th>S18</th>\n",
              "      <th>EQUIPMENT_FAILURE</th>\n",
              "      <th>S8</th>\n",
              "      <th>AGE_OF_EQUIPMENT</th>\n",
              "      <th>YEAR</th>\n",
              "      <th>MONTH</th>\n",
              "      <th>DAY</th>\n",
              "    </tr>\n",
              "  </thead>\n",
              "  <tbody>\n",
              "    <tr>\n",
              "      <th>0</th>\n",
              "      <td>0</td>\n",
              "      <td>6</td>\n",
              "      <td>6</td>\n",
              "      <td>8</td>\n",
              "      <td>1</td>\n",
              "      <td>11.088</td>\n",
              "      <td>145.223448</td>\n",
              "      <td>39.34</td>\n",
              "      <td>3501.0</td>\n",
              "      <td>8.426869</td>\n",
              "      <td>1.9</td>\n",
              "      <td>24.610345</td>\n",
              "      <td>0</td>\n",
              "      <td>0.0</td>\n",
              "      <td>880</td>\n",
              "      <td>2014</td>\n",
              "      <td>12</td>\n",
              "      <td>2</td>\n",
              "    </tr>\n",
              "  </tbody>\n",
              "</table>\n",
              "</div>"
            ],
            "text/plain": [
              "   ID  REGION_CLUSTER  MAINTENANCE_VENDOR  ...  YEAR  MONTH  DAY\n",
              "0   0               6                   6  ...  2014     12    2\n",
              "\n",
              "[1 rows x 18 columns]"
            ]
          },
          "metadata": {
            "tags": []
          },
          "execution_count": 43
        }
      ]
    },
    {
      "cell_type": "code",
      "metadata": {
        "id": "pslJJBKLAOfQ"
      },
      "source": [
        "train = total.drop(['YEAR','MONTH','DAY'],1)"
      ],
      "execution_count": 23,
      "outputs": []
    },
    {
      "cell_type": "code",
      "metadata": {
        "id": "kIa7OlJT1Z3w"
      },
      "source": [
        "def series_to_supervised(data, n_in=1, n_out=1, dropnan=True):\n",
        "\tn_vars = 1 if type(data) is list else data.shape[1]\n",
        "\tdf = pd.DataFrame(data)\n",
        "\tcols, names = list(), list()\n",
        "\t# input sequence (t-n, ... t-1)\n",
        "\tfor i in range(n_in, 0, -1):\n",
        "\t\tcols.append(df.shift(i))\n",
        "\t\tnames += [('var%d(t-%d)' % (j+1, i)) for j in range(n_vars)]\n",
        "\t# forecast sequence (t, t+1, ... t+n)\n",
        "\tfor i in range(0, n_out):\n",
        "\t\tcols.append(df.shift(-i))\n",
        "\t\tif i == 0:\n",
        "\t\t\tnames += [('var%d(t)' % (j+1)) for j in range(n_vars)]\n",
        "\t\telse:\n",
        "\t\t\tnames += [('var%d(t+%d)' % (j+1, i)) for j in range(n_vars)]\n",
        "\t# put it all together\n",
        "\tagg = pd.concat(cols, axis=1)\n",
        "\tagg.columns = names\n",
        "\t# drop rows with NaN values\n",
        "\tif dropnan:\n",
        "\t\tagg.dropna(inplace=True)\n",
        "\treturn agg"
      ],
      "execution_count": 24,
      "outputs": []
    },
    {
      "cell_type": "code",
      "metadata": {
        "id": "iJNM1zAYA1-G"
      },
      "source": [
        "from sklearn.preprocessing import MinMaxScaler\n",
        "scaler = MinMaxScaler(feature_range=(0, 1))\n",
        "scaled = scaler.fit_transform(train.values)"
      ],
      "execution_count": 25,
      "outputs": []
    },
    {
      "cell_type": "code",
      "metadata": {
        "colab": {
          "base_uri": "https://localhost:8080/",
          "height": 419
        },
        "id": "dI5pSmGJBPm1",
        "outputId": "eb9a3695-a13f-42b8-f67b-2e8c12138893"
      },
      "source": [
        "train"
      ],
      "execution_count": 47,
      "outputs": [
        {
          "output_type": "execute_result",
          "data": {
            "text/html": [
              "<div>\n",
              "<style scoped>\n",
              "    .dataframe tbody tr th:only-of-type {\n",
              "        vertical-align: middle;\n",
              "    }\n",
              "\n",
              "    .dataframe tbody tr th {\n",
              "        vertical-align: top;\n",
              "    }\n",
              "\n",
              "    .dataframe thead th {\n",
              "        text-align: right;\n",
              "    }\n",
              "</style>\n",
              "<table border=\"1\" class=\"dataframe\">\n",
              "  <thead>\n",
              "    <tr style=\"text-align: right;\">\n",
              "      <th></th>\n",
              "      <th>ID</th>\n",
              "      <th>REGION_CLUSTER</th>\n",
              "      <th>MAINTENANCE_VENDOR</th>\n",
              "      <th>MANUFACTURER</th>\n",
              "      <th>WELL_GROUP</th>\n",
              "      <th>S15</th>\n",
              "      <th>S17</th>\n",
              "      <th>S13</th>\n",
              "      <th>S5</th>\n",
              "      <th>S16</th>\n",
              "      <th>S19</th>\n",
              "      <th>S18</th>\n",
              "      <th>EQUIPMENT_FAILURE</th>\n",
              "      <th>S8</th>\n",
              "      <th>AGE_OF_EQUIPMENT</th>\n",
              "    </tr>\n",
              "  </thead>\n",
              "  <tbody>\n",
              "    <tr>\n",
              "      <th>0</th>\n",
              "      <td>0</td>\n",
              "      <td>6</td>\n",
              "      <td>6</td>\n",
              "      <td>8</td>\n",
              "      <td>1</td>\n",
              "      <td>11.0880</td>\n",
              "      <td>145.223448</td>\n",
              "      <td>39.34</td>\n",
              "      <td>3501.0</td>\n",
              "      <td>8.426869</td>\n",
              "      <td>1.9</td>\n",
              "      <td>24.610345</td>\n",
              "      <td>0</td>\n",
              "      <td>0.00</td>\n",
              "      <td>880</td>\n",
              "    </tr>\n",
              "    <tr>\n",
              "      <th>1</th>\n",
              "      <td>0</td>\n",
              "      <td>6</td>\n",
              "      <td>6</td>\n",
              "      <td>8</td>\n",
              "      <td>1</td>\n",
              "      <td>18.9600</td>\n",
              "      <td>0.000000</td>\n",
              "      <td>38.87</td>\n",
              "      <td>3459.0</td>\n",
              "      <td>10.047300</td>\n",
              "      <td>1.3</td>\n",
              "      <td>36.600000</td>\n",
              "      <td>0</td>\n",
              "      <td>34.37</td>\n",
              "      <td>1363</td>\n",
              "    </tr>\n",
              "    <tr>\n",
              "      <th>2</th>\n",
              "      <td>0</td>\n",
              "      <td>6</td>\n",
              "      <td>6</td>\n",
              "      <td>8</td>\n",
              "      <td>1</td>\n",
              "      <td>29.0400</td>\n",
              "      <td>0.000000</td>\n",
              "      <td>37.36</td>\n",
              "      <td>3325.0</td>\n",
              "      <td>10.235100</td>\n",
              "      <td>1.4</td>\n",
              "      <td>36.000000</td>\n",
              "      <td>0</td>\n",
              "      <td>32.37</td>\n",
              "      <td>1364</td>\n",
              "    </tr>\n",
              "    <tr>\n",
              "      <th>3</th>\n",
              "      <td>0</td>\n",
              "      <td>6</td>\n",
              "      <td>6</td>\n",
              "      <td>8</td>\n",
              "      <td>1</td>\n",
              "      <td>18.0000</td>\n",
              "      <td>0.000000</td>\n",
              "      <td>38.81</td>\n",
              "      <td>3454.0</td>\n",
              "      <td>8.544900</td>\n",
              "      <td>1.4</td>\n",
              "      <td>36.100000</td>\n",
              "      <td>0</td>\n",
              "      <td>34.44</td>\n",
              "      <td>1365</td>\n",
              "    </tr>\n",
              "    <tr>\n",
              "      <th>4</th>\n",
              "      <td>0</td>\n",
              "      <td>6</td>\n",
              "      <td>6</td>\n",
              "      <td>8</td>\n",
              "      <td>1</td>\n",
              "      <td>26.1600</td>\n",
              "      <td>0.000000</td>\n",
              "      <td>39.47</td>\n",
              "      <td>3513.0</td>\n",
              "      <td>10.986300</td>\n",
              "      <td>1.4</td>\n",
              "      <td>36.300000</td>\n",
              "      <td>0</td>\n",
              "      <td>33.26</td>\n",
              "      <td>1366</td>\n",
              "    </tr>\n",
              "    <tr>\n",
              "      <th>...</th>\n",
              "      <td>...</td>\n",
              "      <td>...</td>\n",
              "      <td>...</td>\n",
              "      <td>...</td>\n",
              "      <td>...</td>\n",
              "      <td>...</td>\n",
              "      <td>...</td>\n",
              "      <td>...</td>\n",
              "      <td>...</td>\n",
              "      <td>...</td>\n",
              "      <td>...</td>\n",
              "      <td>...</td>\n",
              "      <td>...</td>\n",
              "      <td>...</td>\n",
              "      <td>...</td>\n",
              "    </tr>\n",
              "    <tr>\n",
              "      <th>307746</th>\n",
              "      <td>420</td>\n",
              "      <td>2</td>\n",
              "      <td>7</td>\n",
              "      <td>2</td>\n",
              "      <td>7</td>\n",
              "      <td>4.7808</td>\n",
              "      <td>117.450000</td>\n",
              "      <td>46.67</td>\n",
              "      <td>3127.0</td>\n",
              "      <td>9.564800</td>\n",
              "      <td>0.7</td>\n",
              "      <td>2.500000</td>\n",
              "      <td>0</td>\n",
              "      <td>2.14</td>\n",
              "      <td>325</td>\n",
              "    </tr>\n",
              "    <tr>\n",
              "      <th>307747</th>\n",
              "      <td>420</td>\n",
              "      <td>2</td>\n",
              "      <td>7</td>\n",
              "      <td>2</td>\n",
              "      <td>7</td>\n",
              "      <td>5.6448</td>\n",
              "      <td>110.700000</td>\n",
              "      <td>47.88</td>\n",
              "      <td>3208.0</td>\n",
              "      <td>11.126400</td>\n",
              "      <td>0.7</td>\n",
              "      <td>2.400000</td>\n",
              "      <td>0</td>\n",
              "      <td>2.63</td>\n",
              "      <td>326</td>\n",
              "    </tr>\n",
              "    <tr>\n",
              "      <th>307748</th>\n",
              "      <td>420</td>\n",
              "      <td>2</td>\n",
              "      <td>7</td>\n",
              "      <td>2</td>\n",
              "      <td>7</td>\n",
              "      <td>4.4352</td>\n",
              "      <td>143.100000</td>\n",
              "      <td>46.63</td>\n",
              "      <td>3124.0</td>\n",
              "      <td>8.473800</td>\n",
              "      <td>0.7</td>\n",
              "      <td>2.400000</td>\n",
              "      <td>0</td>\n",
              "      <td>2.01</td>\n",
              "      <td>327</td>\n",
              "    </tr>\n",
              "    <tr>\n",
              "      <th>307749</th>\n",
              "      <td>420</td>\n",
              "      <td>2</td>\n",
              "      <td>7</td>\n",
              "      <td>2</td>\n",
              "      <td>7</td>\n",
              "      <td>5.5872</td>\n",
              "      <td>167.500000</td>\n",
              "      <td>46.45</td>\n",
              "      <td>3112.0</td>\n",
              "      <td>7.320000</td>\n",
              "      <td>0.4</td>\n",
              "      <td>2.200000</td>\n",
              "      <td>0</td>\n",
              "      <td>2.09</td>\n",
              "      <td>329</td>\n",
              "    </tr>\n",
              "    <tr>\n",
              "      <th>307750</th>\n",
              "      <td>420</td>\n",
              "      <td>2</td>\n",
              "      <td>7</td>\n",
              "      <td>2</td>\n",
              "      <td>7</td>\n",
              "      <td>21.8400</td>\n",
              "      <td>0.000000</td>\n",
              "      <td>56.40</td>\n",
              "      <td>3779.0</td>\n",
              "      <td>8.974500</td>\n",
              "      <td>0.2</td>\n",
              "      <td>27.800000</td>\n",
              "      <td>0</td>\n",
              "      <td>26.19</td>\n",
              "      <td>810</td>\n",
              "    </tr>\n",
              "  </tbody>\n",
              "</table>\n",
              "<p>307751 rows × 15 columns</p>\n",
              "</div>"
            ],
            "text/plain": [
              "         ID  REGION_CLUSTER  ...     S8  AGE_OF_EQUIPMENT\n",
              "0         0               6  ...   0.00               880\n",
              "1         0               6  ...  34.37              1363\n",
              "2         0               6  ...  32.37              1364\n",
              "3         0               6  ...  34.44              1365\n",
              "4         0               6  ...  33.26              1366\n",
              "...     ...             ...  ...    ...               ...\n",
              "307746  420               2  ...   2.14               325\n",
              "307747  420               2  ...   2.63               326\n",
              "307748  420               2  ...   2.01               327\n",
              "307749  420               2  ...   2.09               329\n",
              "307750  420               2  ...  26.19               810\n",
              "\n",
              "[307751 rows x 15 columns]"
            ]
          },
          "metadata": {
            "tags": []
          },
          "execution_count": 47
        }
      ]
    },
    {
      "cell_type": "code",
      "metadata": {
        "colab": {
          "base_uri": "https://localhost:8080/"
        },
        "id": "XH0KvkKnCNGE",
        "outputId": "acf6bf45-a270-4d45-ed05-2026d587a57e"
      },
      "source": [
        "[train[i].nunique() for i in train.columns]"
      ],
      "execution_count": 48,
      "outputs": [
        {
          "output_type": "execute_result",
          "data": {
            "text/plain": [
              "[421,\n",
              " 8,\n",
              " 8,\n",
              " 10,\n",
              " 8,\n",
              " 27139,\n",
              " 13376,\n",
              " 35865,\n",
              " 40905,\n",
              " 31575,\n",
              " 1299,\n",
              " 20130,\n",
              " 2,\n",
              " 84100,\n",
              " 14322]"
            ]
          },
          "metadata": {
            "tags": []
          },
          "execution_count": 48
        }
      ]
    },
    {
      "cell_type": "code",
      "metadata": {
        "colab": {
          "base_uri": "https://localhost:8080/"
        },
        "id": "TiJiHr3hBr7y",
        "outputId": "eabef197-a0a4-4fc1-db7f-955c8b4b2b05"
      },
      "source": [
        "train.shape"
      ],
      "execution_count": 49,
      "outputs": [
        {
          "output_type": "execute_result",
          "data": {
            "text/plain": [
              "(307751, 15)"
            ]
          },
          "metadata": {
            "tags": []
          },
          "execution_count": 49
        }
      ]
    },
    {
      "cell_type": "code",
      "metadata": {
        "colab": {
          "base_uri": "https://localhost:8080/"
        },
        "id": "nIBDzY9FA17U",
        "outputId": "34bdd189-eafb-4cb3-e593-dfbf8fbeb13d"
      },
      "source": [
        "scaled.shape"
      ],
      "execution_count": 50,
      "outputs": [
        {
          "output_type": "execute_result",
          "data": {
            "text/plain": [
              "(307751, 15)"
            ]
          },
          "metadata": {
            "tags": []
          },
          "execution_count": 50
        }
      ]
    },
    {
      "cell_type": "code",
      "metadata": {
        "colab": {
          "base_uri": "https://localhost:8080/",
          "height": 419
        },
        "id": "NwRRnCB_DXEw",
        "outputId": "229f8ab4-ba71-4b6a-e3e6-9dc258e3eac3"
      },
      "source": [
        "pd.DataFrame(scaled)"
      ],
      "execution_count": 51,
      "outputs": [
        {
          "output_type": "execute_result",
          "data": {
            "text/html": [
              "<div>\n",
              "<style scoped>\n",
              "    .dataframe tbody tr th:only-of-type {\n",
              "        vertical-align: middle;\n",
              "    }\n",
              "\n",
              "    .dataframe tbody tr th {\n",
              "        vertical-align: top;\n",
              "    }\n",
              "\n",
              "    .dataframe thead th {\n",
              "        text-align: right;\n",
              "    }\n",
              "</style>\n",
              "<table border=\"1\" class=\"dataframe\">\n",
              "  <thead>\n",
              "    <tr style=\"text-align: right;\">\n",
              "      <th></th>\n",
              "      <th>0</th>\n",
              "      <th>1</th>\n",
              "      <th>2</th>\n",
              "      <th>3</th>\n",
              "      <th>4</th>\n",
              "      <th>5</th>\n",
              "      <th>6</th>\n",
              "      <th>7</th>\n",
              "      <th>8</th>\n",
              "      <th>9</th>\n",
              "      <th>10</th>\n",
              "      <th>11</th>\n",
              "      <th>12</th>\n",
              "      <th>13</th>\n",
              "      <th>14</th>\n",
              "    </tr>\n",
              "  </thead>\n",
              "  <tbody>\n",
              "    <tr>\n",
              "      <th>0</th>\n",
              "      <td>0.0</td>\n",
              "      <td>0.857143</td>\n",
              "      <td>0.857143</td>\n",
              "      <td>0.888889</td>\n",
              "      <td>0.000000</td>\n",
              "      <td>0.187805</td>\n",
              "      <td>0.056827</td>\n",
              "      <td>0.066353</td>\n",
              "      <td>0.066348</td>\n",
              "      <td>0.342556</td>\n",
              "      <td>0.003718</td>\n",
              "      <td>0.005928</td>\n",
              "      <td>0.0</td>\n",
              "      <td>0.007910</td>\n",
              "      <td>0.058009</td>\n",
              "    </tr>\n",
              "    <tr>\n",
              "      <th>1</th>\n",
              "      <td>0.0</td>\n",
              "      <td>0.857143</td>\n",
              "      <td>0.857143</td>\n",
              "      <td>0.888889</td>\n",
              "      <td>0.000000</td>\n",
              "      <td>0.321138</td>\n",
              "      <td>0.000000</td>\n",
              "      <td>0.065560</td>\n",
              "      <td>0.065552</td>\n",
              "      <td>0.408427</td>\n",
              "      <td>0.002544</td>\n",
              "      <td>0.008816</td>\n",
              "      <td>0.0</td>\n",
              "      <td>0.024398</td>\n",
              "      <td>0.089848</td>\n",
              "    </tr>\n",
              "    <tr>\n",
              "      <th>2</th>\n",
              "      <td>0.0</td>\n",
              "      <td>0.857143</td>\n",
              "      <td>0.857143</td>\n",
              "      <td>0.888889</td>\n",
              "      <td>0.000000</td>\n",
              "      <td>0.491870</td>\n",
              "      <td>0.000000</td>\n",
              "      <td>0.063013</td>\n",
              "      <td>0.063013</td>\n",
              "      <td>0.416061</td>\n",
              "      <td>0.002740</td>\n",
              "      <td>0.008671</td>\n",
              "      <td>0.0</td>\n",
              "      <td>0.023439</td>\n",
              "      <td>0.089914</td>\n",
              "    </tr>\n",
              "    <tr>\n",
              "      <th>3</th>\n",
              "      <td>0.0</td>\n",
              "      <td>0.857143</td>\n",
              "      <td>0.857143</td>\n",
              "      <td>0.888889</td>\n",
              "      <td>0.000000</td>\n",
              "      <td>0.304878</td>\n",
              "      <td>0.000000</td>\n",
              "      <td>0.065459</td>\n",
              "      <td>0.065458</td>\n",
              "      <td>0.347354</td>\n",
              "      <td>0.002740</td>\n",
              "      <td>0.008695</td>\n",
              "      <td>0.0</td>\n",
              "      <td>0.024432</td>\n",
              "      <td>0.089980</td>\n",
              "    </tr>\n",
              "    <tr>\n",
              "      <th>4</th>\n",
              "      <td>0.0</td>\n",
              "      <td>0.857143</td>\n",
              "      <td>0.857143</td>\n",
              "      <td>0.888889</td>\n",
              "      <td>0.000000</td>\n",
              "      <td>0.443089</td>\n",
              "      <td>0.000000</td>\n",
              "      <td>0.066572</td>\n",
              "      <td>0.066576</td>\n",
              "      <td>0.446598</td>\n",
              "      <td>0.002740</td>\n",
              "      <td>0.008743</td>\n",
              "      <td>0.0</td>\n",
              "      <td>0.023865</td>\n",
              "      <td>0.090046</td>\n",
              "    </tr>\n",
              "    <tr>\n",
              "      <th>...</th>\n",
              "      <td>...</td>\n",
              "      <td>...</td>\n",
              "      <td>...</td>\n",
              "      <td>...</td>\n",
              "      <td>...</td>\n",
              "      <td>...</td>\n",
              "      <td>...</td>\n",
              "      <td>...</td>\n",
              "      <td>...</td>\n",
              "      <td>...</td>\n",
              "      <td>...</td>\n",
              "      <td>...</td>\n",
              "      <td>...</td>\n",
              "      <td>...</td>\n",
              "      <td>...</td>\n",
              "    </tr>\n",
              "    <tr>\n",
              "      <th>307746</th>\n",
              "      <td>1.0</td>\n",
              "      <td>0.285714</td>\n",
              "      <td>1.000000</td>\n",
              "      <td>0.222222</td>\n",
              "      <td>0.857143</td>\n",
              "      <td>0.080976</td>\n",
              "      <td>0.045959</td>\n",
              "      <td>0.078716</td>\n",
              "      <td>0.059261</td>\n",
              "      <td>0.388813</td>\n",
              "      <td>0.001370</td>\n",
              "      <td>0.000602</td>\n",
              "      <td>0.0</td>\n",
              "      <td>0.008937</td>\n",
              "      <td>0.021424</td>\n",
              "    </tr>\n",
              "    <tr>\n",
              "      <th>307747</th>\n",
              "      <td>1.0</td>\n",
              "      <td>0.285714</td>\n",
              "      <td>1.000000</td>\n",
              "      <td>0.222222</td>\n",
              "      <td>0.857143</td>\n",
              "      <td>0.095610</td>\n",
              "      <td>0.043318</td>\n",
              "      <td>0.080757</td>\n",
              "      <td>0.060796</td>\n",
              "      <td>0.452293</td>\n",
              "      <td>0.001370</td>\n",
              "      <td>0.000578</td>\n",
              "      <td>0.0</td>\n",
              "      <td>0.009172</td>\n",
              "      <td>0.021490</td>\n",
              "    </tr>\n",
              "    <tr>\n",
              "      <th>307748</th>\n",
              "      <td>1.0</td>\n",
              "      <td>0.285714</td>\n",
              "      <td>1.000000</td>\n",
              "      <td>0.222222</td>\n",
              "      <td>0.857143</td>\n",
              "      <td>0.075122</td>\n",
              "      <td>0.055996</td>\n",
              "      <td>0.078649</td>\n",
              "      <td>0.059204</td>\n",
              "      <td>0.344463</td>\n",
              "      <td>0.001370</td>\n",
              "      <td>0.000578</td>\n",
              "      <td>0.0</td>\n",
              "      <td>0.008875</td>\n",
              "      <td>0.021556</td>\n",
              "    </tr>\n",
              "    <tr>\n",
              "      <th>307749</th>\n",
              "      <td>1.0</td>\n",
              "      <td>0.285714</td>\n",
              "      <td>1.000000</td>\n",
              "      <td>0.222222</td>\n",
              "      <td>0.857143</td>\n",
              "      <td>0.094634</td>\n",
              "      <td>0.065544</td>\n",
              "      <td>0.078345</td>\n",
              "      <td>0.058976</td>\n",
              "      <td>0.297561</td>\n",
              "      <td>0.000783</td>\n",
              "      <td>0.000530</td>\n",
              "      <td>0.0</td>\n",
              "      <td>0.008913</td>\n",
              "      <td>0.021688</td>\n",
              "    </tr>\n",
              "    <tr>\n",
              "      <th>307750</th>\n",
              "      <td>1.0</td>\n",
              "      <td>0.285714</td>\n",
              "      <td>1.000000</td>\n",
              "      <td>0.222222</td>\n",
              "      <td>0.857143</td>\n",
              "      <td>0.369919</td>\n",
              "      <td>0.000000</td>\n",
              "      <td>0.095127</td>\n",
              "      <td>0.071617</td>\n",
              "      <td>0.364817</td>\n",
              "      <td>0.000391</td>\n",
              "      <td>0.006696</td>\n",
              "      <td>0.0</td>\n",
              "      <td>0.020474</td>\n",
              "      <td>0.053395</td>\n",
              "    </tr>\n",
              "  </tbody>\n",
              "</table>\n",
              "<p>307751 rows × 15 columns</p>\n",
              "</div>"
            ],
            "text/plain": [
              "         0         1         2         3   ...        11   12        13        14\n",
              "0       0.0  0.857143  0.857143  0.888889  ...  0.005928  0.0  0.007910  0.058009\n",
              "1       0.0  0.857143  0.857143  0.888889  ...  0.008816  0.0  0.024398  0.089848\n",
              "2       0.0  0.857143  0.857143  0.888889  ...  0.008671  0.0  0.023439  0.089914\n",
              "3       0.0  0.857143  0.857143  0.888889  ...  0.008695  0.0  0.024432  0.089980\n",
              "4       0.0  0.857143  0.857143  0.888889  ...  0.008743  0.0  0.023865  0.090046\n",
              "...     ...       ...       ...       ...  ...       ...  ...       ...       ...\n",
              "307746  1.0  0.285714  1.000000  0.222222  ...  0.000602  0.0  0.008937  0.021424\n",
              "307747  1.0  0.285714  1.000000  0.222222  ...  0.000578  0.0  0.009172  0.021490\n",
              "307748  1.0  0.285714  1.000000  0.222222  ...  0.000578  0.0  0.008875  0.021556\n",
              "307749  1.0  0.285714  1.000000  0.222222  ...  0.000530  0.0  0.008913  0.021688\n",
              "307750  1.0  0.285714  1.000000  0.222222  ...  0.006696  0.0  0.020474  0.053395\n",
              "\n",
              "[307751 rows x 15 columns]"
            ]
          },
          "metadata": {
            "tags": []
          },
          "execution_count": 51
        }
      ]
    },
    {
      "cell_type": "code",
      "metadata": {
        "colab": {
          "base_uri": "https://localhost:8080/",
          "height": 419
        },
        "id": "_l4c8C9-EKsh",
        "outputId": "d9546e75-a161-4e15-e00d-50801bd3c372"
      },
      "source": [
        "train[train['ID']==0]"
      ],
      "execution_count": 52,
      "outputs": [
        {
          "output_type": "execute_result",
          "data": {
            "text/html": [
              "<div>\n",
              "<style scoped>\n",
              "    .dataframe tbody tr th:only-of-type {\n",
              "        vertical-align: middle;\n",
              "    }\n",
              "\n",
              "    .dataframe tbody tr th {\n",
              "        vertical-align: top;\n",
              "    }\n",
              "\n",
              "    .dataframe thead th {\n",
              "        text-align: right;\n",
              "    }\n",
              "</style>\n",
              "<table border=\"1\" class=\"dataframe\">\n",
              "  <thead>\n",
              "    <tr style=\"text-align: right;\">\n",
              "      <th></th>\n",
              "      <th>ID</th>\n",
              "      <th>REGION_CLUSTER</th>\n",
              "      <th>MAINTENANCE_VENDOR</th>\n",
              "      <th>MANUFACTURER</th>\n",
              "      <th>WELL_GROUP</th>\n",
              "      <th>S15</th>\n",
              "      <th>S17</th>\n",
              "      <th>S13</th>\n",
              "      <th>S5</th>\n",
              "      <th>S16</th>\n",
              "      <th>S19</th>\n",
              "      <th>S18</th>\n",
              "      <th>EQUIPMENT_FAILURE</th>\n",
              "      <th>S8</th>\n",
              "      <th>AGE_OF_EQUIPMENT</th>\n",
              "    </tr>\n",
              "  </thead>\n",
              "  <tbody>\n",
              "    <tr>\n",
              "      <th>0</th>\n",
              "      <td>0</td>\n",
              "      <td>6</td>\n",
              "      <td>6</td>\n",
              "      <td>8</td>\n",
              "      <td>1</td>\n",
              "      <td>11.0880</td>\n",
              "      <td>145.223448</td>\n",
              "      <td>39.34</td>\n",
              "      <td>3501.0</td>\n",
              "      <td>8.426869</td>\n",
              "      <td>1.9</td>\n",
              "      <td>24.610345</td>\n",
              "      <td>0</td>\n",
              "      <td>0.00</td>\n",
              "      <td>880</td>\n",
              "    </tr>\n",
              "    <tr>\n",
              "      <th>1</th>\n",
              "      <td>0</td>\n",
              "      <td>6</td>\n",
              "      <td>6</td>\n",
              "      <td>8</td>\n",
              "      <td>1</td>\n",
              "      <td>18.9600</td>\n",
              "      <td>0.000000</td>\n",
              "      <td>38.87</td>\n",
              "      <td>3459.0</td>\n",
              "      <td>10.047300</td>\n",
              "      <td>1.3</td>\n",
              "      <td>36.600000</td>\n",
              "      <td>0</td>\n",
              "      <td>34.37</td>\n",
              "      <td>1363</td>\n",
              "    </tr>\n",
              "    <tr>\n",
              "      <th>2</th>\n",
              "      <td>0</td>\n",
              "      <td>6</td>\n",
              "      <td>6</td>\n",
              "      <td>8</td>\n",
              "      <td>1</td>\n",
              "      <td>29.0400</td>\n",
              "      <td>0.000000</td>\n",
              "      <td>37.36</td>\n",
              "      <td>3325.0</td>\n",
              "      <td>10.235100</td>\n",
              "      <td>1.4</td>\n",
              "      <td>36.000000</td>\n",
              "      <td>0</td>\n",
              "      <td>32.37</td>\n",
              "      <td>1364</td>\n",
              "    </tr>\n",
              "    <tr>\n",
              "      <th>3</th>\n",
              "      <td>0</td>\n",
              "      <td>6</td>\n",
              "      <td>6</td>\n",
              "      <td>8</td>\n",
              "      <td>1</td>\n",
              "      <td>18.0000</td>\n",
              "      <td>0.000000</td>\n",
              "      <td>38.81</td>\n",
              "      <td>3454.0</td>\n",
              "      <td>8.544900</td>\n",
              "      <td>1.4</td>\n",
              "      <td>36.100000</td>\n",
              "      <td>0</td>\n",
              "      <td>34.44</td>\n",
              "      <td>1365</td>\n",
              "    </tr>\n",
              "    <tr>\n",
              "      <th>4</th>\n",
              "      <td>0</td>\n",
              "      <td>6</td>\n",
              "      <td>6</td>\n",
              "      <td>8</td>\n",
              "      <td>1</td>\n",
              "      <td>26.1600</td>\n",
              "      <td>0.000000</td>\n",
              "      <td>39.47</td>\n",
              "      <td>3513.0</td>\n",
              "      <td>10.986300</td>\n",
              "      <td>1.4</td>\n",
              "      <td>36.300000</td>\n",
              "      <td>0</td>\n",
              "      <td>33.26</td>\n",
              "      <td>1366</td>\n",
              "    </tr>\n",
              "    <tr>\n",
              "      <th>...</th>\n",
              "      <td>...</td>\n",
              "      <td>...</td>\n",
              "      <td>...</td>\n",
              "      <td>...</td>\n",
              "      <td>...</td>\n",
              "      <td>...</td>\n",
              "      <td>...</td>\n",
              "      <td>...</td>\n",
              "      <td>...</td>\n",
              "      <td>...</td>\n",
              "      <td>...</td>\n",
              "      <td>...</td>\n",
              "      <td>...</td>\n",
              "      <td>...</td>\n",
              "      <td>...</td>\n",
              "    </tr>\n",
              "    <tr>\n",
              "      <th>726</th>\n",
              "      <td>0</td>\n",
              "      <td>6</td>\n",
              "      <td>6</td>\n",
              "      <td>8</td>\n",
              "      <td>1</td>\n",
              "      <td>8.3520</td>\n",
              "      <td>103.320000</td>\n",
              "      <td>39.06</td>\n",
              "      <td>3476.0</td>\n",
              "      <td>8.911200</td>\n",
              "      <td>3.0</td>\n",
              "      <td>18.500000</td>\n",
              "      <td>0</td>\n",
              "      <td>10.80</td>\n",
              "      <td>1125</td>\n",
              "    </tr>\n",
              "    <tr>\n",
              "      <th>727</th>\n",
              "      <td>0</td>\n",
              "      <td>6</td>\n",
              "      <td>6</td>\n",
              "      <td>8</td>\n",
              "      <td>1</td>\n",
              "      <td>6.3984</td>\n",
              "      <td>94.710000</td>\n",
              "      <td>39.38</td>\n",
              "      <td>3505.0</td>\n",
              "      <td>7.781800</td>\n",
              "      <td>2.4</td>\n",
              "      <td>18.400000</td>\n",
              "      <td>0</td>\n",
              "      <td>10.58</td>\n",
              "      <td>1128</td>\n",
              "    </tr>\n",
              "    <tr>\n",
              "      <th>728</th>\n",
              "      <td>0</td>\n",
              "      <td>6</td>\n",
              "      <td>6</td>\n",
              "      <td>8</td>\n",
              "      <td>1</td>\n",
              "      <td>6.2496</td>\n",
              "      <td>116.850000</td>\n",
              "      <td>39.88</td>\n",
              "      <td>3549.0</td>\n",
              "      <td>10.689800</td>\n",
              "      <td>3.0</td>\n",
              "      <td>18.800000</td>\n",
              "      <td>0</td>\n",
              "      <td>13.15</td>\n",
              "      <td>1123</td>\n",
              "    </tr>\n",
              "    <tr>\n",
              "      <th>729</th>\n",
              "      <td>0</td>\n",
              "      <td>6</td>\n",
              "      <td>6</td>\n",
              "      <td>8</td>\n",
              "      <td>1</td>\n",
              "      <td>7.7376</td>\n",
              "      <td>140.220000</td>\n",
              "      <td>39.56</td>\n",
              "      <td>3521.0</td>\n",
              "      <td>8.532000</td>\n",
              "      <td>3.0</td>\n",
              "      <td>18.700000</td>\n",
              "      <td>0</td>\n",
              "      <td>13.19</td>\n",
              "      <td>1122</td>\n",
              "    </tr>\n",
              "    <tr>\n",
              "      <th>730</th>\n",
              "      <td>0</td>\n",
              "      <td>6</td>\n",
              "      <td>6</td>\n",
              "      <td>8</td>\n",
              "      <td>1</td>\n",
              "      <td>6.9192</td>\n",
              "      <td>126.880000</td>\n",
              "      <td>39.40</td>\n",
              "      <td>3507.0</td>\n",
              "      <td>9.110400</td>\n",
              "      <td>3.0</td>\n",
              "      <td>18.700000</td>\n",
              "      <td>0</td>\n",
              "      <td>10.80</td>\n",
              "      <td>1124</td>\n",
              "    </tr>\n",
              "  </tbody>\n",
              "</table>\n",
              "<p>731 rows × 15 columns</p>\n",
              "</div>"
            ],
            "text/plain": [
              "     ID  REGION_CLUSTER  ...     S8  AGE_OF_EQUIPMENT\n",
              "0     0               6  ...   0.00               880\n",
              "1     0               6  ...  34.37              1363\n",
              "2     0               6  ...  32.37              1364\n",
              "3     0               6  ...  34.44              1365\n",
              "4     0               6  ...  33.26              1366\n",
              "..   ..             ...  ...    ...               ...\n",
              "726   0               6  ...  10.80              1125\n",
              "727   0               6  ...  10.58              1128\n",
              "728   0               6  ...  13.15              1123\n",
              "729   0               6  ...  13.19              1122\n",
              "730   0               6  ...  10.80              1124\n",
              "\n",
              "[731 rows x 15 columns]"
            ]
          },
          "metadata": {
            "tags": []
          },
          "execution_count": 52
        }
      ]
    },
    {
      "cell_type": "code",
      "metadata": {
        "colab": {
          "base_uri": "https://localhost:8080/",
          "height": 283
        },
        "id": "745ZMirhCAyB",
        "outputId": "b3022ce5-3f97-4806-b3ed-e6a02d3d3cf3"
      },
      "source": [
        "#I realized that this will be a huge memory burden to have over million entry matrix so i want to PCA first which is beneficial either way\n",
        "# the steep curve shows one column explains over 95% of the variance indicating our dataset is pretty useless\n",
        "from sklearn.decomposition import PCA\n",
        "pca = PCA(n_components=4)\n",
        "pca.fit(train)\n",
        "exp_var_cumul = np.cumsum(pca.explained_variance_ratio_)\n",
        "plt.plot(exp_var_cumul)"
      ],
      "execution_count": 26,
      "outputs": [
        {
          "output_type": "execute_result",
          "data": {
            "text/plain": [
              "[<matplotlib.lines.Line2D at 0x7f91e95f0110>]"
            ]
          },
          "metadata": {
            "tags": []
          },
          "execution_count": 26
        },
        {
          "output_type": "display_data",
          "data": {
            "image/png": "[encoded data removed]",
            "text/plain": [
              "<Figure size 432x288 with 1 Axes>"
            ]
          },
          "metadata": {
            "tags": [],
            "needs_background": "light"
          }
        }
      ]
    },
    {
      "cell_type": "code",
      "metadata": {
        "id": "xCZRSt3eHi8B"
      },
      "source": [
        "#So i decided to downsize to only two columns\n",
        "pca = PCA(n_components=2)\n",
        "trainpca = pca.fit_transform(scaled)\n",
        "trainpca = pd.DataFrame(trainpca)\n",
        "trainpca.columns = ['pc1','pc2']"
      ],
      "execution_count": 27,
      "outputs": []
    },
    {
      "cell_type": "code",
      "metadata": {
        "colab": {
          "base_uri": "https://localhost:8080/"
        },
        "id": "1yPibP9ullsP",
        "outputId": "dbe6ae06-2176-4092-a112-30ee9282b8e0"
      },
      "source": [
        "#split 300train 121 test\n",
        "X_train = trainpca.iloc[:731*300,:]\n",
        "X_test = trainpca.iloc[731*300:,:]\n",
        "print(X_train.shape, X_test.shape)"
      ],
      "execution_count": 28,
      "outputs": [
        {
          "output_type": "stream",
          "text": [
            "(219300, 2) (88451, 2)\n"
          ],
          "name": "stdout"
        }
      ]
    },
    {
      "cell_type": "code",
      "metadata": {
        "id": "8Blhf2q_S5XX"
      },
      "source": [
        "#we want to feed t-N steps up to failure to predict the t step and then we will classify that row\n",
        "reframed = series_to_supervised(X_train, 730, 1)"
      ],
      "execution_count": 29,
      "outputs": []
    },
    {
      "cell_type": "code",
      "metadata": {
        "colab": {
          "base_uri": "https://localhost:8080/",
          "height": 146
        },
        "id": "pDlyeTKNp0oy",
        "outputId": "9ce6db07-a3af-461f-96e9-cef151cf82c7"
      },
      "source": [
        "reframed.head(1)"
      ],
      "execution_count": 69,
      "outputs": [
        {
          "output_type": "execute_result",
          "data": {
            "text/html": [
              "<div>\n",
              "<style scoped>\n",
              "    .dataframe tbody tr th:only-of-type {\n",
              "        vertical-align: middle;\n",
              "    }\n",
              "\n",
              "    .dataframe tbody tr th {\n",
              "        vertical-align: top;\n",
              "    }\n",
              "\n",
              "    .dataframe thead th {\n",
              "        text-align: right;\n",
              "    }\n",
              "</style>\n",
              "<table border=\"1\" class=\"dataframe\">\n",
              "  <thead>\n",
              "    <tr style=\"text-align: right;\">\n",
              "      <th></th>\n",
              "      <th>var1(t-730)</th>\n",
              "      <th>var2(t-730)</th>\n",
              "      <th>var1(t-729)</th>\n",
              "      <th>var2(t-729)</th>\n",
              "      <th>var1(t-728)</th>\n",
              "      <th>var2(t-728)</th>\n",
              "      <th>var1(t-727)</th>\n",
              "      <th>var2(t-727)</th>\n",
              "      <th>var1(t-726)</th>\n",
              "      <th>var2(t-726)</th>\n",
              "      <th>var1(t-725)</th>\n",
              "      <th>var2(t-725)</th>\n",
              "      <th>var1(t-724)</th>\n",
              "      <th>var2(t-724)</th>\n",
              "      <th>var1(t-723)</th>\n",
              "      <th>var2(t-723)</th>\n",
              "      <th>var1(t-722)</th>\n",
              "      <th>var2(t-722)</th>\n",
              "      <th>var1(t-721)</th>\n",
              "      <th>var2(t-721)</th>\n",
              "      <th>var1(t-720)</th>\n",
              "      <th>var2(t-720)</th>\n",
              "      <th>var1(t-719)</th>\n",
              "      <th>var2(t-719)</th>\n",
              "      <th>var1(t-718)</th>\n",
              "      <th>var2(t-718)</th>\n",
              "      <th>var1(t-717)</th>\n",
              "      <th>var2(t-717)</th>\n",
              "      <th>var1(t-716)</th>\n",
              "      <th>var2(t-716)</th>\n",
              "      <th>var1(t-715)</th>\n",
              "      <th>var2(t-715)</th>\n",
              "      <th>var1(t-714)</th>\n",
              "      <th>var2(t-714)</th>\n",
              "      <th>var1(t-713)</th>\n",
              "      <th>var2(t-713)</th>\n",
              "      <th>var1(t-712)</th>\n",
              "      <th>var2(t-712)</th>\n",
              "      <th>var1(t-711)</th>\n",
              "      <th>var2(t-711)</th>\n",
              "      <th>...</th>\n",
              "      <th>var1(t-19)</th>\n",
              "      <th>var2(t-19)</th>\n",
              "      <th>var1(t-18)</th>\n",
              "      <th>var2(t-18)</th>\n",
              "      <th>var1(t-17)</th>\n",
              "      <th>var2(t-17)</th>\n",
              "      <th>var1(t-16)</th>\n",
              "      <th>var2(t-16)</th>\n",
              "      <th>var1(t-15)</th>\n",
              "      <th>var2(t-15)</th>\n",
              "      <th>var1(t-14)</th>\n",
              "      <th>var2(t-14)</th>\n",
              "      <th>var1(t-13)</th>\n",
              "      <th>var2(t-13)</th>\n",
              "      <th>var1(t-12)</th>\n",
              "      <th>var2(t-12)</th>\n",
              "      <th>var1(t-11)</th>\n",
              "      <th>var2(t-11)</th>\n",
              "      <th>var1(t-10)</th>\n",
              "      <th>var2(t-10)</th>\n",
              "      <th>var1(t-9)</th>\n",
              "      <th>var2(t-9)</th>\n",
              "      <th>var1(t-8)</th>\n",
              "      <th>var2(t-8)</th>\n",
              "      <th>var1(t-7)</th>\n",
              "      <th>var2(t-7)</th>\n",
              "      <th>var1(t-6)</th>\n",
              "      <th>var2(t-6)</th>\n",
              "      <th>var1(t-5)</th>\n",
              "      <th>var2(t-5)</th>\n",
              "      <th>var1(t-4)</th>\n",
              "      <th>var2(t-4)</th>\n",
              "      <th>var1(t-3)</th>\n",
              "      <th>var2(t-3)</th>\n",
              "      <th>var1(t-2)</th>\n",
              "      <th>var2(t-2)</th>\n",
              "      <th>var1(t-1)</th>\n",
              "      <th>var2(t-1)</th>\n",
              "      <th>var1(t)</th>\n",
              "      <th>var2(t)</th>\n",
              "    </tr>\n",
              "  </thead>\n",
              "  <tbody>\n",
              "    <tr>\n",
              "      <th>730</th>\n",
              "      <td>0.75173</td>\n",
              "      <td>0.3051</td>\n",
              "      <td>0.74935</td>\n",
              "      <td>0.308776</td>\n",
              "      <td>0.745765</td>\n",
              "      <td>0.315785</td>\n",
              "      <td>0.749632</td>\n",
              "      <td>0.310497</td>\n",
              "      <td>0.746838</td>\n",
              "      <td>0.312507</td>\n",
              "      <td>0.74621</td>\n",
              "      <td>0.314327</td>\n",
              "      <td>0.747188</td>\n",
              "      <td>0.317649</td>\n",
              "      <td>0.746131</td>\n",
              "      <td>0.314534</td>\n",
              "      <td>0.746688</td>\n",
              "      <td>0.312548</td>\n",
              "      <td>0.745318</td>\n",
              "      <td>0.319963</td>\n",
              "      <td>0.748008</td>\n",
              "      <td>0.309027</td>\n",
              "      <td>0.749007</td>\n",
              "      <td>0.314132</td>\n",
              "      <td>0.746499</td>\n",
              "      <td>0.314262</td>\n",
              "      <td>0.746878</td>\n",
              "      <td>0.318505</td>\n",
              "      <td>0.748484</td>\n",
              "      <td>0.313561</td>\n",
              "      <td>0.749778</td>\n",
              "      <td>0.306284</td>\n",
              "      <td>0.74619</td>\n",
              "      <td>0.31646</td>\n",
              "      <td>0.7456</td>\n",
              "      <td>0.31393</td>\n",
              "      <td>0.746505</td>\n",
              "      <td>0.316987</td>\n",
              "      <td>0.749031</td>\n",
              "      <td>0.313383</td>\n",
              "      <td>...</td>\n",
              "      <td>0.753665</td>\n",
              "      <td>0.299357</td>\n",
              "      <td>0.753519</td>\n",
              "      <td>0.300566</td>\n",
              "      <td>0.753789</td>\n",
              "      <td>0.300726</td>\n",
              "      <td>0.752908</td>\n",
              "      <td>0.301233</td>\n",
              "      <td>0.752717</td>\n",
              "      <td>0.302013</td>\n",
              "      <td>0.752633</td>\n",
              "      <td>0.316865</td>\n",
              "      <td>0.753569</td>\n",
              "      <td>0.29758</td>\n",
              "      <td>0.753154</td>\n",
              "      <td>0.300644</td>\n",
              "      <td>0.753711</td>\n",
              "      <td>0.297614</td>\n",
              "      <td>0.753358</td>\n",
              "      <td>0.299614</td>\n",
              "      <td>0.753145</td>\n",
              "      <td>0.304339</td>\n",
              "      <td>0.753721</td>\n",
              "      <td>0.303376</td>\n",
              "      <td>0.753127</td>\n",
              "      <td>0.302243</td>\n",
              "      <td>0.753015</td>\n",
              "      <td>0.302513</td>\n",
              "      <td>0.752813</td>\n",
              "      <td>0.305693</td>\n",
              "      <td>0.753035</td>\n",
              "      <td>0.302632</td>\n",
              "      <td>0.753693</td>\n",
              "      <td>0.303031</td>\n",
              "      <td>0.753858</td>\n",
              "      <td>0.298234</td>\n",
              "      <td>0.753261</td>\n",
              "      <td>0.302752</td>\n",
              "      <td>0.753587</td>\n",
              "      <td>0.301247</td>\n",
              "    </tr>\n",
              "  </tbody>\n",
              "</table>\n",
              "<p>1 rows × 1462 columns</p>\n",
              "</div>"
            ],
            "text/plain": [
              "     var1(t-730)  var2(t-730)  var1(t-729)  ...  var2(t-1)   var1(t)   var2(t)\n",
              "730      0.75173       0.3051      0.74935  ...   0.302752  0.753587  0.301247\n",
              "\n",
              "[1 rows x 1462 columns]"
            ]
          },
          "metadata": {
            "tags": []
          },
          "execution_count": 69
        }
      ]
    },
    {
      "cell_type": "code",
      "metadata": {
        "colab": {
          "base_uri": "https://localhost:8080/",
          "height": 456
        },
        "id": "Lf7m9_SrhaKx",
        "outputId": "d381243f-7456-4e12-c9fb-e1455a9d4f2e"
      },
      "source": [
        "y_train = reframed.iloc[:,-2:]\n",
        "reframed = reframed.drop(['var1(t)','var2(t)'],1)\n",
        "reframed"
      ],
      "execution_count": 30,
      "outputs": [
        {
          "output_type": "execute_result",
          "data": {
            "text/html": [
              "<div>\n",
              "<style scoped>\n",
              "    .dataframe tbody tr th:only-of-type {\n",
              "        vertical-align: middle;\n",
              "    }\n",
              "\n",
              "    .dataframe tbody tr th {\n",
              "        vertical-align: top;\n",
              "    }\n",
              "\n",
              "    .dataframe thead th {\n",
              "        text-align: right;\n",
              "    }\n",
              "</style>\n",
              "<table border=\"1\" class=\"dataframe\">\n",
              "  <thead>\n",
              "    <tr style=\"text-align: right;\">\n",
              "      <th></th>\n",
              "      <th>var1(t-730)</th>\n",
              "      <th>var2(t-730)</th>\n",
              "      <th>var1(t-729)</th>\n",
              "      <th>var2(t-729)</th>\n",
              "      <th>var1(t-728)</th>\n",
              "      <th>var2(t-728)</th>\n",
              "      <th>var1(t-727)</th>\n",
              "      <th>var2(t-727)</th>\n",
              "      <th>var1(t-726)</th>\n",
              "      <th>var2(t-726)</th>\n",
              "      <th>var1(t-725)</th>\n",
              "      <th>var2(t-725)</th>\n",
              "      <th>var1(t-724)</th>\n",
              "      <th>var2(t-724)</th>\n",
              "      <th>var1(t-723)</th>\n",
              "      <th>var2(t-723)</th>\n",
              "      <th>var1(t-722)</th>\n",
              "      <th>var2(t-722)</th>\n",
              "      <th>var1(t-721)</th>\n",
              "      <th>var2(t-721)</th>\n",
              "      <th>var1(t-720)</th>\n",
              "      <th>var2(t-720)</th>\n",
              "      <th>var1(t-719)</th>\n",
              "      <th>var2(t-719)</th>\n",
              "      <th>var1(t-718)</th>\n",
              "      <th>var2(t-718)</th>\n",
              "      <th>var1(t-717)</th>\n",
              "      <th>var2(t-717)</th>\n",
              "      <th>var1(t-716)</th>\n",
              "      <th>var2(t-716)</th>\n",
              "      <th>var1(t-715)</th>\n",
              "      <th>var2(t-715)</th>\n",
              "      <th>var1(t-714)</th>\n",
              "      <th>var2(t-714)</th>\n",
              "      <th>var1(t-713)</th>\n",
              "      <th>var2(t-713)</th>\n",
              "      <th>var1(t-712)</th>\n",
              "      <th>var2(t-712)</th>\n",
              "      <th>var1(t-711)</th>\n",
              "      <th>var2(t-711)</th>\n",
              "      <th>...</th>\n",
              "      <th>var1(t-20)</th>\n",
              "      <th>var2(t-20)</th>\n",
              "      <th>var1(t-19)</th>\n",
              "      <th>var2(t-19)</th>\n",
              "      <th>var1(t-18)</th>\n",
              "      <th>var2(t-18)</th>\n",
              "      <th>var1(t-17)</th>\n",
              "      <th>var2(t-17)</th>\n",
              "      <th>var1(t-16)</th>\n",
              "      <th>var2(t-16)</th>\n",
              "      <th>var1(t-15)</th>\n",
              "      <th>var2(t-15)</th>\n",
              "      <th>var1(t-14)</th>\n",
              "      <th>var2(t-14)</th>\n",
              "      <th>var1(t-13)</th>\n",
              "      <th>var2(t-13)</th>\n",
              "      <th>var1(t-12)</th>\n",
              "      <th>var2(t-12)</th>\n",
              "      <th>var1(t-11)</th>\n",
              "      <th>var2(t-11)</th>\n",
              "      <th>var1(t-10)</th>\n",
              "      <th>var2(t-10)</th>\n",
              "      <th>var1(t-9)</th>\n",
              "      <th>var2(t-9)</th>\n",
              "      <th>var1(t-8)</th>\n",
              "      <th>var2(t-8)</th>\n",
              "      <th>var1(t-7)</th>\n",
              "      <th>var2(t-7)</th>\n",
              "      <th>var1(t-6)</th>\n",
              "      <th>var2(t-6)</th>\n",
              "      <th>var1(t-5)</th>\n",
              "      <th>var2(t-5)</th>\n",
              "      <th>var1(t-4)</th>\n",
              "      <th>var2(t-4)</th>\n",
              "      <th>var1(t-3)</th>\n",
              "      <th>var2(t-3)</th>\n",
              "      <th>var1(t-2)</th>\n",
              "      <th>var2(t-2)</th>\n",
              "      <th>var1(t-1)</th>\n",
              "      <th>var2(t-1)</th>\n",
              "    </tr>\n",
              "  </thead>\n",
              "  <tbody>\n",
              "    <tr>\n",
              "      <th>730</th>\n",
              "      <td>0.751730</td>\n",
              "      <td>0.305100</td>\n",
              "      <td>0.749350</td>\n",
              "      <td>0.308776</td>\n",
              "      <td>0.745765</td>\n",
              "      <td>0.315785</td>\n",
              "      <td>0.749632</td>\n",
              "      <td>0.310497</td>\n",
              "      <td>0.746838</td>\n",
              "      <td>0.312507</td>\n",
              "      <td>0.746210</td>\n",
              "      <td>0.314327</td>\n",
              "      <td>0.747188</td>\n",
              "      <td>0.317649</td>\n",
              "      <td>0.746131</td>\n",
              "      <td>0.314534</td>\n",
              "      <td>0.746688</td>\n",
              "      <td>0.312548</td>\n",
              "      <td>0.745318</td>\n",
              "      <td>0.319963</td>\n",
              "      <td>0.748008</td>\n",
              "      <td>0.309027</td>\n",
              "      <td>0.749007</td>\n",
              "      <td>0.314132</td>\n",
              "      <td>0.746499</td>\n",
              "      <td>0.314262</td>\n",
              "      <td>0.746878</td>\n",
              "      <td>0.318505</td>\n",
              "      <td>0.748484</td>\n",
              "      <td>0.313561</td>\n",
              "      <td>0.749778</td>\n",
              "      <td>0.306284</td>\n",
              "      <td>0.746190</td>\n",
              "      <td>0.316460</td>\n",
              "      <td>0.745600</td>\n",
              "      <td>0.313930</td>\n",
              "      <td>0.746505</td>\n",
              "      <td>0.316987</td>\n",
              "      <td>0.749031</td>\n",
              "      <td>0.313383</td>\n",
              "      <td>...</td>\n",
              "      <td>0.753552</td>\n",
              "      <td>0.302730</td>\n",
              "      <td>0.753665</td>\n",
              "      <td>0.299357</td>\n",
              "      <td>0.753519</td>\n",
              "      <td>0.300566</td>\n",
              "      <td>0.753789</td>\n",
              "      <td>0.300726</td>\n",
              "      <td>0.752908</td>\n",
              "      <td>0.301233</td>\n",
              "      <td>0.752717</td>\n",
              "      <td>0.302013</td>\n",
              "      <td>0.752633</td>\n",
              "      <td>0.316865</td>\n",
              "      <td>0.753569</td>\n",
              "      <td>0.297580</td>\n",
              "      <td>0.753154</td>\n",
              "      <td>0.300644</td>\n",
              "      <td>0.753711</td>\n",
              "      <td>0.297614</td>\n",
              "      <td>0.753358</td>\n",
              "      <td>0.299614</td>\n",
              "      <td>0.753145</td>\n",
              "      <td>0.304339</td>\n",
              "      <td>0.753721</td>\n",
              "      <td>0.303376</td>\n",
              "      <td>0.753127</td>\n",
              "      <td>0.302243</td>\n",
              "      <td>0.753015</td>\n",
              "      <td>0.302513</td>\n",
              "      <td>0.752813</td>\n",
              "      <td>0.305693</td>\n",
              "      <td>0.753035</td>\n",
              "      <td>0.302632</td>\n",
              "      <td>0.753693</td>\n",
              "      <td>0.303031</td>\n",
              "      <td>0.753858</td>\n",
              "      <td>0.298234</td>\n",
              "      <td>0.753261</td>\n",
              "      <td>0.302752</td>\n",
              "    </tr>\n",
              "    <tr>\n",
              "      <th>731</th>\n",
              "      <td>0.749350</td>\n",
              "      <td>0.308776</td>\n",
              "      <td>0.745765</td>\n",
              "      <td>0.315785</td>\n",
              "      <td>0.749632</td>\n",
              "      <td>0.310497</td>\n",
              "      <td>0.746838</td>\n",
              "      <td>0.312507</td>\n",
              "      <td>0.746210</td>\n",
              "      <td>0.314327</td>\n",
              "      <td>0.747188</td>\n",
              "      <td>0.317649</td>\n",
              "      <td>0.746131</td>\n",
              "      <td>0.314534</td>\n",
              "      <td>0.746688</td>\n",
              "      <td>0.312548</td>\n",
              "      <td>0.745318</td>\n",
              "      <td>0.319963</td>\n",
              "      <td>0.748008</td>\n",
              "      <td>0.309027</td>\n",
              "      <td>0.749007</td>\n",
              "      <td>0.314132</td>\n",
              "      <td>0.746499</td>\n",
              "      <td>0.314262</td>\n",
              "      <td>0.746878</td>\n",
              "      <td>0.318505</td>\n",
              "      <td>0.748484</td>\n",
              "      <td>0.313561</td>\n",
              "      <td>0.749778</td>\n",
              "      <td>0.306284</td>\n",
              "      <td>0.746190</td>\n",
              "      <td>0.316460</td>\n",
              "      <td>0.745600</td>\n",
              "      <td>0.313930</td>\n",
              "      <td>0.746505</td>\n",
              "      <td>0.316987</td>\n",
              "      <td>0.749031</td>\n",
              "      <td>0.313383</td>\n",
              "      <td>0.747028</td>\n",
              "      <td>0.313485</td>\n",
              "      <td>...</td>\n",
              "      <td>0.753665</td>\n",
              "      <td>0.299357</td>\n",
              "      <td>0.753519</td>\n",
              "      <td>0.300566</td>\n",
              "      <td>0.753789</td>\n",
              "      <td>0.300726</td>\n",
              "      <td>0.752908</td>\n",
              "      <td>0.301233</td>\n",
              "      <td>0.752717</td>\n",
              "      <td>0.302013</td>\n",
              "      <td>0.752633</td>\n",
              "      <td>0.316865</td>\n",
              "      <td>0.753569</td>\n",
              "      <td>0.297580</td>\n",
              "      <td>0.753154</td>\n",
              "      <td>0.300644</td>\n",
              "      <td>0.753711</td>\n",
              "      <td>0.297614</td>\n",
              "      <td>0.753358</td>\n",
              "      <td>0.299614</td>\n",
              "      <td>0.753145</td>\n",
              "      <td>0.304339</td>\n",
              "      <td>0.753721</td>\n",
              "      <td>0.303376</td>\n",
              "      <td>0.753127</td>\n",
              "      <td>0.302243</td>\n",
              "      <td>0.753015</td>\n",
              "      <td>0.302513</td>\n",
              "      <td>0.752813</td>\n",
              "      <td>0.305693</td>\n",
              "      <td>0.753035</td>\n",
              "      <td>0.302632</td>\n",
              "      <td>0.753693</td>\n",
              "      <td>0.303031</td>\n",
              "      <td>0.753858</td>\n",
              "      <td>0.298234</td>\n",
              "      <td>0.753261</td>\n",
              "      <td>0.302752</td>\n",
              "      <td>0.753587</td>\n",
              "      <td>0.301247</td>\n",
              "    </tr>\n",
              "    <tr>\n",
              "      <th>732</th>\n",
              "      <td>0.745765</td>\n",
              "      <td>0.315785</td>\n",
              "      <td>0.749632</td>\n",
              "      <td>0.310497</td>\n",
              "      <td>0.746838</td>\n",
              "      <td>0.312507</td>\n",
              "      <td>0.746210</td>\n",
              "      <td>0.314327</td>\n",
              "      <td>0.747188</td>\n",
              "      <td>0.317649</td>\n",
              "      <td>0.746131</td>\n",
              "      <td>0.314534</td>\n",
              "      <td>0.746688</td>\n",
              "      <td>0.312548</td>\n",
              "      <td>0.745318</td>\n",
              "      <td>0.319963</td>\n",
              "      <td>0.748008</td>\n",
              "      <td>0.309027</td>\n",
              "      <td>0.749007</td>\n",
              "      <td>0.314132</td>\n",
              "      <td>0.746499</td>\n",
              "      <td>0.314262</td>\n",
              "      <td>0.746878</td>\n",
              "      <td>0.318505</td>\n",
              "      <td>0.748484</td>\n",
              "      <td>0.313561</td>\n",
              "      <td>0.749778</td>\n",
              "      <td>0.306284</td>\n",
              "      <td>0.746190</td>\n",
              "      <td>0.316460</td>\n",
              "      <td>0.745600</td>\n",
              "      <td>0.313930</td>\n",
              "      <td>0.746505</td>\n",
              "      <td>0.316987</td>\n",
              "      <td>0.749031</td>\n",
              "      <td>0.313383</td>\n",
              "      <td>0.747028</td>\n",
              "      <td>0.313485</td>\n",
              "      <td>0.748824</td>\n",
              "      <td>0.313440</td>\n",
              "      <td>...</td>\n",
              "      <td>0.753519</td>\n",
              "      <td>0.300566</td>\n",
              "      <td>0.753789</td>\n",
              "      <td>0.300726</td>\n",
              "      <td>0.752908</td>\n",
              "      <td>0.301233</td>\n",
              "      <td>0.752717</td>\n",
              "      <td>0.302013</td>\n",
              "      <td>0.752633</td>\n",
              "      <td>0.316865</td>\n",
              "      <td>0.753569</td>\n",
              "      <td>0.297580</td>\n",
              "      <td>0.753154</td>\n",
              "      <td>0.300644</td>\n",
              "      <td>0.753711</td>\n",
              "      <td>0.297614</td>\n",
              "      <td>0.753358</td>\n",
              "      <td>0.299614</td>\n",
              "      <td>0.753145</td>\n",
              "      <td>0.304339</td>\n",
              "      <td>0.753721</td>\n",
              "      <td>0.303376</td>\n",
              "      <td>0.753127</td>\n",
              "      <td>0.302243</td>\n",
              "      <td>0.753015</td>\n",
              "      <td>0.302513</td>\n",
              "      <td>0.752813</td>\n",
              "      <td>0.305693</td>\n",
              "      <td>0.753035</td>\n",
              "      <td>0.302632</td>\n",
              "      <td>0.753693</td>\n",
              "      <td>0.303031</td>\n",
              "      <td>0.753858</td>\n",
              "      <td>0.298234</td>\n",
              "      <td>0.753261</td>\n",
              "      <td>0.302752</td>\n",
              "      <td>0.753587</td>\n",
              "      <td>0.301247</td>\n",
              "      <td>-0.341799</td>\n",
              "      <td>0.150702</td>\n",
              "    </tr>\n",
              "    <tr>\n",
              "      <th>733</th>\n",
              "      <td>0.749632</td>\n",
              "      <td>0.310497</td>\n",
              "      <td>0.746838</td>\n",
              "      <td>0.312507</td>\n",
              "      <td>0.746210</td>\n",
              "      <td>0.314327</td>\n",
              "      <td>0.747188</td>\n",
              "      <td>0.317649</td>\n",
              "      <td>0.746131</td>\n",
              "      <td>0.314534</td>\n",
              "      <td>0.746688</td>\n",
              "      <td>0.312548</td>\n",
              "      <td>0.745318</td>\n",
              "      <td>0.319963</td>\n",
              "      <td>0.748008</td>\n",
              "      <td>0.309027</td>\n",
              "      <td>0.749007</td>\n",
              "      <td>0.314132</td>\n",
              "      <td>0.746499</td>\n",
              "      <td>0.314262</td>\n",
              "      <td>0.746878</td>\n",
              "      <td>0.318505</td>\n",
              "      <td>0.748484</td>\n",
              "      <td>0.313561</td>\n",
              "      <td>0.749778</td>\n",
              "      <td>0.306284</td>\n",
              "      <td>0.746190</td>\n",
              "      <td>0.316460</td>\n",
              "      <td>0.745600</td>\n",
              "      <td>0.313930</td>\n",
              "      <td>0.746505</td>\n",
              "      <td>0.316987</td>\n",
              "      <td>0.749031</td>\n",
              "      <td>0.313383</td>\n",
              "      <td>0.747028</td>\n",
              "      <td>0.313485</td>\n",
              "      <td>0.748824</td>\n",
              "      <td>0.313440</td>\n",
              "      <td>0.746525</td>\n",
              "      <td>0.317068</td>\n",
              "      <td>...</td>\n",
              "      <td>0.753789</td>\n",
              "      <td>0.300726</td>\n",
              "      <td>0.752908</td>\n",
              "      <td>0.301233</td>\n",
              "      <td>0.752717</td>\n",
              "      <td>0.302013</td>\n",
              "      <td>0.752633</td>\n",
              "      <td>0.316865</td>\n",
              "      <td>0.753569</td>\n",
              "      <td>0.297580</td>\n",
              "      <td>0.753154</td>\n",
              "      <td>0.300644</td>\n",
              "      <td>0.753711</td>\n",
              "      <td>0.297614</td>\n",
              "      <td>0.753358</td>\n",
              "      <td>0.299614</td>\n",
              "      <td>0.753145</td>\n",
              "      <td>0.304339</td>\n",
              "      <td>0.753721</td>\n",
              "      <td>0.303376</td>\n",
              "      <td>0.753127</td>\n",
              "      <td>0.302243</td>\n",
              "      <td>0.753015</td>\n",
              "      <td>0.302513</td>\n",
              "      <td>0.752813</td>\n",
              "      <td>0.305693</td>\n",
              "      <td>0.753035</td>\n",
              "      <td>0.302632</td>\n",
              "      <td>0.753693</td>\n",
              "      <td>0.303031</td>\n",
              "      <td>0.753858</td>\n",
              "      <td>0.298234</td>\n",
              "      <td>0.753261</td>\n",
              "      <td>0.302752</td>\n",
              "      <td>0.753587</td>\n",
              "      <td>0.301247</td>\n",
              "      <td>-0.341799</td>\n",
              "      <td>0.150702</td>\n",
              "      <td>-0.343483</td>\n",
              "      <td>0.154721</td>\n",
              "    </tr>\n",
              "    <tr>\n",
              "      <th>734</th>\n",
              "      <td>0.746838</td>\n",
              "      <td>0.312507</td>\n",
              "      <td>0.746210</td>\n",
              "      <td>0.314327</td>\n",
              "      <td>0.747188</td>\n",
              "      <td>0.317649</td>\n",
              "      <td>0.746131</td>\n",
              "      <td>0.314534</td>\n",
              "      <td>0.746688</td>\n",
              "      <td>0.312548</td>\n",
              "      <td>0.745318</td>\n",
              "      <td>0.319963</td>\n",
              "      <td>0.748008</td>\n",
              "      <td>0.309027</td>\n",
              "      <td>0.749007</td>\n",
              "      <td>0.314132</td>\n",
              "      <td>0.746499</td>\n",
              "      <td>0.314262</td>\n",
              "      <td>0.746878</td>\n",
              "      <td>0.318505</td>\n",
              "      <td>0.748484</td>\n",
              "      <td>0.313561</td>\n",
              "      <td>0.749778</td>\n",
              "      <td>0.306284</td>\n",
              "      <td>0.746190</td>\n",
              "      <td>0.316460</td>\n",
              "      <td>0.745600</td>\n",
              "      <td>0.313930</td>\n",
              "      <td>0.746505</td>\n",
              "      <td>0.316987</td>\n",
              "      <td>0.749031</td>\n",
              "      <td>0.313383</td>\n",
              "      <td>0.747028</td>\n",
              "      <td>0.313485</td>\n",
              "      <td>0.748824</td>\n",
              "      <td>0.313440</td>\n",
              "      <td>0.746525</td>\n",
              "      <td>0.317068</td>\n",
              "      <td>0.745868</td>\n",
              "      <td>0.317355</td>\n",
              "      <td>...</td>\n",
              "      <td>0.752908</td>\n",
              "      <td>0.301233</td>\n",
              "      <td>0.752717</td>\n",
              "      <td>0.302013</td>\n",
              "      <td>0.752633</td>\n",
              "      <td>0.316865</td>\n",
              "      <td>0.753569</td>\n",
              "      <td>0.297580</td>\n",
              "      <td>0.753154</td>\n",
              "      <td>0.300644</td>\n",
              "      <td>0.753711</td>\n",
              "      <td>0.297614</td>\n",
              "      <td>0.753358</td>\n",
              "      <td>0.299614</td>\n",
              "      <td>0.753145</td>\n",
              "      <td>0.304339</td>\n",
              "      <td>0.753721</td>\n",
              "      <td>0.303376</td>\n",
              "      <td>0.753127</td>\n",
              "      <td>0.302243</td>\n",
              "      <td>0.753015</td>\n",
              "      <td>0.302513</td>\n",
              "      <td>0.752813</td>\n",
              "      <td>0.305693</td>\n",
              "      <td>0.753035</td>\n",
              "      <td>0.302632</td>\n",
              "      <td>0.753693</td>\n",
              "      <td>0.303031</td>\n",
              "      <td>0.753858</td>\n",
              "      <td>0.298234</td>\n",
              "      <td>0.753261</td>\n",
              "      <td>0.302752</td>\n",
              "      <td>0.753587</td>\n",
              "      <td>0.301247</td>\n",
              "      <td>-0.341799</td>\n",
              "      <td>0.150702</td>\n",
              "      <td>-0.343483</td>\n",
              "      <td>0.154721</td>\n",
              "      <td>-0.342706</td>\n",
              "      <td>0.152712</td>\n",
              "    </tr>\n",
              "    <tr>\n",
              "      <th>...</th>\n",
              "      <td>...</td>\n",
              "      <td>...</td>\n",
              "      <td>...</td>\n",
              "      <td>...</td>\n",
              "      <td>...</td>\n",
              "      <td>...</td>\n",
              "      <td>...</td>\n",
              "      <td>...</td>\n",
              "      <td>...</td>\n",
              "      <td>...</td>\n",
              "      <td>...</td>\n",
              "      <td>...</td>\n",
              "      <td>...</td>\n",
              "      <td>...</td>\n",
              "      <td>...</td>\n",
              "      <td>...</td>\n",
              "      <td>...</td>\n",
              "      <td>...</td>\n",
              "      <td>...</td>\n",
              "      <td>...</td>\n",
              "      <td>...</td>\n",
              "      <td>...</td>\n",
              "      <td>...</td>\n",
              "      <td>...</td>\n",
              "      <td>...</td>\n",
              "      <td>...</td>\n",
              "      <td>...</td>\n",
              "      <td>...</td>\n",
              "      <td>...</td>\n",
              "      <td>...</td>\n",
              "      <td>...</td>\n",
              "      <td>...</td>\n",
              "      <td>...</td>\n",
              "      <td>...</td>\n",
              "      <td>...</td>\n",
              "      <td>...</td>\n",
              "      <td>...</td>\n",
              "      <td>...</td>\n",
              "      <td>...</td>\n",
              "      <td>...</td>\n",
              "      <td>...</td>\n",
              "      <td>...</td>\n",
              "      <td>...</td>\n",
              "      <td>...</td>\n",
              "      <td>...</td>\n",
              "      <td>...</td>\n",
              "      <td>...</td>\n",
              "      <td>...</td>\n",
              "      <td>...</td>\n",
              "      <td>...</td>\n",
              "      <td>...</td>\n",
              "      <td>...</td>\n",
              "      <td>...</td>\n",
              "      <td>...</td>\n",
              "      <td>...</td>\n",
              "      <td>...</td>\n",
              "      <td>...</td>\n",
              "      <td>...</td>\n",
              "      <td>...</td>\n",
              "      <td>...</td>\n",
              "      <td>...</td>\n",
              "      <td>...</td>\n",
              "      <td>...</td>\n",
              "      <td>...</td>\n",
              "      <td>...</td>\n",
              "      <td>...</td>\n",
              "      <td>...</td>\n",
              "      <td>...</td>\n",
              "      <td>...</td>\n",
              "      <td>...</td>\n",
              "      <td>...</td>\n",
              "      <td>...</td>\n",
              "      <td>...</td>\n",
              "      <td>...</td>\n",
              "      <td>...</td>\n",
              "      <td>...</td>\n",
              "      <td>...</td>\n",
              "      <td>...</td>\n",
              "      <td>...</td>\n",
              "      <td>...</td>\n",
              "      <td>...</td>\n",
              "    </tr>\n",
              "    <tr>\n",
              "      <th>219295</th>\n",
              "      <td>-0.268725</td>\n",
              "      <td>0.224715</td>\n",
              "      <td>-0.269241</td>\n",
              "      <td>0.222816</td>\n",
              "      <td>-0.268825</td>\n",
              "      <td>0.226330</td>\n",
              "      <td>-0.267877</td>\n",
              "      <td>0.227837</td>\n",
              "      <td>-0.270780</td>\n",
              "      <td>-0.041657</td>\n",
              "      <td>-0.270224</td>\n",
              "      <td>-0.039692</td>\n",
              "      <td>-0.270462</td>\n",
              "      <td>-0.033741</td>\n",
              "      <td>-0.270277</td>\n",
              "      <td>-0.036446</td>\n",
              "      <td>-0.271835</td>\n",
              "      <td>-0.032068</td>\n",
              "      <td>-0.270377</td>\n",
              "      <td>-0.032402</td>\n",
              "      <td>-0.269921</td>\n",
              "      <td>-0.036308</td>\n",
              "      <td>-0.271155</td>\n",
              "      <td>-0.030133</td>\n",
              "      <td>-0.270112</td>\n",
              "      <td>-0.037301</td>\n",
              "      <td>-0.269667</td>\n",
              "      <td>-0.037295</td>\n",
              "      <td>-0.271445</td>\n",
              "      <td>-0.029455</td>\n",
              "      <td>-0.271190</td>\n",
              "      <td>-0.030422</td>\n",
              "      <td>-0.271318</td>\n",
              "      <td>-0.030536</td>\n",
              "      <td>-0.270869</td>\n",
              "      <td>-0.036937</td>\n",
              "      <td>-0.272697</td>\n",
              "      <td>-0.033821</td>\n",
              "      <td>-0.273966</td>\n",
              "      <td>-0.032481</td>\n",
              "      <td>...</td>\n",
              "      <td>-0.275347</td>\n",
              "      <td>-0.025608</td>\n",
              "      <td>-0.269879</td>\n",
              "      <td>-0.037356</td>\n",
              "      <td>-0.278741</td>\n",
              "      <td>-0.020209</td>\n",
              "      <td>-0.280181</td>\n",
              "      <td>-0.022577</td>\n",
              "      <td>-0.269173</td>\n",
              "      <td>-0.040032</td>\n",
              "      <td>-0.274251</td>\n",
              "      <td>-0.029698</td>\n",
              "      <td>-0.277711</td>\n",
              "      <td>-0.025216</td>\n",
              "      <td>-0.277577</td>\n",
              "      <td>-0.023094</td>\n",
              "      <td>-0.279384</td>\n",
              "      <td>-0.019000</td>\n",
              "      <td>-0.276930</td>\n",
              "      <td>-0.028224</td>\n",
              "      <td>-0.278474</td>\n",
              "      <td>-0.020645</td>\n",
              "      <td>-0.275646</td>\n",
              "      <td>-0.027130</td>\n",
              "      <td>-0.274225</td>\n",
              "      <td>-0.025689</td>\n",
              "      <td>-0.269024</td>\n",
              "      <td>-0.038321</td>\n",
              "      <td>-0.269003</td>\n",
              "      <td>-0.037947</td>\n",
              "      <td>-0.268936</td>\n",
              "      <td>-0.039653</td>\n",
              "      <td>-0.281297</td>\n",
              "      <td>-0.015927</td>\n",
              "      <td>-0.278175</td>\n",
              "      <td>-0.026567</td>\n",
              "      <td>-0.279498</td>\n",
              "      <td>-0.018315</td>\n",
              "      <td>-0.278593</td>\n",
              "      <td>-0.020642</td>\n",
              "    </tr>\n",
              "    <tr>\n",
              "      <th>219296</th>\n",
              "      <td>-0.269241</td>\n",
              "      <td>0.222816</td>\n",
              "      <td>-0.268825</td>\n",
              "      <td>0.226330</td>\n",
              "      <td>-0.267877</td>\n",
              "      <td>0.227837</td>\n",
              "      <td>-0.270780</td>\n",
              "      <td>-0.041657</td>\n",
              "      <td>-0.270224</td>\n",
              "      <td>-0.039692</td>\n",
              "      <td>-0.270462</td>\n",
              "      <td>-0.033741</td>\n",
              "      <td>-0.270277</td>\n",
              "      <td>-0.036446</td>\n",
              "      <td>-0.271835</td>\n",
              "      <td>-0.032068</td>\n",
              "      <td>-0.270377</td>\n",
              "      <td>-0.032402</td>\n",
              "      <td>-0.269921</td>\n",
              "      <td>-0.036308</td>\n",
              "      <td>-0.271155</td>\n",
              "      <td>-0.030133</td>\n",
              "      <td>-0.270112</td>\n",
              "      <td>-0.037301</td>\n",
              "      <td>-0.269667</td>\n",
              "      <td>-0.037295</td>\n",
              "      <td>-0.271445</td>\n",
              "      <td>-0.029455</td>\n",
              "      <td>-0.271190</td>\n",
              "      <td>-0.030422</td>\n",
              "      <td>-0.271318</td>\n",
              "      <td>-0.030536</td>\n",
              "      <td>-0.270869</td>\n",
              "      <td>-0.036937</td>\n",
              "      <td>-0.272697</td>\n",
              "      <td>-0.033821</td>\n",
              "      <td>-0.273966</td>\n",
              "      <td>-0.032481</td>\n",
              "      <td>-0.278940</td>\n",
              "      <td>-0.017785</td>\n",
              "      <td>...</td>\n",
              "      <td>-0.269879</td>\n",
              "      <td>-0.037356</td>\n",
              "      <td>-0.278741</td>\n",
              "      <td>-0.020209</td>\n",
              "      <td>-0.280181</td>\n",
              "      <td>-0.022577</td>\n",
              "      <td>-0.269173</td>\n",
              "      <td>-0.040032</td>\n",
              "      <td>-0.274251</td>\n",
              "      <td>-0.029698</td>\n",
              "      <td>-0.277711</td>\n",
              "      <td>-0.025216</td>\n",
              "      <td>-0.277577</td>\n",
              "      <td>-0.023094</td>\n",
              "      <td>-0.279384</td>\n",
              "      <td>-0.019000</td>\n",
              "      <td>-0.276930</td>\n",
              "      <td>-0.028224</td>\n",
              "      <td>-0.278474</td>\n",
              "      <td>-0.020645</td>\n",
              "      <td>-0.275646</td>\n",
              "      <td>-0.027130</td>\n",
              "      <td>-0.274225</td>\n",
              "      <td>-0.025689</td>\n",
              "      <td>-0.269024</td>\n",
              "      <td>-0.038321</td>\n",
              "      <td>-0.269003</td>\n",
              "      <td>-0.037947</td>\n",
              "      <td>-0.268936</td>\n",
              "      <td>-0.039653</td>\n",
              "      <td>-0.281297</td>\n",
              "      <td>-0.015927</td>\n",
              "      <td>-0.278175</td>\n",
              "      <td>-0.026567</td>\n",
              "      <td>-0.279498</td>\n",
              "      <td>-0.018315</td>\n",
              "      <td>-0.278593</td>\n",
              "      <td>-0.020642</td>\n",
              "      <td>-0.279965</td>\n",
              "      <td>-0.021757</td>\n",
              "    </tr>\n",
              "    <tr>\n",
              "      <th>219297</th>\n",
              "      <td>-0.268825</td>\n",
              "      <td>0.226330</td>\n",
              "      <td>-0.267877</td>\n",
              "      <td>0.227837</td>\n",
              "      <td>-0.270780</td>\n",
              "      <td>-0.041657</td>\n",
              "      <td>-0.270224</td>\n",
              "      <td>-0.039692</td>\n",
              "      <td>-0.270462</td>\n",
              "      <td>-0.033741</td>\n",
              "      <td>-0.270277</td>\n",
              "      <td>-0.036446</td>\n",
              "      <td>-0.271835</td>\n",
              "      <td>-0.032068</td>\n",
              "      <td>-0.270377</td>\n",
              "      <td>-0.032402</td>\n",
              "      <td>-0.269921</td>\n",
              "      <td>-0.036308</td>\n",
              "      <td>-0.271155</td>\n",
              "      <td>-0.030133</td>\n",
              "      <td>-0.270112</td>\n",
              "      <td>-0.037301</td>\n",
              "      <td>-0.269667</td>\n",
              "      <td>-0.037295</td>\n",
              "      <td>-0.271445</td>\n",
              "      <td>-0.029455</td>\n",
              "      <td>-0.271190</td>\n",
              "      <td>-0.030422</td>\n",
              "      <td>-0.271318</td>\n",
              "      <td>-0.030536</td>\n",
              "      <td>-0.270869</td>\n",
              "      <td>-0.036937</td>\n",
              "      <td>-0.272697</td>\n",
              "      <td>-0.033821</td>\n",
              "      <td>-0.273966</td>\n",
              "      <td>-0.032481</td>\n",
              "      <td>-0.278940</td>\n",
              "      <td>-0.017785</td>\n",
              "      <td>-0.277507</td>\n",
              "      <td>-0.021855</td>\n",
              "      <td>...</td>\n",
              "      <td>-0.278741</td>\n",
              "      <td>-0.020209</td>\n",
              "      <td>-0.280181</td>\n",
              "      <td>-0.022577</td>\n",
              "      <td>-0.269173</td>\n",
              "      <td>-0.040032</td>\n",
              "      <td>-0.274251</td>\n",
              "      <td>-0.029698</td>\n",
              "      <td>-0.277711</td>\n",
              "      <td>-0.025216</td>\n",
              "      <td>-0.277577</td>\n",
              "      <td>-0.023094</td>\n",
              "      <td>-0.279384</td>\n",
              "      <td>-0.019000</td>\n",
              "      <td>-0.276930</td>\n",
              "      <td>-0.028224</td>\n",
              "      <td>-0.278474</td>\n",
              "      <td>-0.020645</td>\n",
              "      <td>-0.275646</td>\n",
              "      <td>-0.027130</td>\n",
              "      <td>-0.274225</td>\n",
              "      <td>-0.025689</td>\n",
              "      <td>-0.269024</td>\n",
              "      <td>-0.038321</td>\n",
              "      <td>-0.269003</td>\n",
              "      <td>-0.037947</td>\n",
              "      <td>-0.268936</td>\n",
              "      <td>-0.039653</td>\n",
              "      <td>-0.281297</td>\n",
              "      <td>-0.015927</td>\n",
              "      <td>-0.278175</td>\n",
              "      <td>-0.026567</td>\n",
              "      <td>-0.279498</td>\n",
              "      <td>-0.018315</td>\n",
              "      <td>-0.278593</td>\n",
              "      <td>-0.020642</td>\n",
              "      <td>-0.279965</td>\n",
              "      <td>-0.021757</td>\n",
              "      <td>-0.277387</td>\n",
              "      <td>-0.025105</td>\n",
              "    </tr>\n",
              "    <tr>\n",
              "      <th>219298</th>\n",
              "      <td>-0.267877</td>\n",
              "      <td>0.227837</td>\n",
              "      <td>-0.270780</td>\n",
              "      <td>-0.041657</td>\n",
              "      <td>-0.270224</td>\n",
              "      <td>-0.039692</td>\n",
              "      <td>-0.270462</td>\n",
              "      <td>-0.033741</td>\n",
              "      <td>-0.270277</td>\n",
              "      <td>-0.036446</td>\n",
              "      <td>-0.271835</td>\n",
              "      <td>-0.032068</td>\n",
              "      <td>-0.270377</td>\n",
              "      <td>-0.032402</td>\n",
              "      <td>-0.269921</td>\n",
              "      <td>-0.036308</td>\n",
              "      <td>-0.271155</td>\n",
              "      <td>-0.030133</td>\n",
              "      <td>-0.270112</td>\n",
              "      <td>-0.037301</td>\n",
              "      <td>-0.269667</td>\n",
              "      <td>-0.037295</td>\n",
              "      <td>-0.271445</td>\n",
              "      <td>-0.029455</td>\n",
              "      <td>-0.271190</td>\n",
              "      <td>-0.030422</td>\n",
              "      <td>-0.271318</td>\n",
              "      <td>-0.030536</td>\n",
              "      <td>-0.270869</td>\n",
              "      <td>-0.036937</td>\n",
              "      <td>-0.272697</td>\n",
              "      <td>-0.033821</td>\n",
              "      <td>-0.273966</td>\n",
              "      <td>-0.032481</td>\n",
              "      <td>-0.278940</td>\n",
              "      <td>-0.017785</td>\n",
              "      <td>-0.277507</td>\n",
              "      <td>-0.021855</td>\n",
              "      <td>-0.275919</td>\n",
              "      <td>-0.026312</td>\n",
              "      <td>...</td>\n",
              "      <td>-0.280181</td>\n",
              "      <td>-0.022577</td>\n",
              "      <td>-0.269173</td>\n",
              "      <td>-0.040032</td>\n",
              "      <td>-0.274251</td>\n",
              "      <td>-0.029698</td>\n",
              "      <td>-0.277711</td>\n",
              "      <td>-0.025216</td>\n",
              "      <td>-0.277577</td>\n",
              "      <td>-0.023094</td>\n",
              "      <td>-0.279384</td>\n",
              "      <td>-0.019000</td>\n",
              "      <td>-0.276930</td>\n",
              "      <td>-0.028224</td>\n",
              "      <td>-0.278474</td>\n",
              "      <td>-0.020645</td>\n",
              "      <td>-0.275646</td>\n",
              "      <td>-0.027130</td>\n",
              "      <td>-0.274225</td>\n",
              "      <td>-0.025689</td>\n",
              "      <td>-0.269024</td>\n",
              "      <td>-0.038321</td>\n",
              "      <td>-0.269003</td>\n",
              "      <td>-0.037947</td>\n",
              "      <td>-0.268936</td>\n",
              "      <td>-0.039653</td>\n",
              "      <td>-0.281297</td>\n",
              "      <td>-0.015927</td>\n",
              "      <td>-0.278175</td>\n",
              "      <td>-0.026567</td>\n",
              "      <td>-0.279498</td>\n",
              "      <td>-0.018315</td>\n",
              "      <td>-0.278593</td>\n",
              "      <td>-0.020642</td>\n",
              "      <td>-0.279965</td>\n",
              "      <td>-0.021757</td>\n",
              "      <td>-0.277387</td>\n",
              "      <td>-0.025105</td>\n",
              "      <td>-0.277612</td>\n",
              "      <td>-0.029438</td>\n",
              "    </tr>\n",
              "    <tr>\n",
              "      <th>219299</th>\n",
              "      <td>-0.270780</td>\n",
              "      <td>-0.041657</td>\n",
              "      <td>-0.270224</td>\n",
              "      <td>-0.039692</td>\n",
              "      <td>-0.270462</td>\n",
              "      <td>-0.033741</td>\n",
              "      <td>-0.270277</td>\n",
              "      <td>-0.036446</td>\n",
              "      <td>-0.271835</td>\n",
              "      <td>-0.032068</td>\n",
              "      <td>-0.270377</td>\n",
              "      <td>-0.032402</td>\n",
              "      <td>-0.269921</td>\n",
              "      <td>-0.036308</td>\n",
              "      <td>-0.271155</td>\n",
              "      <td>-0.030133</td>\n",
              "      <td>-0.270112</td>\n",
              "      <td>-0.037301</td>\n",
              "      <td>-0.269667</td>\n",
              "      <td>-0.037295</td>\n",
              "      <td>-0.271445</td>\n",
              "      <td>-0.029455</td>\n",
              "      <td>-0.271190</td>\n",
              "      <td>-0.030422</td>\n",
              "      <td>-0.271318</td>\n",
              "      <td>-0.030536</td>\n",
              "      <td>-0.270869</td>\n",
              "      <td>-0.036937</td>\n",
              "      <td>-0.272697</td>\n",
              "      <td>-0.033821</td>\n",
              "      <td>-0.273966</td>\n",
              "      <td>-0.032481</td>\n",
              "      <td>-0.278940</td>\n",
              "      <td>-0.017785</td>\n",
              "      <td>-0.277507</td>\n",
              "      <td>-0.021855</td>\n",
              "      <td>-0.275919</td>\n",
              "      <td>-0.026312</td>\n",
              "      <td>-0.272978</td>\n",
              "      <td>-0.029427</td>\n",
              "      <td>...</td>\n",
              "      <td>-0.269173</td>\n",
              "      <td>-0.040032</td>\n",
              "      <td>-0.274251</td>\n",
              "      <td>-0.029698</td>\n",
              "      <td>-0.277711</td>\n",
              "      <td>-0.025216</td>\n",
              "      <td>-0.277577</td>\n",
              "      <td>-0.023094</td>\n",
              "      <td>-0.279384</td>\n",
              "      <td>-0.019000</td>\n",
              "      <td>-0.276930</td>\n",
              "      <td>-0.028224</td>\n",
              "      <td>-0.278474</td>\n",
              "      <td>-0.020645</td>\n",
              "      <td>-0.275646</td>\n",
              "      <td>-0.027130</td>\n",
              "      <td>-0.274225</td>\n",
              "      <td>-0.025689</td>\n",
              "      <td>-0.269024</td>\n",
              "      <td>-0.038321</td>\n",
              "      <td>-0.269003</td>\n",
              "      <td>-0.037947</td>\n",
              "      <td>-0.268936</td>\n",
              "      <td>-0.039653</td>\n",
              "      <td>-0.281297</td>\n",
              "      <td>-0.015927</td>\n",
              "      <td>-0.278175</td>\n",
              "      <td>-0.026567</td>\n",
              "      <td>-0.279498</td>\n",
              "      <td>-0.018315</td>\n",
              "      <td>-0.278593</td>\n",
              "      <td>-0.020642</td>\n",
              "      <td>-0.279965</td>\n",
              "      <td>-0.021757</td>\n",
              "      <td>-0.277387</td>\n",
              "      <td>-0.025105</td>\n",
              "      <td>-0.277612</td>\n",
              "      <td>-0.029438</td>\n",
              "      <td>-0.277362</td>\n",
              "      <td>-0.024961</td>\n",
              "    </tr>\n",
              "  </tbody>\n",
              "</table>\n",
              "<p>218570 rows × 1460 columns</p>\n",
              "</div>"
            ],
            "text/plain": [
              "        var1(t-730)  var2(t-730)  var1(t-729)  ...  var2(t-2)  var1(t-1)  var2(t-1)\n",
              "730        0.751730     0.305100     0.749350  ...   0.298234   0.753261   0.302752\n",
              "731        0.749350     0.308776     0.745765  ...   0.302752   0.753587   0.301247\n",
              "732        0.745765     0.315785     0.749632  ...   0.301247  -0.341799   0.150702\n",
              "733        0.749632     0.310497     0.746838  ...   0.150702  -0.343483   0.154721\n",
              "734        0.746838     0.312507     0.746210  ...   0.154721  -0.342706   0.152712\n",
              "...             ...          ...          ...  ...        ...        ...        ...\n",
              "219295    -0.268725     0.224715    -0.269241  ...  -0.018315  -0.278593  -0.020642\n",
              "219296    -0.269241     0.222816    -0.268825  ...  -0.020642  -0.279965  -0.021757\n",
              "219297    -0.268825     0.226330    -0.267877  ...  -0.021757  -0.277387  -0.025105\n",
              "219298    -0.267877     0.227837    -0.270780  ...  -0.025105  -0.277612  -0.029438\n",
              "219299    -0.270780    -0.041657    -0.270224  ...  -0.029438  -0.277362  -0.024961\n",
              "\n",
              "[218570 rows x 1460 columns]"
            ]
          },
          "metadata": {
            "tags": []
          },
          "execution_count": 30
        }
      ]
    },
    {
      "cell_type": "code",
      "metadata": {
        "id": "NfstXbrUlX84"
      },
      "source": [
        "#I want to train on first 300 machines then predict the unseen 121"
      ],
      "execution_count": null,
      "outputs": []
    },
    {
      "cell_type": "code",
      "metadata": {
        "colab": {
          "base_uri": "https://localhost:8080/"
        },
        "id": "0gxzPRkSqFDZ",
        "outputId": "742d6b2d-77bc-455a-f43b-386b09d1125d"
      },
      "source": [
        "y.shape"
      ],
      "execution_count": 71,
      "outputs": [
        {
          "output_type": "execute_result",
          "data": {
            "text/plain": [
              "(218570, 2)"
            ]
          },
          "metadata": {
            "tags": []
          },
          "execution_count": 71
        }
      ]
    },
    {
      "cell_type": "code",
      "metadata": {
        "id": "IP3qfbm4arYG"
      },
      "source": [
        "print(X_train.shape, y_train.shape, X_test.shape, y_test.shape)"
      ],
      "execution_count": null,
      "outputs": []
    },
    {
      "cell_type": "code",
      "metadata": {
        "colab": {
          "base_uri": "https://localhost:8080/"
        },
        "id": "-ejUr8iLaTxb",
        "outputId": "5af66e70-c187-4d47-f9f8-71bffed68787"
      },
      "source": [
        "X_train = reframed.values.reshape((-1, 730, 2))\n",
        "#X_test = X_test.values.reshape((-1, 1, 2))\n",
        "print(X_train.shape)#, y_train.shape, X_test.shape, y_test.shape)"
      ],
      "execution_count": 31,
      "outputs": [
        {
          "output_type": "stream",
          "text": [
            "(218570, 730, 2)\n"
          ],
          "name": "stdout"
        }
      ]
    },
    {
      "cell_type": "code",
      "metadata": {
        "colab": {
          "base_uri": "https://localhost:8080/"
        },
        "id": "vftmY_y4dl_V",
        "outputId": "10e874e5-4fc2-43b8-c144-756dbfcccf96"
      },
      "source": [
        "model = Sequential()\n",
        "model.add(LSTM(50, input_shape=(X_train.shape[1], X_train.shape[2])))\n",
        "model.add(Dense(1))\n",
        "model.compile(loss='mae', optimizer='adam')\n",
        "# fit network\n",
        "history = model.fit(X_train, y_train, epochs=3, batch_size=10, verbose=3, shuffle=False)"
      ],
      "execution_count": 33,
      "outputs": [
        {
          "output_type": "stream",
          "text": [
            "Epoch 1/3\n",
            "Epoch 2/3\n",
            "Epoch 3/3\n"
          ],
          "name": "stdout"
        }
      ]
    },
    {
      "cell_type": "code",
      "metadata": {
        "id": "l_dN7Wr05u_G"
      },
      "source": [
        "reframed_test = series_to_supervised(X_test, 730, 1)"
      ],
      "execution_count": null,
      "outputs": []
    },
    {
      "cell_type": "code",
      "metadata": {
        "id": "G1nd6Mtd4mIU"
      },
      "source": [
        "X_test = reframed_test.values.reshape((-1,730,2))\n",
        "print(X_test.shape)\n",
        "pred = model.predict(X_test)\n",
        "from sklearn.metrics import mean_squared_error\n",
        "mean_squared_error(y_test, pred)"
      ],
      "execution_count": null,
      "outputs": []
    },
    {
      "cell_type": "code",
      "metadata": {
        "id": "6tolKnTh6n_F"
      },
      "source": [
        "#8GB colab ram crashed at this point but i'll complete the pipeline anyway for a later trial on a cloud."
      ],
      "execution_count": null,
      "outputs": []
    },
    {
      "cell_type": "code",
      "metadata": {
        "id": "ByXcxpsK6-t5"
      },
      "source": [
        "#Here we tried to see how well we predict the pca_data to further make classification on that.\n",
        "#A correction to be made is changing the target from a fixed 731th data to the point of failure.\n",
        "#TO DO LATER LIST\n",
        "#analyze sensor series, denoise, add features like moving avg, std etc.\n",
        "#try one hot encoding etc.\n",
        "#try CNNs"
      ],
      "execution_count": null,
      "outputs": []
    }
  ]
}